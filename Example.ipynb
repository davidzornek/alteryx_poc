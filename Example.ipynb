{
 "cells": [
  {
   "cell_type": "markdown",
   "id": "37879202-8ddd-469a-adea-b855bf187b07",
   "metadata": {},
   "source": [
    "### Note before importing\n",
    "This first cell of imports will take a few minutes to execute. I make use of a vector store, and to keep the scope of this project limited to the purpose of the exercise, I'm building a local vector index of a PDF file downlooaded from the web instead of setting up an online and figuring out how to grant access, etc."
   ]
  },
  {
   "cell_type": "code",
   "execution_count": 1,
   "id": "ba44ac36-d096-48a5-a3a4-dcea3d984d87",
   "metadata": {},
   "outputs": [],
   "source": [
    "import logging\n",
    "\n",
    "from dotenv import load_dotenv\n",
    "from griptape.drivers import OpenAiChatPromptDriver\n",
    "\n",
    "load_dotenv()\n",
    "\n",
    "from alteryx_poc.agent import AlteryxAgent"
   ]
  },
  {
   "cell_type": "markdown",
   "id": "451c9c80-82cd-4458-af99-7f74904ed3e6",
   "metadata": {},
   "source": [
    "# Problem solving approach\n",
    "Pretrained LLMs that support function calling are already equipped with the ability to respond \"I don't know.\" when they cannot find answers to a question by ReAct prompting and require no additional training data or fine-tuning to do so (although fine-tuning may yield improvements in other areas).\n",
    "\n",
    "### Summary of Prompt\n",
    "- Instructs the AI to act truthfully and not make up facts.\n",
    "- Defines a set of topics the AI is able to discuss.\n",
    "- Equips the AI with a set of tools or actions in may take in discussing those topics.\n",
    "- A prohibition of responding with anything other than \"I don't know\" when the user asks a question that no associated tool can answer.\n",
    "\n",
    "### Why it works\n",
    "The set of tools effectively defines the universe of what the chatbot knows, and it can be expanded simply by equipping the model with more tools. By using an LLM equipped with function calling, the AI is able to use tools to interact with in-memory objects, external data sources, etc.\n",
    "\n",
    "See the full react prompt tepmlate at `altyrex_poc/templates/react.j2`. (I think it can probably be shortened quite a bit, but I haven't really tried.)"
   ]
  },
  {
   "cell_type": "markdown",
   "id": "a01f6f68-fd9a-4eff-a15c-09d9e70be581",
   "metadata": {},
   "source": [
    "# AlteryxAgent\n",
    "This class acts as the main point of interaction with the chat model. Here, we use \"gpt-3.5-turbo-0613\" since it's cheap, seems to work well for this, and has a large context window to handle passing tool schema.\n",
    "\n",
    "`AlteryxAgent` knows only how to perform arithmetic and answer questions about Dungeons & Dragons. Anything else falls outside AI's domain of knowledge and elecitis \"I don't know.\" (or sometimes some variant meaning it doesn't know.\n",
    "\n",
    "### Unreliability after repeated requests\n",
    "Occasionally, the model will hallucinate and answer questions it's not supposed to, or attempt to utilize a tool inappropriately, but these instances seem rare. Hallucinations seem to become more common as more questions are repeatedly asked to the same agent. I think this is because conversation memory that gets passed as part of the full prompt accumulates over time, so that the initial constraints we define in the basic system prompt get \"lost\" in the noise. If that is the cause, it could be mitigated by buffering the conversation memory.\n",
    "\n",
    "Setting the model to GPT-4 does seem to mitigate the problem quite a bit. But due to GPT-4's strict rate limiting, using tools will sometimes cause rate limit warnings and repeated retries."
   ]
  },
  {
   "cell_type": "code",
   "execution_count": 2,
   "id": "80226f9e-6b84-49a7-a9ef-37dfb651606f",
   "metadata": {},
   "outputs": [],
   "source": [
    "agent = AlteryxAgent(\n",
    "    logger_level=logging.INFO, \n",
    "    prompt_driver=OpenAiChatPromptDriver(\n",
    "        # model=\"gpt-4\",\n",
    "        model=\"gpt-3.5-turbo-0613\",\n",
    "        max_tokens=500,\n",
    "        temperature=0,\n",
    "    ),\n",
    ")"
   ]
  },
  {
   "cell_type": "markdown",
   "id": "ec97059e-3b0c-491e-8dd4-192887b26bd3",
   "metadata": {},
   "source": [
    "### Demo 1\n",
    "Start with a couple of questions we know the answer to, but the bot shouldn't."
   ]
  },
  {
   "cell_type": "code",
   "execution_count": 3,
   "id": "81e07115-7072-401d-b671-6b7dfb0783ff",
   "metadata": {},
   "outputs": [
    {
     "data": {
      "text/html": [
       "<pre style=\"white-space:pre;overflow-x:auto;line-height:normal;font-family:Menlo,'DejaVu Sans Mono',consolas,'Courier New',monospace\"><span style=\"color: #7fbfbf; text-decoration-color: #7fbfbf\">[10/17/23 19:03:52] </span><span style=\"color: #000080; text-decoration-color: #000080\">INFO    </span> AlteryxToolkitTask 69df4ec04c5c426fbf0340d6a87f8bcd                                   \n",
       "<span style=\"color: #7fbfbf; text-decoration-color: #7fbfbf\">                    </span>         Input: What is the capital of Illinois?                                               \n",
       "</pre>\n"
      ],
      "text/plain": [
       "\u001b[2;36m[10/17/23 19:03:52]\u001b[0m\u001b[2;36m \u001b[0m\u001b[34mINFO    \u001b[0m AlteryxToolkitTask 69df4ec04c5c426fbf0340d6a87f8bcd                                   \n",
       "\u001b[2;36m                    \u001b[0m         Input: What is the capital of Illinois?                                               \n"
      ]
     },
     "metadata": {},
     "output_type": "display_data"
    },
    {
     "data": {
      "text/html": [
       "<pre style=\"white-space:pre;overflow-x:auto;line-height:normal;font-family:Menlo,'DejaVu Sans Mono',consolas,'Courier New',monospace\"><span style=\"color: #7fbfbf; text-decoration-color: #7fbfbf\">[10/17/23 19:03:54] </span><span style=\"color: #000080; text-decoration-color: #000080\">INFO    </span> AlteryxToolkitTask 69df4ec04c5c426fbf0340d6a87f8bcd                                   \n",
       "<span style=\"color: #7fbfbf; text-decoration-color: #7fbfbf\">                    </span>         Output: I don't know.                                                                 \n",
       "</pre>\n"
      ],
      "text/plain": [
       "\u001b[2;36m[10/17/23 19:03:54]\u001b[0m\u001b[2;36m \u001b[0m\u001b[34mINFO    \u001b[0m AlteryxToolkitTask 69df4ec04c5c426fbf0340d6a87f8bcd                                   \n",
       "\u001b[2;36m                    \u001b[0m         Output: I don't know.                                                                 \n"
      ]
     },
     "metadata": {},
     "output_type": "display_data"
    }
   ],
   "source": [
    "response = agent.run(\"What is the capital of Illinois?\")"
   ]
  },
  {
   "cell_type": "code",
   "execution_count": 4,
   "id": "e2e623b2-3b8b-4f4b-86a3-91cf38d7fc30",
   "metadata": {},
   "outputs": [
    {
     "data": {
      "text/html": [
       "<pre style=\"white-space:pre;overflow-x:auto;line-height:normal;font-family:Menlo,'DejaVu Sans Mono',consolas,'Courier New',monospace\"><span style=\"color: #7fbfbf; text-decoration-color: #7fbfbf\">[10/17/23 19:03:59] </span><span style=\"color: #000080; text-decoration-color: #000080\">INFO    </span> AlteryxToolkitTask 69df4ec04c5c426fbf0340d6a87f8bcd                                   \n",
       "<span style=\"color: #7fbfbf; text-decoration-color: #7fbfbf\">                    </span>         Input: Who wrote The Fall of the House of Usher?                                      \n",
       "</pre>\n"
      ],
      "text/plain": [
       "\u001b[2;36m[10/17/23 19:03:59]\u001b[0m\u001b[2;36m \u001b[0m\u001b[34mINFO    \u001b[0m AlteryxToolkitTask 69df4ec04c5c426fbf0340d6a87f8bcd                                   \n",
       "\u001b[2;36m                    \u001b[0m         Input: Who wrote The Fall of the House of Usher?                                      \n"
      ]
     },
     "metadata": {},
     "output_type": "display_data"
    },
    {
     "data": {
      "text/html": [
       "<pre style=\"white-space:pre;overflow-x:auto;line-height:normal;font-family:Menlo,'DejaVu Sans Mono',consolas,'Courier New',monospace\"><span style=\"color: #7fbfbf; text-decoration-color: #7fbfbf\">                    </span><span style=\"color: #000080; text-decoration-color: #000080\">INFO    </span> AlteryxToolkitTask 69df4ec04c5c426fbf0340d6a87f8bcd                                   \n",
       "<span style=\"color: #7fbfbf; text-decoration-color: #7fbfbf\">                    </span>         Output: I don't know.                                                                 \n",
       "</pre>\n"
      ],
      "text/plain": [
       "\u001b[2;36m                   \u001b[0m\u001b[2;36m \u001b[0m\u001b[34mINFO    \u001b[0m AlteryxToolkitTask 69df4ec04c5c426fbf0340d6a87f8bcd                                   \n",
       "\u001b[2;36m                    \u001b[0m         Output: I don't know.                                                                 \n"
      ]
     },
     "metadata": {},
     "output_type": "display_data"
    }
   ],
   "source": [
    "response = agent.run(\"Who wrote The Fall of the House of Usher?\")"
   ]
  },
  {
   "cell_type": "markdown",
   "id": "af0824a2-e675-4798-80b2-a1c7c90db3a7",
   "metadata": {},
   "source": [
    "### Demo 2\n",
    "Now a question that would be hard for us to answer, but is right within the bot's domain."
   ]
  },
  {
   "cell_type": "code",
   "execution_count": 5,
   "id": "4693227d-b355-424c-b434-35164c6ed702",
   "metadata": {},
   "outputs": [
    {
     "data": {
      "text/html": [
       "<pre style=\"white-space:pre;overflow-x:auto;line-height:normal;font-family:Menlo,'DejaVu Sans Mono',consolas,'Courier New',monospace\"><span style=\"color: #7fbfbf; text-decoration-color: #7fbfbf\">[10/17/23 19:04:02] </span><span style=\"color: #000080; text-decoration-color: #000080\">INFO    </span> AlteryxToolkitTask 69df4ec04c5c426fbf0340d6a87f8bcd                                   \n",
       "<span style=\"color: #7fbfbf; text-decoration-color: #7fbfbf\">                    </span>         Input: What is <span style=\"color: #008080; text-decoration-color: #008080; font-weight: bold\">156.5345</span> times <span style=\"color: #008080; text-decoration-color: #008080; font-weight: bold\">2345</span> divided by <span style=\"color: #008080; text-decoration-color: #008080; font-weight: bold\">12345</span>?                                  \n",
       "</pre>\n"
      ],
      "text/plain": [
       "\u001b[2;36m[10/17/23 19:04:02]\u001b[0m\u001b[2;36m \u001b[0m\u001b[34mINFO    \u001b[0m AlteryxToolkitTask 69df4ec04c5c426fbf0340d6a87f8bcd                                   \n",
       "\u001b[2;36m                    \u001b[0m         Input: What is \u001b[1;36m156.5345\u001b[0m times \u001b[1;36m2345\u001b[0m divided by \u001b[1;36m12345\u001b[0m?                                  \n"
      ]
     },
     "metadata": {},
     "output_type": "display_data"
    },
    {
     "data": {
      "text/html": [
       "<pre style=\"white-space:pre;overflow-x:auto;line-height:normal;font-family:Menlo,'DejaVu Sans Mono',consolas,'Courier New',monospace\"><span style=\"color: #7fbfbf; text-decoration-color: #7fbfbf\">[10/17/23 19:04:05] </span><span style=\"color: #000080; text-decoration-color: #000080\">INFO    </span> Subtask 5613b498302b49b696e73f5a1ebcc1d8                                              \n",
       "<span style=\"color: #7fbfbf; text-decoration-color: #7fbfbf\">                    </span>         Thought: I can use the Calculator tool to calculate the expression.                   \n",
       "<span style=\"color: #7fbfbf; text-decoration-color: #7fbfbf\">                    </span>                                                                                               \n",
       "<span style=\"color: #7fbfbf; text-decoration-color: #7fbfbf\">                    </span>         Action: <span style=\"font-weight: bold\">{</span><span style=\"color: #008000; text-decoration-color: #008000\">\"type\"</span>: <span style=\"color: #008000; text-decoration-color: #008000\">\"tool\"</span>, <span style=\"color: #008000; text-decoration-color: #008000\">\"name\"</span>: <span style=\"color: #008000; text-decoration-color: #008000\">\"Calculator\"</span>, <span style=\"color: #008000; text-decoration-color: #008000\">\"activity\"</span>: <span style=\"color: #008000; text-decoration-color: #008000\">\"calculate\"</span>, <span style=\"color: #008000; text-decoration-color: #008000\">\"input\"</span>:      \n",
       "<span style=\"color: #7fbfbf; text-decoration-color: #7fbfbf\">                    </span>         <span style=\"font-weight: bold\">{</span><span style=\"color: #008000; text-decoration-color: #008000\">\"values\"</span>: <span style=\"font-weight: bold\">{</span><span style=\"color: #008000; text-decoration-color: #008000\">\"expression\"</span>: <span style=\"color: #008000; text-decoration-color: #008000\">\"156.5345 * 2345 / 12345\"</span><span style=\"font-weight: bold\">}}}</span>                                \n",
       "</pre>\n"
      ],
      "text/plain": [
       "\u001b[2;36m[10/17/23 19:04:05]\u001b[0m\u001b[2;36m \u001b[0m\u001b[34mINFO    \u001b[0m Subtask 5613b498302b49b696e73f5a1ebcc1d8                                              \n",
       "\u001b[2;36m                    \u001b[0m         Thought: I can use the Calculator tool to calculate the expression.                   \n",
       "\u001b[2;36m                    \u001b[0m                                                                                               \n",
       "\u001b[2;36m                    \u001b[0m         Action: \u001b[1m{\u001b[0m\u001b[32m\"type\"\u001b[0m: \u001b[32m\"tool\"\u001b[0m, \u001b[32m\"name\"\u001b[0m: \u001b[32m\"Calculator\"\u001b[0m, \u001b[32m\"activity\"\u001b[0m: \u001b[32m\"calculate\"\u001b[0m, \u001b[32m\"input\"\u001b[0m:      \n",
       "\u001b[2;36m                    \u001b[0m         \u001b[1m{\u001b[0m\u001b[32m\"values\"\u001b[0m: \u001b[1m{\u001b[0m\u001b[32m\"expression\"\u001b[0m: \u001b[32m\"156.5345 * 2345 / 12345\"\u001b[0m\u001b[1m}\u001b[0m\u001b[1m}\u001b[0m\u001b[1m}\u001b[0m                                \n"
      ]
     },
     "metadata": {},
     "output_type": "display_data"
    },
    {
     "data": {
      "text/html": [
       "<pre style=\"white-space:pre;overflow-x:auto;line-height:normal;font-family:Menlo,'DejaVu Sans Mono',consolas,'Courier New',monospace\"><span style=\"color: #7fbfbf; text-decoration-color: #7fbfbf\">                    </span><span style=\"color: #000080; text-decoration-color: #000080\">INFO    </span> Subtask 5613b498302b49b696e73f5a1ebcc1d8                                              \n",
       "<span style=\"color: #7fbfbf; text-decoration-color: #7fbfbf\">                    </span>         Observation: <span style=\"color: #008080; text-decoration-color: #008080; font-weight: bold\">29.734581004455247</span>                                                       \n",
       "</pre>\n"
      ],
      "text/plain": [
       "\u001b[2;36m                   \u001b[0m\u001b[2;36m \u001b[0m\u001b[34mINFO    \u001b[0m Subtask 5613b498302b49b696e73f5a1ebcc1d8                                              \n",
       "\u001b[2;36m                    \u001b[0m         Observation: \u001b[1;36m29.734581004455247\u001b[0m                                                       \n"
      ]
     },
     "metadata": {},
     "output_type": "display_data"
    },
    {
     "data": {
      "text/html": [
       "<pre style=\"white-space:pre;overflow-x:auto;line-height:normal;font-family:Menlo,'DejaVu Sans Mono',consolas,'Courier New',monospace\"><span style=\"color: #7fbfbf; text-decoration-color: #7fbfbf\">[10/17/23 19:04:07] </span><span style=\"color: #000080; text-decoration-color: #000080\">INFO    </span> AlteryxToolkitTask 69df4ec04c5c426fbf0340d6a87f8bcd                                   \n",
       "<span style=\"color: #7fbfbf; text-decoration-color: #7fbfbf\">                    </span>         Output: The result of <span style=\"color: #008080; text-decoration-color: #008080; font-weight: bold\">156.5345</span> times <span style=\"color: #008080; text-decoration-color: #008080; font-weight: bold\">2345</span> divided by <span style=\"color: #008080; text-decoration-color: #008080; font-weight: bold\">12345</span> is approximately <span style=\"color: #008080; text-decoration-color: #008080; font-weight: bold\">29.7346</span>.  \n",
       "</pre>\n"
      ],
      "text/plain": [
       "\u001b[2;36m[10/17/23 19:04:07]\u001b[0m\u001b[2;36m \u001b[0m\u001b[34mINFO    \u001b[0m AlteryxToolkitTask 69df4ec04c5c426fbf0340d6a87f8bcd                                   \n",
       "\u001b[2;36m                    \u001b[0m         Output: The result of \u001b[1;36m156.5345\u001b[0m times \u001b[1;36m2345\u001b[0m divided by \u001b[1;36m12345\u001b[0m is approximately \u001b[1;36m29.7346\u001b[0m.  \n"
      ]
     },
     "metadata": {},
     "output_type": "display_data"
    }
   ],
   "source": [
    "response = agent.run(\"What is 156.5345 times 2345 divided by 12345?\")"
   ]
  },
  {
   "cell_type": "markdown",
   "id": "5c6f88ef-8717-454f-b483-a4a6ac2328ca",
   "metadata": {},
   "source": [
    "### Demo 3\n",
    "Now a question that draws on a specific domain of knowledge that has been provided to it in a vector store of the D&D rules."
   ]
  },
  {
   "cell_type": "code",
   "execution_count": 6,
   "id": "d4a1e983-d0c1-4e2e-b7bb-d992033bb4cb",
   "metadata": {},
   "outputs": [
    {
     "data": {
      "text/html": [
       "<pre style=\"white-space:pre;overflow-x:auto;line-height:normal;font-family:Menlo,'DejaVu Sans Mono',consolas,'Courier New',monospace\"><span style=\"color: #7fbfbf; text-decoration-color: #7fbfbf\">                    </span><span style=\"color: #000080; text-decoration-color: #000080\">INFO    </span> AlteryxToolkitTask 69df4ec04c5c426fbf0340d6a87f8bcd                                   \n",
       "<span style=\"color: #7fbfbf; text-decoration-color: #7fbfbf\">                    </span>         Input: What does magic missile do in D&amp;D 5e?                                          \n",
       "</pre>\n"
      ],
      "text/plain": [
       "\u001b[2;36m                   \u001b[0m\u001b[2;36m \u001b[0m\u001b[34mINFO    \u001b[0m AlteryxToolkitTask 69df4ec04c5c426fbf0340d6a87f8bcd                                   \n",
       "\u001b[2;36m                    \u001b[0m         Input: What does magic missile do in D&D 5e?                                          \n"
      ]
     },
     "metadata": {},
     "output_type": "display_data"
    },
    {
     "data": {
      "text/html": [
       "<pre style=\"white-space:pre;overflow-x:auto;line-height:normal;font-family:Menlo,'DejaVu Sans Mono',consolas,'Courier New',monospace\"><span style=\"color: #7fbfbf; text-decoration-color: #7fbfbf\">[10/17/23 19:04:10] </span><span style=\"color: #000080; text-decoration-color: #000080\">INFO    </span> Subtask 20ebd627e2fc47878b5b6834469ba8a2                                              \n",
       "<span style=\"color: #7fbfbf; text-decoration-color: #7fbfbf\">                    </span>         Thought: I can use the SRDVectors tool to find the information about the spell <span style=\"color: #008000; text-decoration-color: #008000\">\"magic </span>\n",
       "<span style=\"color: #7fbfbf; text-decoration-color: #7fbfbf\">                    </span>         <span style=\"color: #008000; text-decoration-color: #008000\">missile\"</span> in D&amp;D 5e.                                                                   \n",
       "<span style=\"color: #7fbfbf; text-decoration-color: #7fbfbf\">                    </span>                                                                                               \n",
       "<span style=\"color: #7fbfbf; text-decoration-color: #7fbfbf\">                    </span>         Action: <span style=\"font-weight: bold\">{</span><span style=\"color: #008000; text-decoration-color: #008000\">\"type\"</span>: <span style=\"color: #008000; text-decoration-color: #008000\">\"tool\"</span>, <span style=\"color: #008000; text-decoration-color: #008000\">\"name\"</span>: <span style=\"color: #008000; text-decoration-color: #008000\">\"SRDVectors\"</span>, <span style=\"color: #008000; text-decoration-color: #008000\">\"activity\"</span>: <span style=\"color: #008000; text-decoration-color: #008000\">\"query_srd_vectors\"</span>,       \n",
       "<span style=\"color: #7fbfbf; text-decoration-color: #7fbfbf\">                    </span>         <span style=\"color: #008000; text-decoration-color: #008000\">\"input\"</span>: <span style=\"font-weight: bold\">{</span><span style=\"color: #008000; text-decoration-color: #008000\">\"values\"</span>: <span style=\"font-weight: bold\">{</span><span style=\"color: #008000; text-decoration-color: #008000\">\"query\"</span>: <span style=\"color: #008000; text-decoration-color: #008000\">\"What does magic missile do in D&amp;D 5e?\"</span><span style=\"font-weight: bold\">}}}</span>              \n",
       "</pre>\n"
      ],
      "text/plain": [
       "\u001b[2;36m[10/17/23 19:04:10]\u001b[0m\u001b[2;36m \u001b[0m\u001b[34mINFO    \u001b[0m Subtask 20ebd627e2fc47878b5b6834469ba8a2                                              \n",
       "\u001b[2;36m                    \u001b[0m         Thought: I can use the SRDVectors tool to find the information about the spell \u001b[32m\"magic \u001b[0m\n",
       "\u001b[2;36m                    \u001b[0m         \u001b[32mmissile\"\u001b[0m in D&D 5e.                                                                   \n",
       "\u001b[2;36m                    \u001b[0m                                                                                               \n",
       "\u001b[2;36m                    \u001b[0m         Action: \u001b[1m{\u001b[0m\u001b[32m\"type\"\u001b[0m: \u001b[32m\"tool\"\u001b[0m, \u001b[32m\"name\"\u001b[0m: \u001b[32m\"SRDVectors\"\u001b[0m, \u001b[32m\"activity\"\u001b[0m: \u001b[32m\"query_srd_vectors\"\u001b[0m,       \n",
       "\u001b[2;36m                    \u001b[0m         \u001b[32m\"input\"\u001b[0m: \u001b[1m{\u001b[0m\u001b[32m\"values\"\u001b[0m: \u001b[1m{\u001b[0m\u001b[32m\"query\"\u001b[0m: \u001b[32m\"What does magic missile do in D&D 5e?\"\u001b[0m\u001b[1m}\u001b[0m\u001b[1m}\u001b[0m\u001b[1m}\u001b[0m              \n"
      ]
     },
     "metadata": {},
     "output_type": "display_data"
    },
    {
     "data": {
      "text/html": [
       "<pre style=\"white-space:pre;overflow-x:auto;line-height:normal;font-family:Menlo,'DejaVu Sans Mono',consolas,'Courier New',monospace\"><span style=\"color: #7fbfbf; text-decoration-color: #7fbfbf\">[10/17/23 19:04:14] </span><span style=\"color: #000080; text-decoration-color: #000080\">INFO    </span> Subtask 20ebd627e2fc47878b5b6834469ba8a2                                              \n",
       "<span style=\"color: #7fbfbf; text-decoration-color: #7fbfbf\">                    </span>         Observation: Output of <span style=\"color: #008000; text-decoration-color: #008000\">\"SRDVectors.query_srd_vectors\"</span> was stored in memory with       \n",
       "<span style=\"color: #7fbfbf; text-decoration-color: #7fbfbf\">                    </span>         memory_name <span style=\"color: #008000; text-decoration-color: #008000\">\"TextToolMemory\"</span> and artifact_namespace <span style=\"color: #008000; text-decoration-color: #008000\">\"fd0c83a04b824ab38c515c8e7d099689\"</span>\n",
       "</pre>\n"
      ],
      "text/plain": [
       "\u001b[2;36m[10/17/23 19:04:14]\u001b[0m\u001b[2;36m \u001b[0m\u001b[34mINFO    \u001b[0m Subtask 20ebd627e2fc47878b5b6834469ba8a2                                              \n",
       "\u001b[2;36m                    \u001b[0m         Observation: Output of \u001b[32m\"SRDVectors.query_srd_vectors\"\u001b[0m was stored in memory with       \n",
       "\u001b[2;36m                    \u001b[0m         memory_name \u001b[32m\"TextToolMemory\"\u001b[0m and artifact_namespace \u001b[32m\"fd0c83a04b824ab38c515c8e7d099689\"\u001b[0m\n"
      ]
     },
     "metadata": {},
     "output_type": "display_data"
    },
    {
     "data": {
      "text/html": [
       "<pre style=\"white-space:pre;overflow-x:auto;line-height:normal;font-family:Menlo,'DejaVu Sans Mono',consolas,'Courier New',monospace\"><span style=\"color: #7fbfbf; text-decoration-color: #7fbfbf\">[10/17/23 19:04:18] </span><span style=\"color: #000080; text-decoration-color: #000080\">INFO    </span> Subtask e0283b976ae441e2a994b0431d3eeb6c                                              \n",
       "<span style=\"color: #7fbfbf; text-decoration-color: #7fbfbf\">                    </span>         Thought: I can use the TextToolMemory tool to search for the information about the    \n",
       "<span style=\"color: #7fbfbf; text-decoration-color: #7fbfbf\">                    </span>         spell <span style=\"color: #008000; text-decoration-color: #008000\">\"magic missile\"</span> in the stored output.                                           \n",
       "<span style=\"color: #7fbfbf; text-decoration-color: #7fbfbf\">                    </span>         Action: <span style=\"font-weight: bold\">{</span><span style=\"color: #008000; text-decoration-color: #008000\">\"type\"</span>: <span style=\"color: #008000; text-decoration-color: #008000\">\"memory\"</span>, <span style=\"color: #008000; text-decoration-color: #008000\">\"name\"</span>: <span style=\"color: #008000; text-decoration-color: #008000\">\"TextToolMemory\"</span>, <span style=\"color: #008000; text-decoration-color: #008000\">\"activity\"</span>: <span style=\"color: #008000; text-decoration-color: #008000\">\"search\"</span>, <span style=\"color: #008000; text-decoration-color: #008000\">\"input\"</span>:   \n",
       "<span style=\"color: #7fbfbf; text-decoration-color: #7fbfbf\">                    </span>         <span style=\"font-weight: bold\">{</span><span style=\"color: #008000; text-decoration-color: #008000\">\"values\"</span>: <span style=\"font-weight: bold\">{</span><span style=\"color: #008000; text-decoration-color: #008000\">\"memory_name\"</span>: <span style=\"color: #008000; text-decoration-color: #008000\">\"TextToolMemory\"</span>, <span style=\"color: #008000; text-decoration-color: #008000\">\"artifact_namespace\"</span>:                    \n",
       "<span style=\"color: #7fbfbf; text-decoration-color: #7fbfbf\">                    </span>         <span style=\"color: #008000; text-decoration-color: #008000\">\"fd0c83a04b824ab38c515c8e7d099689\"</span>, <span style=\"color: #008000; text-decoration-color: #008000\">\"query\"</span>: <span style=\"color: #008000; text-decoration-color: #008000\">\"What does magic missile do in D&amp;D </span>      \n",
       "<span style=\"color: #7fbfbf; text-decoration-color: #7fbfbf\">                    </span>         <span style=\"color: #008000; text-decoration-color: #008000\">5e?\"</span><span style=\"font-weight: bold\">}}}</span>                                                                               \n",
       "</pre>\n"
      ],
      "text/plain": [
       "\u001b[2;36m[10/17/23 19:04:18]\u001b[0m\u001b[2;36m \u001b[0m\u001b[34mINFO    \u001b[0m Subtask e0283b976ae441e2a994b0431d3eeb6c                                              \n",
       "\u001b[2;36m                    \u001b[0m         Thought: I can use the TextToolMemory tool to search for the information about the    \n",
       "\u001b[2;36m                    \u001b[0m         spell \u001b[32m\"magic missile\"\u001b[0m in the stored output.                                           \n",
       "\u001b[2;36m                    \u001b[0m         Action: \u001b[1m{\u001b[0m\u001b[32m\"type\"\u001b[0m: \u001b[32m\"memory\"\u001b[0m, \u001b[32m\"name\"\u001b[0m: \u001b[32m\"TextToolMemory\"\u001b[0m, \u001b[32m\"activity\"\u001b[0m: \u001b[32m\"search\"\u001b[0m, \u001b[32m\"input\"\u001b[0m:   \n",
       "\u001b[2;36m                    \u001b[0m         \u001b[1m{\u001b[0m\u001b[32m\"values\"\u001b[0m: \u001b[1m{\u001b[0m\u001b[32m\"memory_name\"\u001b[0m: \u001b[32m\"TextToolMemory\"\u001b[0m, \u001b[32m\"artifact_namespace\"\u001b[0m:                    \n",
       "\u001b[2;36m                    \u001b[0m         \u001b[32m\"fd0c83a04b824ab38c515c8e7d099689\"\u001b[0m, \u001b[32m\"query\"\u001b[0m: \u001b[32m\"What does magic missile do in D&D \u001b[0m      \n",
       "\u001b[2;36m                    \u001b[0m         \u001b[32m5e?\"\u001b[0m\u001b[1m}\u001b[0m\u001b[1m}\u001b[0m\u001b[1m}\u001b[0m                                                                               \n"
      ]
     },
     "metadata": {},
     "output_type": "display_data"
    },
    {
     "data": {
      "text/html": [
       "<pre style=\"white-space:pre;overflow-x:auto;line-height:normal;font-family:Menlo,'DejaVu Sans Mono',consolas,'Courier New',monospace\"><span style=\"color: #7fbfbf; text-decoration-color: #7fbfbf\">[10/17/23 19:04:20] </span><span style=\"color: #000080; text-decoration-color: #000080\">INFO    </span> Subtask e0283b976ae441e2a994b0431d3eeb6c                                              \n",
       "<span style=\"color: #7fbfbf; text-decoration-color: #7fbfbf\">                    </span>         Observation: Magic Missile in D&amp;D 5e is a 1st level spell that allows the caster to   \n",
       "<span style=\"color: #7fbfbf; text-decoration-color: #7fbfbf\">                    </span>         create three glowing darts of magical force. These darts automatically hit their      \n",
       "<span style=\"color: #7fbfbf; text-decoration-color: #7fbfbf\">                    </span>         targets and each dart deals force damage. The damage of each dart increases as the    \n",
       "<span style=\"color: #7fbfbf; text-decoration-color: #7fbfbf\">                    </span>         caster gains higher spell slots.                                                      \n",
       "</pre>\n"
      ],
      "text/plain": [
       "\u001b[2;36m[10/17/23 19:04:20]\u001b[0m\u001b[2;36m \u001b[0m\u001b[34mINFO    \u001b[0m Subtask e0283b976ae441e2a994b0431d3eeb6c                                              \n",
       "\u001b[2;36m                    \u001b[0m         Observation: Magic Missile in D&D 5e is a 1st level spell that allows the caster to   \n",
       "\u001b[2;36m                    \u001b[0m         create three glowing darts of magical force. These darts automatically hit their      \n",
       "\u001b[2;36m                    \u001b[0m         targets and each dart deals force damage. The damage of each dart increases as the    \n",
       "\u001b[2;36m                    \u001b[0m         caster gains higher spell slots.                                                      \n"
      ]
     },
     "metadata": {},
     "output_type": "display_data"
    },
    {
     "data": {
      "text/html": [
       "<pre style=\"white-space:pre;overflow-x:auto;line-height:normal;font-family:Menlo,'DejaVu Sans Mono',consolas,'Courier New',monospace\"><span style=\"color: #7fbfbf; text-decoration-color: #7fbfbf\">[10/17/23 19:04:22] </span><span style=\"color: #000080; text-decoration-color: #000080\">INFO    </span> AlteryxToolkitTask 69df4ec04c5c426fbf0340d6a87f8bcd                                   \n",
       "<span style=\"color: #7fbfbf; text-decoration-color: #7fbfbf\">                    </span>         Output: In D&amp;D 5e, magic missile is a 1st level spell that allows the caster to create\n",
       "<span style=\"color: #7fbfbf; text-decoration-color: #7fbfbf\">                    </span>         three glowing darts of magical force. These darts automatically hit their targets and \n",
       "<span style=\"color: #7fbfbf; text-decoration-color: #7fbfbf\">                    </span>         each dart deals force damage. The damage of each dart increases as the caster gains   \n",
       "<span style=\"color: #7fbfbf; text-decoration-color: #7fbfbf\">                    </span>         higher spell slots.                                                                   \n",
       "</pre>\n"
      ],
      "text/plain": [
       "\u001b[2;36m[10/17/23 19:04:22]\u001b[0m\u001b[2;36m \u001b[0m\u001b[34mINFO    \u001b[0m AlteryxToolkitTask 69df4ec04c5c426fbf0340d6a87f8bcd                                   \n",
       "\u001b[2;36m                    \u001b[0m         Output: In D&D 5e, magic missile is a 1st level spell that allows the caster to create\n",
       "\u001b[2;36m                    \u001b[0m         three glowing darts of magical force. These darts automatically hit their targets and \n",
       "\u001b[2;36m                    \u001b[0m         each dart deals force damage. The damage of each dart increases as the caster gains   \n",
       "\u001b[2;36m                    \u001b[0m         higher spell slots.                                                                   \n"
      ]
     },
     "metadata": {},
     "output_type": "display_data"
    }
   ],
   "source": [
    "response = agent.run(\"What does magic missile do in D&D 5e?\")"
   ]
  },
  {
   "cell_type": "markdown",
   "id": "5a69bdfa-485a-4188-936b-560622011929",
   "metadata": {},
   "source": [
    "### Demo 4\n",
    "Now a question where it's ambiguous whether we're asking within its domain or outside of it.\n",
    "\n",
    "Most of the time, the model just immediately defaults to interpreting the question about D&D, but occasionally, it will do a really interesting chain of thought in which it attempts to resolve the ambiguity on its own. Fingers crossed it does the cool thing."
   ]
  },
  {
   "cell_type": "code",
   "execution_count": 7,
   "id": "7d04ccf8-18ee-4e69-a795-e63f4aa9be18",
   "metadata": {},
   "outputs": [
    {
     "data": {
      "text/html": [
       "<pre style=\"white-space:pre;overflow-x:auto;line-height:normal;font-family:Menlo,'DejaVu Sans Mono',consolas,'Courier New',monospace\"><span style=\"color: #7fbfbf; text-decoration-color: #7fbfbf\">                    </span><span style=\"color: #000080; text-decoration-color: #000080\">INFO    </span> AlteryxToolkitTask 69df4ec04c5c426fbf0340d6a87f8bcd                                   \n",
       "<span style=\"color: #7fbfbf; text-decoration-color: #7fbfbf\">                    </span>         Input: What is a cleric?                                                              \n",
       "</pre>\n"
      ],
      "text/plain": [
       "\u001b[2;36m                   \u001b[0m\u001b[2;36m \u001b[0m\u001b[34mINFO    \u001b[0m AlteryxToolkitTask 69df4ec04c5c426fbf0340d6a87f8bcd                                   \n",
       "\u001b[2;36m                    \u001b[0m         Input: What is a cleric?                                                              \n"
      ]
     },
     "metadata": {},
     "output_type": "display_data"
    },
    {
     "data": {
      "text/html": [
       "<pre style=\"white-space:pre;overflow-x:auto;line-height:normal;font-family:Menlo,'DejaVu Sans Mono',consolas,'Courier New',monospace\"><span style=\"color: #7fbfbf; text-decoration-color: #7fbfbf\">[10/17/23 19:04:26] </span><span style=\"color: #000080; text-decoration-color: #000080\">INFO    </span> AlteryxToolkitTask 69df4ec04c5c426fbf0340d6a87f8bcd                                   \n",
       "<span style=\"color: #7fbfbf; text-decoration-color: #7fbfbf\">                    </span>         Output: A cleric is a class in Dungeons &amp; Dragons 5th edition. Clerics are divine     \n",
       "<span style=\"color: #7fbfbf; text-decoration-color: #7fbfbf\">                    </span>         spellcasters who draw their power from a deity or a divine source. They are versatile \n",
       "<span style=\"color: #7fbfbf; text-decoration-color: #7fbfbf\">                    </span>         support characters who can heal wounds, protect allies, and wield divine magic to     \n",
       "<span style=\"color: #7fbfbf; text-decoration-color: #7fbfbf\">                    </span>         smite enemies. Clerics have access to a wide range of spells and abilities that allow \n",
       "<span style=\"color: #7fbfbf; text-decoration-color: #7fbfbf\">                    </span>         them to fulfill various roles within a party, such as healing, buffing, and dealing   \n",
       "<span style=\"color: #7fbfbf; text-decoration-color: #7fbfbf\">                    </span>         damage. They also have the ability to wear armor and wield weapons, making them       \n",
       "<span style=\"color: #7fbfbf; text-decoration-color: #7fbfbf\">                    </span>         capable frontline combatants if needed.                                               \n",
       "</pre>\n"
      ],
      "text/plain": [
       "\u001b[2;36m[10/17/23 19:04:26]\u001b[0m\u001b[2;36m \u001b[0m\u001b[34mINFO    \u001b[0m AlteryxToolkitTask 69df4ec04c5c426fbf0340d6a87f8bcd                                   \n",
       "\u001b[2;36m                    \u001b[0m         Output: A cleric is a class in Dungeons & Dragons 5th edition. Clerics are divine     \n",
       "\u001b[2;36m                    \u001b[0m         spellcasters who draw their power from a deity or a divine source. They are versatile \n",
       "\u001b[2;36m                    \u001b[0m         support characters who can heal wounds, protect allies, and wield divine magic to     \n",
       "\u001b[2;36m                    \u001b[0m         smite enemies. Clerics have access to a wide range of spells and abilities that allow \n",
       "\u001b[2;36m                    \u001b[0m         them to fulfill various roles within a party, such as healing, buffing, and dealing   \n",
       "\u001b[2;36m                    \u001b[0m         damage. They also have the ability to wear armor and wield weapons, making them       \n",
       "\u001b[2;36m                    \u001b[0m         capable frontline combatants if needed.                                               \n"
      ]
     },
     "metadata": {},
     "output_type": "display_data"
    }
   ],
   "source": [
    "response = agent.run(\"What is a cleric?\")"
   ]
  },
  {
   "cell_type": "markdown",
   "id": "ca29dd4f-e071-4e2b-868b-3dbff96eeeb2",
   "metadata": {},
   "source": [
    "### Demo 5\n",
    "Now let's just ask a bunch of questions it shouldn't know answers to and see if the model is starting to get unreliable. It usually does after this point. I'd love to talk about strategies for solving this issue."
   ]
  },
  {
   "cell_type": "code",
   "execution_count": 8,
   "id": "6c71803f-f2de-4def-a279-f47339b49033",
   "metadata": {},
   "outputs": [
    {
     "data": {
      "text/html": [
       "<pre style=\"white-space:pre;overflow-x:auto;line-height:normal;font-family:Menlo,'DejaVu Sans Mono',consolas,'Courier New',monospace\"><span style=\"color: #7fbfbf; text-decoration-color: #7fbfbf\">[10/17/23 19:04:29] </span><span style=\"color: #000080; text-decoration-color: #000080\">INFO    </span> AlteryxToolkitTask 69df4ec04c5c426fbf0340d6a87f8bcd                                   \n",
       "<span style=\"color: #7fbfbf; text-decoration-color: #7fbfbf\">                    </span>         Input: What is the most populous city on Earth?                                       \n",
       "</pre>\n"
      ],
      "text/plain": [
       "\u001b[2;36m[10/17/23 19:04:29]\u001b[0m\u001b[2;36m \u001b[0m\u001b[34mINFO    \u001b[0m AlteryxToolkitTask 69df4ec04c5c426fbf0340d6a87f8bcd                                   \n",
       "\u001b[2;36m                    \u001b[0m         Input: What is the most populous city on Earth?                                       \n"
      ]
     },
     "metadata": {},
     "output_type": "display_data"
    },
    {
     "data": {
      "text/html": [
       "<pre style=\"white-space:pre;overflow-x:auto;line-height:normal;font-family:Menlo,'DejaVu Sans Mono',consolas,'Courier New',monospace\"><span style=\"color: #7fbfbf; text-decoration-color: #7fbfbf\">[10/17/23 19:04:32] </span><span style=\"color: #000080; text-decoration-color: #000080\">INFO    </span> Subtask fd208e4d02db41869de7271c60a87de0                                              \n",
       "<span style=\"color: #7fbfbf; text-decoration-color: #7fbfbf\">                    </span>         Thought: I don't have this information in my memory. I can use the SRDVectors tool to \n",
       "<span style=\"color: #7fbfbf; text-decoration-color: #7fbfbf\">                    </span>         find the answer.                                                                      \n",
       "<span style=\"color: #7fbfbf; text-decoration-color: #7fbfbf\">                    </span>                                                                                               \n",
       "<span style=\"color: #7fbfbf; text-decoration-color: #7fbfbf\">                    </span>         Action: <span style=\"font-weight: bold\">{</span><span style=\"color: #008000; text-decoration-color: #008000\">\"type\"</span>: <span style=\"color: #008000; text-decoration-color: #008000\">\"tool\"</span>, <span style=\"color: #008000; text-decoration-color: #008000\">\"name\"</span>: <span style=\"color: #008000; text-decoration-color: #008000\">\"SRDVectors\"</span>, <span style=\"color: #008000; text-decoration-color: #008000\">\"activity\"</span>: <span style=\"color: #008000; text-decoration-color: #008000\">\"query_srd_vectors\"</span>,       \n",
       "<span style=\"color: #7fbfbf; text-decoration-color: #7fbfbf\">                    </span>         <span style=\"color: #008000; text-decoration-color: #008000\">\"input\"</span>: <span style=\"font-weight: bold\">{</span><span style=\"color: #008000; text-decoration-color: #008000\">\"values\"</span>: <span style=\"font-weight: bold\">{</span><span style=\"color: #008000; text-decoration-color: #008000\">\"query\"</span>: <span style=\"color: #008000; text-decoration-color: #008000\">\"What is the most populous city on Earth?\"</span><span style=\"font-weight: bold\">}}}</span>           \n",
       "</pre>\n"
      ],
      "text/plain": [
       "\u001b[2;36m[10/17/23 19:04:32]\u001b[0m\u001b[2;36m \u001b[0m\u001b[34mINFO    \u001b[0m Subtask fd208e4d02db41869de7271c60a87de0                                              \n",
       "\u001b[2;36m                    \u001b[0m         Thought: I don't have this information in my memory. I can use the SRDVectors tool to \n",
       "\u001b[2;36m                    \u001b[0m         find the answer.                                                                      \n",
       "\u001b[2;36m                    \u001b[0m                                                                                               \n",
       "\u001b[2;36m                    \u001b[0m         Action: \u001b[1m{\u001b[0m\u001b[32m\"type\"\u001b[0m: \u001b[32m\"tool\"\u001b[0m, \u001b[32m\"name\"\u001b[0m: \u001b[32m\"SRDVectors\"\u001b[0m, \u001b[32m\"activity\"\u001b[0m: \u001b[32m\"query_srd_vectors\"\u001b[0m,       \n",
       "\u001b[2;36m                    \u001b[0m         \u001b[32m\"input\"\u001b[0m: \u001b[1m{\u001b[0m\u001b[32m\"values\"\u001b[0m: \u001b[1m{\u001b[0m\u001b[32m\"query\"\u001b[0m: \u001b[32m\"What is the most populous city on Earth?\"\u001b[0m\u001b[1m}\u001b[0m\u001b[1m}\u001b[0m\u001b[1m}\u001b[0m           \n"
      ]
     },
     "metadata": {},
     "output_type": "display_data"
    },
    {
     "data": {
      "text/html": [
       "<pre style=\"white-space:pre;overflow-x:auto;line-height:normal;font-family:Menlo,'DejaVu Sans Mono',consolas,'Courier New',monospace\"><span style=\"color: #7fbfbf; text-decoration-color: #7fbfbf\">[10/17/23 19:04:34] </span><span style=\"color: #000080; text-decoration-color: #000080\">INFO    </span> Subtask fd208e4d02db41869de7271c60a87de0                                              \n",
       "<span style=\"color: #7fbfbf; text-decoration-color: #7fbfbf\">                    </span>         Observation: Output of <span style=\"color: #008000; text-decoration-color: #008000\">\"SRDVectors.query_srd_vectors\"</span> was stored in memory with       \n",
       "<span style=\"color: #7fbfbf; text-decoration-color: #7fbfbf\">                    </span>         memory_name <span style=\"color: #008000; text-decoration-color: #008000\">\"TextToolMemory\"</span> and artifact_namespace <span style=\"color: #008000; text-decoration-color: #008000\">\"9d4bdcefbca64b48805bac5c12609a5a\"</span>\n",
       "</pre>\n"
      ],
      "text/plain": [
       "\u001b[2;36m[10/17/23 19:04:34]\u001b[0m\u001b[2;36m \u001b[0m\u001b[34mINFO    \u001b[0m Subtask fd208e4d02db41869de7271c60a87de0                                              \n",
       "\u001b[2;36m                    \u001b[0m         Observation: Output of \u001b[32m\"SRDVectors.query_srd_vectors\"\u001b[0m was stored in memory with       \n",
       "\u001b[2;36m                    \u001b[0m         memory_name \u001b[32m\"TextToolMemory\"\u001b[0m and artifact_namespace \u001b[32m\"9d4bdcefbca64b48805bac5c12609a5a\"\u001b[0m\n"
      ]
     },
     "metadata": {},
     "output_type": "display_data"
    },
    {
     "data": {
      "text/html": [
       "<pre style=\"white-space:pre;overflow-x:auto;line-height:normal;font-family:Menlo,'DejaVu Sans Mono',consolas,'Courier New',monospace\"><span style=\"color: #7fbfbf; text-decoration-color: #7fbfbf\">[10/17/23 19:04:38] </span><span style=\"color: #000080; text-decoration-color: #000080\">INFO    </span> Subtask 0aa7b1550c5c42b985fa83a1680f7961                                              \n",
       "<span style=\"color: #7fbfbf; text-decoration-color: #7fbfbf\">                    </span>         Thought: I can use the TextToolMemory tool to retrieve the output stored in memory.   \n",
       "<span style=\"color: #7fbfbf; text-decoration-color: #7fbfbf\">                    </span>         Action: <span style=\"font-weight: bold\">{</span><span style=\"color: #008000; text-decoration-color: #008000\">\"type\"</span>: <span style=\"color: #008000; text-decoration-color: #008000\">\"memory\"</span>, <span style=\"color: #008000; text-decoration-color: #008000\">\"name\"</span>: <span style=\"color: #008000; text-decoration-color: #008000\">\"TextToolMemory\"</span>, <span style=\"color: #008000; text-decoration-color: #008000\">\"activity\"</span>: <span style=\"color: #008000; text-decoration-color: #008000\">\"search\"</span>, <span style=\"color: #008000; text-decoration-color: #008000\">\"input\"</span>:   \n",
       "<span style=\"color: #7fbfbf; text-decoration-color: #7fbfbf\">                    </span>         <span style=\"font-weight: bold\">{</span><span style=\"color: #008000; text-decoration-color: #008000\">\"values\"</span>: <span style=\"font-weight: bold\">{</span><span style=\"color: #008000; text-decoration-color: #008000\">\"memory_name\"</span>: <span style=\"color: #008000; text-decoration-color: #008000\">\"TextToolMemory\"</span>, <span style=\"color: #008000; text-decoration-color: #008000\">\"artifact_namespace\"</span>:                    \n",
       "<span style=\"color: #7fbfbf; text-decoration-color: #7fbfbf\">                    </span>         <span style=\"color: #008000; text-decoration-color: #008000\">\"9d4bdcefbca64b48805bac5c12609a5a\"</span>, <span style=\"color: #008000; text-decoration-color: #008000\">\"query\"</span>: <span style=\"color: #008000; text-decoration-color: #008000\">\"most populous city on Earth\"</span><span style=\"font-weight: bold\">}}}</span>         \n",
       "</pre>\n"
      ],
      "text/plain": [
       "\u001b[2;36m[10/17/23 19:04:38]\u001b[0m\u001b[2;36m \u001b[0m\u001b[34mINFO    \u001b[0m Subtask 0aa7b1550c5c42b985fa83a1680f7961                                              \n",
       "\u001b[2;36m                    \u001b[0m         Thought: I can use the TextToolMemory tool to retrieve the output stored in memory.   \n",
       "\u001b[2;36m                    \u001b[0m         Action: \u001b[1m{\u001b[0m\u001b[32m\"type\"\u001b[0m: \u001b[32m\"memory\"\u001b[0m, \u001b[32m\"name\"\u001b[0m: \u001b[32m\"TextToolMemory\"\u001b[0m, \u001b[32m\"activity\"\u001b[0m: \u001b[32m\"search\"\u001b[0m, \u001b[32m\"input\"\u001b[0m:   \n",
       "\u001b[2;36m                    \u001b[0m         \u001b[1m{\u001b[0m\u001b[32m\"values\"\u001b[0m: \u001b[1m{\u001b[0m\u001b[32m\"memory_name\"\u001b[0m: \u001b[32m\"TextToolMemory\"\u001b[0m, \u001b[32m\"artifact_namespace\"\u001b[0m:                    \n",
       "\u001b[2;36m                    \u001b[0m         \u001b[32m\"9d4bdcefbca64b48805bac5c12609a5a\"\u001b[0m, \u001b[32m\"query\"\u001b[0m: \u001b[32m\"most populous city on Earth\"\u001b[0m\u001b[1m}\u001b[0m\u001b[1m}\u001b[0m\u001b[1m}\u001b[0m         \n"
      ]
     },
     "metadata": {},
     "output_type": "display_data"
    },
    {
     "data": {
      "text/html": [
       "<pre style=\"white-space:pre;overflow-x:auto;line-height:normal;font-family:Menlo,'DejaVu Sans Mono',consolas,'Courier New',monospace\"><span style=\"color: #7fbfbf; text-decoration-color: #7fbfbf\">[10/17/23 19:04:39] </span><span style=\"color: #000080; text-decoration-color: #000080\">INFO    </span> Subtask 0aa7b1550c5c42b985fa83a1680f7961                                              \n",
       "<span style=\"color: #7fbfbf; text-decoration-color: #7fbfbf\">                    </span>         Observation: I'm sorry, but I cannot answer that question based on the given context  \n",
       "<span style=\"color: #7fbfbf; text-decoration-color: #7fbfbf\">                    </span>         information.                                                                          \n",
       "</pre>\n"
      ],
      "text/plain": [
       "\u001b[2;36m[10/17/23 19:04:39]\u001b[0m\u001b[2;36m \u001b[0m\u001b[34mINFO    \u001b[0m Subtask 0aa7b1550c5c42b985fa83a1680f7961                                              \n",
       "\u001b[2;36m                    \u001b[0m         Observation: I'm sorry, but I cannot answer that question based on the given context  \n",
       "\u001b[2;36m                    \u001b[0m         information.                                                                          \n"
      ]
     },
     "metadata": {},
     "output_type": "display_data"
    },
    {
     "data": {
      "text/html": [
       "<pre style=\"white-space:pre;overflow-x:auto;line-height:normal;font-family:Menlo,'DejaVu Sans Mono',consolas,'Courier New',monospace\"><span style=\"color: #7fbfbf; text-decoration-color: #7fbfbf\">[10/17/23 19:04:40] </span><span style=\"color: #000080; text-decoration-color: #000080\">INFO    </span> AlteryxToolkitTask 69df4ec04c5c426fbf0340d6a87f8bcd                                   \n",
       "<span style=\"color: #7fbfbf; text-decoration-color: #7fbfbf\">                    </span>         Output: I apologize for the inconvenience. I don't have the information about the most\n",
       "<span style=\"color: #7fbfbf; text-decoration-color: #7fbfbf\">                    </span>         populous city on Earth.                                                               \n",
       "</pre>\n"
      ],
      "text/plain": [
       "\u001b[2;36m[10/17/23 19:04:40]\u001b[0m\u001b[2;36m \u001b[0m\u001b[34mINFO    \u001b[0m AlteryxToolkitTask 69df4ec04c5c426fbf0340d6a87f8bcd                                   \n",
       "\u001b[2;36m                    \u001b[0m         Output: I apologize for the inconvenience. I don't have the information about the most\n",
       "\u001b[2;36m                    \u001b[0m         populous city on Earth.                                                               \n"
      ]
     },
     "metadata": {},
     "output_type": "display_data"
    }
   ],
   "source": [
    "response = agent.run(\"What is the most populous city on Earth?\")"
   ]
  },
  {
   "cell_type": "code",
   "execution_count": 9,
   "id": "0bccefee-e922-4f8d-aaed-bdbdc3a1e262",
   "metadata": {},
   "outputs": [
    {
     "data": {
      "text/html": [
       "<pre style=\"white-space:pre;overflow-x:auto;line-height:normal;font-family:Menlo,'DejaVu Sans Mono',consolas,'Courier New',monospace\"><span style=\"color: #7fbfbf; text-decoration-color: #7fbfbf\">[10/17/23 19:04:46] </span><span style=\"color: #000080; text-decoration-color: #000080\">INFO    </span> AlteryxToolkitTask 69df4ec04c5c426fbf0340d6a87f8bcd                                   \n",
       "<span style=\"color: #7fbfbf; text-decoration-color: #7fbfbf\">                    </span>         Input: What was the highest grossing movie in <span style=\"color: #008080; text-decoration-color: #008080; font-weight: bold\">2017</span>?                                   \n",
       "</pre>\n"
      ],
      "text/plain": [
       "\u001b[2;36m[10/17/23 19:04:46]\u001b[0m\u001b[2;36m \u001b[0m\u001b[34mINFO    \u001b[0m AlteryxToolkitTask 69df4ec04c5c426fbf0340d6a87f8bcd                                   \n",
       "\u001b[2;36m                    \u001b[0m         Input: What was the highest grossing movie in \u001b[1;36m2017\u001b[0m?                                   \n"
      ]
     },
     "metadata": {},
     "output_type": "display_data"
    },
    {
     "data": {
      "text/html": [
       "<pre style=\"white-space:pre;overflow-x:auto;line-height:normal;font-family:Menlo,'DejaVu Sans Mono',consolas,'Courier New',monospace\"><span style=\"color: #7fbfbf; text-decoration-color: #7fbfbf\">[10/17/23 19:04:49] </span><span style=\"color: #000080; text-decoration-color: #000080\">INFO    </span> Subtask 86c8458295764f36bc6202261eec9a74                                              \n",
       "<span style=\"color: #7fbfbf; text-decoration-color: #7fbfbf\">                    </span>         Thought: I don't have this information in my memory. I can use the SRDVectors tool to \n",
       "<span style=\"color: #7fbfbf; text-decoration-color: #7fbfbf\">                    </span>         search for the highest grossing movie in <span style=\"color: #008080; text-decoration-color: #008080; font-weight: bold\">2017</span>.                                        \n",
       "<span style=\"color: #7fbfbf; text-decoration-color: #7fbfbf\">                    </span>                                                                                               \n",
       "<span style=\"color: #7fbfbf; text-decoration-color: #7fbfbf\">                    </span>         Action: <span style=\"font-weight: bold\">{</span><span style=\"color: #008000; text-decoration-color: #008000\">\"type\"</span>: <span style=\"color: #008000; text-decoration-color: #008000\">\"tool\"</span>, <span style=\"color: #008000; text-decoration-color: #008000\">\"name\"</span>: <span style=\"color: #008000; text-decoration-color: #008000\">\"SRDVectors\"</span>, <span style=\"color: #008000; text-decoration-color: #008000\">\"activity\"</span>: <span style=\"color: #008000; text-decoration-color: #008000\">\"query_srd_vectors\"</span>,       \n",
       "<span style=\"color: #7fbfbf; text-decoration-color: #7fbfbf\">                    </span>         <span style=\"color: #008000; text-decoration-color: #008000\">\"input\"</span>: <span style=\"font-weight: bold\">{</span><span style=\"color: #008000; text-decoration-color: #008000\">\"values\"</span>: <span style=\"font-weight: bold\">{</span><span style=\"color: #008000; text-decoration-color: #008000\">\"query\"</span>: <span style=\"color: #008000; text-decoration-color: #008000\">\"highest grossing movie in 2017\"</span><span style=\"font-weight: bold\">}}}</span>                     \n",
       "</pre>\n"
      ],
      "text/plain": [
       "\u001b[2;36m[10/17/23 19:04:49]\u001b[0m\u001b[2;36m \u001b[0m\u001b[34mINFO    \u001b[0m Subtask 86c8458295764f36bc6202261eec9a74                                              \n",
       "\u001b[2;36m                    \u001b[0m         Thought: I don't have this information in my memory. I can use the SRDVectors tool to \n",
       "\u001b[2;36m                    \u001b[0m         search for the highest grossing movie in \u001b[1;36m2017\u001b[0m.                                        \n",
       "\u001b[2;36m                    \u001b[0m                                                                                               \n",
       "\u001b[2;36m                    \u001b[0m         Action: \u001b[1m{\u001b[0m\u001b[32m\"type\"\u001b[0m: \u001b[32m\"tool\"\u001b[0m, \u001b[32m\"name\"\u001b[0m: \u001b[32m\"SRDVectors\"\u001b[0m, \u001b[32m\"activity\"\u001b[0m: \u001b[32m\"query_srd_vectors\"\u001b[0m,       \n",
       "\u001b[2;36m                    \u001b[0m         \u001b[32m\"input\"\u001b[0m: \u001b[1m{\u001b[0m\u001b[32m\"values\"\u001b[0m: \u001b[1m{\u001b[0m\u001b[32m\"query\"\u001b[0m: \u001b[32m\"highest grossing movie in 2017\"\u001b[0m\u001b[1m}\u001b[0m\u001b[1m}\u001b[0m\u001b[1m}\u001b[0m                     \n"
      ]
     },
     "metadata": {},
     "output_type": "display_data"
    },
    {
     "data": {
      "text/html": [
       "<pre style=\"white-space:pre;overflow-x:auto;line-height:normal;font-family:Menlo,'DejaVu Sans Mono',consolas,'Courier New',monospace\"><span style=\"color: #7fbfbf; text-decoration-color: #7fbfbf\">[10/17/23 19:04:51] </span><span style=\"color: #000080; text-decoration-color: #000080\">INFO    </span> Subtask 86c8458295764f36bc6202261eec9a74                                              \n",
       "<span style=\"color: #7fbfbf; text-decoration-color: #7fbfbf\">                    </span>         Observation: Output of <span style=\"color: #008000; text-decoration-color: #008000\">\"SRDVectors.query_srd_vectors\"</span> was stored in memory with       \n",
       "<span style=\"color: #7fbfbf; text-decoration-color: #7fbfbf\">                    </span>         memory_name <span style=\"color: #008000; text-decoration-color: #008000\">\"TextToolMemory\"</span> and artifact_namespace <span style=\"color: #008000; text-decoration-color: #008000\">\"8e32e78fb43b429e9c508f66ca844fe5\"</span>\n",
       "</pre>\n"
      ],
      "text/plain": [
       "\u001b[2;36m[10/17/23 19:04:51]\u001b[0m\u001b[2;36m \u001b[0m\u001b[34mINFO    \u001b[0m Subtask 86c8458295764f36bc6202261eec9a74                                              \n",
       "\u001b[2;36m                    \u001b[0m         Observation: Output of \u001b[32m\"SRDVectors.query_srd_vectors\"\u001b[0m was stored in memory with       \n",
       "\u001b[2;36m                    \u001b[0m         memory_name \u001b[32m\"TextToolMemory\"\u001b[0m and artifact_namespace \u001b[32m\"8e32e78fb43b429e9c508f66ca844fe5\"\u001b[0m\n"
      ]
     },
     "metadata": {},
     "output_type": "display_data"
    },
    {
     "data": {
      "text/html": [
       "<pre style=\"white-space:pre;overflow-x:auto;line-height:normal;font-family:Menlo,'DejaVu Sans Mono',consolas,'Courier New',monospace\"><span style=\"color: #7fbfbf; text-decoration-color: #7fbfbf\">[10/17/23 19:04:55] </span><span style=\"color: #000080; text-decoration-color: #000080\">INFO    </span> Subtask 703665ddd8614e22ad1dcf30ad925e64                                              \n",
       "<span style=\"color: #7fbfbf; text-decoration-color: #7fbfbf\">                    </span>         Thought: Now that I have the output stored in memory, I can use the TextToolMemory    \n",
       "<span style=\"color: #7fbfbf; text-decoration-color: #7fbfbf\">                    </span>         tool to search for the highest grossing movie in <span style=\"color: #008080; text-decoration-color: #008080; font-weight: bold\">2017</span>.                                \n",
       "<span style=\"color: #7fbfbf; text-decoration-color: #7fbfbf\">                    </span>         Action: <span style=\"font-weight: bold\">{</span><span style=\"color: #008000; text-decoration-color: #008000\">\"type\"</span>: <span style=\"color: #008000; text-decoration-color: #008000\">\"memory\"</span>, <span style=\"color: #008000; text-decoration-color: #008000\">\"name\"</span>: <span style=\"color: #008000; text-decoration-color: #008000\">\"TextToolMemory\"</span>, <span style=\"color: #008000; text-decoration-color: #008000\">\"activity\"</span>: <span style=\"color: #008000; text-decoration-color: #008000\">\"search\"</span>, <span style=\"color: #008000; text-decoration-color: #008000\">\"input\"</span>:   \n",
       "<span style=\"color: #7fbfbf; text-decoration-color: #7fbfbf\">                    </span>         <span style=\"font-weight: bold\">{</span><span style=\"color: #008000; text-decoration-color: #008000\">\"values\"</span>: <span style=\"font-weight: bold\">{</span><span style=\"color: #008000; text-decoration-color: #008000\">\"memory_name\"</span>: <span style=\"color: #008000; text-decoration-color: #008000\">\"TextToolMemory\"</span>, <span style=\"color: #008000; text-decoration-color: #008000\">\"artifact_namespace\"</span>:                    \n",
       "<span style=\"color: #7fbfbf; text-decoration-color: #7fbfbf\">                    </span>         <span style=\"color: #008000; text-decoration-color: #008000\">\"8e32e78fb43b429e9c508f66ca844fe5\"</span>, <span style=\"color: #008000; text-decoration-color: #008000\">\"query\"</span>: <span style=\"color: #008000; text-decoration-color: #008000\">\"highest grossing movie in 2017\"</span><span style=\"font-weight: bold\">}}}</span>      \n",
       "</pre>\n"
      ],
      "text/plain": [
       "\u001b[2;36m[10/17/23 19:04:55]\u001b[0m\u001b[2;36m \u001b[0m\u001b[34mINFO    \u001b[0m Subtask 703665ddd8614e22ad1dcf30ad925e64                                              \n",
       "\u001b[2;36m                    \u001b[0m         Thought: Now that I have the output stored in memory, I can use the TextToolMemory    \n",
       "\u001b[2;36m                    \u001b[0m         tool to search for the highest grossing movie in \u001b[1;36m2017\u001b[0m.                                \n",
       "\u001b[2;36m                    \u001b[0m         Action: \u001b[1m{\u001b[0m\u001b[32m\"type\"\u001b[0m: \u001b[32m\"memory\"\u001b[0m, \u001b[32m\"name\"\u001b[0m: \u001b[32m\"TextToolMemory\"\u001b[0m, \u001b[32m\"activity\"\u001b[0m: \u001b[32m\"search\"\u001b[0m, \u001b[32m\"input\"\u001b[0m:   \n",
       "\u001b[2;36m                    \u001b[0m         \u001b[1m{\u001b[0m\u001b[32m\"values\"\u001b[0m: \u001b[1m{\u001b[0m\u001b[32m\"memory_name\"\u001b[0m: \u001b[32m\"TextToolMemory\"\u001b[0m, \u001b[32m\"artifact_namespace\"\u001b[0m:                    \n",
       "\u001b[2;36m                    \u001b[0m         \u001b[32m\"8e32e78fb43b429e9c508f66ca844fe5\"\u001b[0m, \u001b[32m\"query\"\u001b[0m: \u001b[32m\"highest grossing movie in 2017\"\u001b[0m\u001b[1m}\u001b[0m\u001b[1m}\u001b[0m\u001b[1m}\u001b[0m      \n"
      ]
     },
     "metadata": {},
     "output_type": "display_data"
    },
    {
     "data": {
      "text/html": [
       "<pre style=\"white-space:pre;overflow-x:auto;line-height:normal;font-family:Menlo,'DejaVu Sans Mono',consolas,'Courier New',monospace\"><span style=\"color: #7fbfbf; text-decoration-color: #7fbfbf\">[10/17/23 19:04:56] </span><span style=\"color: #000080; text-decoration-color: #000080\">INFO    </span> Subtask 703665ddd8614e22ad1dcf30ad925e64                                              \n",
       "<span style=\"color: #7fbfbf; text-decoration-color: #7fbfbf\">                    </span>         Observation: I could not find an answer.                                              \n",
       "</pre>\n"
      ],
      "text/plain": [
       "\u001b[2;36m[10/17/23 19:04:56]\u001b[0m\u001b[2;36m \u001b[0m\u001b[34mINFO    \u001b[0m Subtask 703665ddd8614e22ad1dcf30ad925e64                                              \n",
       "\u001b[2;36m                    \u001b[0m         Observation: I could not find an answer.                                              \n"
      ]
     },
     "metadata": {},
     "output_type": "display_data"
    },
    {
     "data": {
      "text/html": [
       "<pre style=\"white-space:pre;overflow-x:auto;line-height:normal;font-family:Menlo,'DejaVu Sans Mono',consolas,'Courier New',monospace\"><span style=\"color: #7fbfbf; text-decoration-color: #7fbfbf\">[10/17/23 19:04:59] </span><span style=\"color: #000080; text-decoration-color: #000080\">INFO    </span> Subtask aecffc1852b44fc9bbd14fb887c66ac6                                              \n",
       "<span style=\"color: #7fbfbf; text-decoration-color: #7fbfbf\">                    </span>         Thought: Since I couldn't find the answer in my available tools, I can search the     \n",
       "<span style=\"color: #7fbfbf; text-decoration-color: #7fbfbf\">                    </span>         internet for the highest grossing movie in <span style=\"color: #008080; text-decoration-color: #008080; font-weight: bold\">2017</span>.                                      \n",
       "<span style=\"color: #7fbfbf; text-decoration-color: #7fbfbf\">                    </span>         Action: <span style=\"font-weight: bold\">{</span><span style=\"color: #008000; text-decoration-color: #008000\">\"type\"</span>: <span style=\"color: #008000; text-decoration-color: #008000\">\"search\"</span>, <span style=\"color: #008000; text-decoration-color: #008000\">\"name\"</span>: <span style=\"color: #008000; text-decoration-color: #008000\">\"InternetSearch\"</span>, <span style=\"color: #008000; text-decoration-color: #008000\">\"activity\"</span>: <span style=\"color: #008000; text-decoration-color: #008000\">\"search\"</span>, <span style=\"color: #008000; text-decoration-color: #008000\">\"input\"</span>:   \n",
       "<span style=\"color: #7fbfbf; text-decoration-color: #7fbfbf\">                    </span>         <span style=\"font-weight: bold\">{</span><span style=\"color: #008000; text-decoration-color: #008000\">\"query\"</span>: <span style=\"color: #008000; text-decoration-color: #008000\">\"highest grossing movie in 2017\"</span><span style=\"font-weight: bold\">}}</span>                                          \n",
       "</pre>\n"
      ],
      "text/plain": [
       "\u001b[2;36m[10/17/23 19:04:59]\u001b[0m\u001b[2;36m \u001b[0m\u001b[34mINFO    \u001b[0m Subtask aecffc1852b44fc9bbd14fb887c66ac6                                              \n",
       "\u001b[2;36m                    \u001b[0m         Thought: Since I couldn't find the answer in my available tools, I can search the     \n",
       "\u001b[2;36m                    \u001b[0m         internet for the highest grossing movie in \u001b[1;36m2017\u001b[0m.                                      \n",
       "\u001b[2;36m                    \u001b[0m         Action: \u001b[1m{\u001b[0m\u001b[32m\"type\"\u001b[0m: \u001b[32m\"search\"\u001b[0m, \u001b[32m\"name\"\u001b[0m: \u001b[32m\"InternetSearch\"\u001b[0m, \u001b[32m\"activity\"\u001b[0m: \u001b[32m\"search\"\u001b[0m, \u001b[32m\"input\"\u001b[0m:   \n",
       "\u001b[2;36m                    \u001b[0m         \u001b[1m{\u001b[0m\u001b[32m\"query\"\u001b[0m: \u001b[32m\"highest grossing movie in 2017\"\u001b[0m\u001b[1m}\u001b[0m\u001b[1m}\u001b[0m                                          \n"
      ]
     },
     "metadata": {},
     "output_type": "display_data"
    },
    {
     "data": {
      "text/html": [
       "<pre style=\"white-space:pre;overflow-x:auto;line-height:normal;font-family:Menlo,'DejaVu Sans Mono',consolas,'Courier New',monospace\"><span style=\"color: #7fbfbf; text-decoration-color: #7fbfbf\">                    </span><span style=\"color: #000080; text-decoration-color: #000080\">INFO    </span> Subtask aecffc1852b44fc9bbd14fb887c66ac6                                              \n",
       "<span style=\"color: #7fbfbf; text-decoration-color: #7fbfbf\">                    </span>         Observation: invalid action type                                                      \n",
       "</pre>\n"
      ],
      "text/plain": [
       "\u001b[2;36m                   \u001b[0m\u001b[2;36m \u001b[0m\u001b[34mINFO    \u001b[0m Subtask aecffc1852b44fc9bbd14fb887c66ac6                                              \n",
       "\u001b[2;36m                    \u001b[0m         Observation: invalid action type                                                      \n"
      ]
     },
     "metadata": {},
     "output_type": "display_data"
    },
    {
     "data": {
      "text/html": [
       "<pre style=\"white-space:pre;overflow-x:auto;line-height:normal;font-family:Menlo,'DejaVu Sans Mono',consolas,'Courier New',monospace\"><span style=\"color: #7fbfbf; text-decoration-color: #7fbfbf\">[10/17/23 19:05:01] </span><span style=\"color: #000080; text-decoration-color: #000080\">INFO    </span> AlteryxToolkitTask 69df4ec04c5c426fbf0340d6a87f8bcd                                   \n",
       "<span style=\"color: #7fbfbf; text-decoration-color: #7fbfbf\">                    </span>         Output: I don't know the highest grossing movie in <span style=\"color: #008080; text-decoration-color: #008080; font-weight: bold\">2017</span>.                              \n",
       "</pre>\n"
      ],
      "text/plain": [
       "\u001b[2;36m[10/17/23 19:05:01]\u001b[0m\u001b[2;36m \u001b[0m\u001b[34mINFO    \u001b[0m AlteryxToolkitTask 69df4ec04c5c426fbf0340d6a87f8bcd                                   \n",
       "\u001b[2;36m                    \u001b[0m         Output: I don't know the highest grossing movie in \u001b[1;36m2017\u001b[0m.                              \n"
      ]
     },
     "metadata": {},
     "output_type": "display_data"
    }
   ],
   "source": [
    "response = agent.run(\"What was the highest grossing movie in 2017?\")"
   ]
  },
  {
   "cell_type": "code",
   "execution_count": 10,
   "id": "1e5e0f20-7e44-4b03-9cb8-718d77c59836",
   "metadata": {},
   "outputs": [
    {
     "data": {
      "text/html": [
       "<pre style=\"white-space:pre;overflow-x:auto;line-height:normal;font-family:Menlo,'DejaVu Sans Mono',consolas,'Courier New',monospace\"><span style=\"color: #7fbfbf; text-decoration-color: #7fbfbf\">[10/17/23 19:05:17] </span><span style=\"color: #000080; text-decoration-color: #000080\">INFO    </span> AlteryxToolkitTask 69df4ec04c5c426fbf0340d6a87f8bcd                                   \n",
       "<span style=\"color: #7fbfbf; text-decoration-color: #7fbfbf\">                    </span>         Input: How many wheels does a horse have?                                             \n",
       "</pre>\n"
      ],
      "text/plain": [
       "\u001b[2;36m[10/17/23 19:05:17]\u001b[0m\u001b[2;36m \u001b[0m\u001b[34mINFO    \u001b[0m AlteryxToolkitTask 69df4ec04c5c426fbf0340d6a87f8bcd                                   \n",
       "\u001b[2;36m                    \u001b[0m         Input: How many wheels does a horse have?                                             \n"
      ]
     },
     "metadata": {},
     "output_type": "display_data"
    },
    {
     "data": {
      "text/html": [
       "<pre style=\"white-space:pre;overflow-x:auto;line-height:normal;font-family:Menlo,'DejaVu Sans Mono',consolas,'Courier New',monospace\"><span style=\"color: #7fbfbf; text-decoration-color: #7fbfbf\">[10/17/23 19:05:18] </span><span style=\"color: #000080; text-decoration-color: #000080\">INFO    </span> AlteryxToolkitTask 69df4ec04c5c426fbf0340d6a87f8bcd                                   \n",
       "<span style=\"color: #7fbfbf; text-decoration-color: #7fbfbf\">                    </span>         Output: A horse typically has four legs and therefore does not have any wheels.       \n",
       "</pre>\n"
      ],
      "text/plain": [
       "\u001b[2;36m[10/17/23 19:05:18]\u001b[0m\u001b[2;36m \u001b[0m\u001b[34mINFO    \u001b[0m AlteryxToolkitTask 69df4ec04c5c426fbf0340d6a87f8bcd                                   \n",
       "\u001b[2;36m                    \u001b[0m         Output: A horse typically has four legs and therefore does not have any wheels.       \n"
      ]
     },
     "metadata": {},
     "output_type": "display_data"
    }
   ],
   "source": [
    "response = agent.run(\"How many wheels does a horse have?\")"
   ]
  },
  {
   "cell_type": "markdown",
   "id": "7155e85d-fdda-4031-92ca-f474ccac478c",
   "metadata": {},
   "source": [
    "# How to evaluate\n",
    "\n",
    "Although we did not require any data for fine-tuning, evaluation does require some data. This data, however, can be automatically generated by bare GPT-4, but I think it would also be wise to include some human-created examples addressing interesting edge cases such as questions with ambiguous context like \"What is a cleric?\"\n",
    "\n",
    "AI-generated questions should always be reviewed by a human before being used to evaluate a production model."
   ]
  },
  {
   "cell_type": "code",
   "execution_count": 11,
   "id": "0a8513eb-9cb4-4a82-8ff9-27f925eecdd4",
   "metadata": {},
   "outputs": [
    {
     "name": "stdout",
     "output_type": "stream",
     "text": [
      "1. Can a character use the Dash action and then make an opportunity attack on the same turn in D&D 5th edition?\n",
      "2. What benefits does a character gain from taking the Dodge action in combat?\n",
      "3. How do concentration spells work in D&D 5th edition?\n",
      "4. Can a character use multiple bonus actions in a single turn?\n",
      "5. What happens when a character rolls a natural 1 on their attack roll in combat?\n",
      "6. Can a character cast more than one spell in a single turn in D&D 5th edition?\n",
      "7. How does spellcasting focus work and what are its advantages for spellcasters in D&D 5th edition?\n",
      "8. Can a character use reactions while surprised in D&D 5th edition?\n",
      "9. What are the requirements for a character to have advantage on an ability check in D&D 5th edition?\n",
      "10. How does the grapple mechanic work in combat in D&D 5th edition?\n"
     ]
    }
   ],
   "source": [
    "import os\n",
    "import openai\n",
    "openai.api_key = os.getenv(\"OPENAI_API_KEY\")\n",
    "\n",
    "dnd_questions = openai.ChatCompletion.create(\n",
    "  model=\"gpt-3.5-turbo\",\n",
    "  messages=[\n",
    "    {\"role\": \"system\", \"content\": \"You are a helpful assistant who generates evaluation examples for a question answering AI.\"},\n",
    "    {\"role\": \"user\", \"content\": \"Generate 10 questions a D&D player might ask about fifth edition rules. Put each queston on a separate line.\"}\n",
    "  ]\n",
    ")\n",
    "\n",
    "print(dnd_questions.choices[0].message[\"content\"])"
   ]
  },
  {
   "cell_type": "code",
   "execution_count": 12,
   "id": "bcbf357d-25b8-44ea-8241-b85cef31a69c",
   "metadata": {},
   "outputs": [
    {
     "name": "stdout",
     "output_type": "stream",
     "text": [
      "1. What are the health benefits of practicing yoga?\n",
      "2. How can one improve their photography skills?\n",
      "3. What are the pros and cons of vegetarianism?\n",
      "4. How does climate change impact wildlife populations?\n",
      "5. What are some effective strategies for time management?\n",
      "6. How does exercise contribute to mental well-being?\n",
      "7. What are the major causes of deforestation, and how can it be addressed?\n",
      "8. How does social media influence people's self-esteem?\n",
      "9. What are the potential benefits of learning a second language?\n",
      "10. What are the environmental impacts of plastic pollution and how can it be reduced?\n"
     ]
    }
   ],
   "source": [
    "off_topic_questions = openai.ChatCompletion.create(\n",
    "  model=\"gpt-3.5-turbo\",\n",
    "  messages=[\n",
    "    {\"role\": \"system\", \"content\": \"You are a helpful assistant who generates evaluation examples for a question answering AI.\"},\n",
    "    {\"role\": \"user\", \"content\": \"Generate 10 questions about any topic EXCEPT arithmetic and D&D fifth edition.\"}\n",
    "  ]\n",
    ")\n",
    "\n",
    "print(off_topic_questions.choices[0].message[\"content\"])"
   ]
  },
  {
   "cell_type": "markdown",
   "id": "00e072de-42d9-4b37-b76f-f8e11769b971",
   "metadata": {},
   "source": [
    "### Evaluation\n",
    "\n",
    "Just strip out the questions and put them through our `AlteryxAgent`"
   ]
  },
  {
   "cell_type": "code",
   "execution_count": 15,
   "id": "812ef783-372d-469a-a972-0ee227591d1b",
   "metadata": {},
   "outputs": [],
   "source": [
    "agent = AlteryxAgent(\n",
    "    logger_level=logging.INFO,\n",
    "    prompt_driver=OpenAiChatPromptDriver(\n",
    "        model=\"gpt-4\",\n",
    "        #model=\"gpt-3.5-turbo-0613\",\n",
    "        max_tokens=500,\n",
    "        temperature=0,\n",
    "    ),\n",
    ")"
   ]
  },
  {
   "cell_type": "code",
   "execution_count": 16,
   "id": "d56abf8a-f33e-4ead-b521-97244ad96d58",
   "metadata": {},
   "outputs": [
    {
     "data": {
      "text/html": [
       "<pre style=\"white-space:pre;overflow-x:auto;line-height:normal;font-family:Menlo,'DejaVu Sans Mono',consolas,'Courier New',monospace\"><span style=\"color: #7fbfbf; text-decoration-color: #7fbfbf\">[10/17/23 19:06:26] </span><span style=\"color: #000080; text-decoration-color: #000080\">INFO    </span> AlteryxToolkitTask 0483b1768b4c40329db97f9a87579a54                                   \n",
       "<span style=\"color: #7fbfbf; text-decoration-color: #7fbfbf\">                    </span>         Input: <span style=\"color: #008080; text-decoration-color: #008080; font-weight: bold\">1</span>. What are the health benefits of practicing yoga?                            \n",
       "</pre>\n"
      ],
      "text/plain": [
       "\u001b[2;36m[10/17/23 19:06:26]\u001b[0m\u001b[2;36m \u001b[0m\u001b[34mINFO    \u001b[0m AlteryxToolkitTask 0483b1768b4c40329db97f9a87579a54                                   \n",
       "\u001b[2;36m                    \u001b[0m         Input: \u001b[1;36m1\u001b[0m. What are the health benefits of practicing yoga?                            \n"
      ]
     },
     "metadata": {},
     "output_type": "display_data"
    },
    {
     "data": {
      "text/html": [
       "<pre style=\"white-space:pre;overflow-x:auto;line-height:normal;font-family:Menlo,'DejaVu Sans Mono',consolas,'Courier New',monospace\"><span style=\"color: #7fbfbf; text-decoration-color: #7fbfbf\">[10/17/23 19:06:27] </span><span style=\"color: #000080; text-decoration-color: #000080\">INFO    </span> AlteryxToolkitTask 0483b1768b4c40329db97f9a87579a54                                   \n",
       "<span style=\"color: #7fbfbf; text-decoration-color: #7fbfbf\">                    </span>         Output: I don't know.                                                                 \n",
       "</pre>\n"
      ],
      "text/plain": [
       "\u001b[2;36m[10/17/23 19:06:27]\u001b[0m\u001b[2;36m \u001b[0m\u001b[34mINFO    \u001b[0m AlteryxToolkitTask 0483b1768b4c40329db97f9a87579a54                                   \n",
       "\u001b[2;36m                    \u001b[0m         Output: I don't know.                                                                 \n"
      ]
     },
     "metadata": {},
     "output_type": "display_data"
    },
    {
     "data": {
      "text/html": [
       "<pre style=\"white-space:pre;overflow-x:auto;line-height:normal;font-family:Menlo,'DejaVu Sans Mono',consolas,'Courier New',monospace\"><span style=\"color: #7fbfbf; text-decoration-color: #7fbfbf\">                    </span><span style=\"color: #000080; text-decoration-color: #000080\">INFO    </span> AlteryxToolkitTask 0483b1768b4c40329db97f9a87579a54                                   \n",
       "<span style=\"color: #7fbfbf; text-decoration-color: #7fbfbf\">                    </span>         Input: <span style=\"color: #008080; text-decoration-color: #008080; font-weight: bold\">2</span>. How can one improve their photography skills?                               \n",
       "</pre>\n"
      ],
      "text/plain": [
       "\u001b[2;36m                   \u001b[0m\u001b[2;36m \u001b[0m\u001b[34mINFO    \u001b[0m AlteryxToolkitTask 0483b1768b4c40329db97f9a87579a54                                   \n",
       "\u001b[2;36m                    \u001b[0m         Input: \u001b[1;36m2\u001b[0m. How can one improve their photography skills?                               \n"
      ]
     },
     "metadata": {},
     "output_type": "display_data"
    },
    {
     "data": {
      "text/html": [
       "<pre style=\"white-space:pre;overflow-x:auto;line-height:normal;font-family:Menlo,'DejaVu Sans Mono',consolas,'Courier New',monospace\"><span style=\"color: #7fbfbf; text-decoration-color: #7fbfbf\">                    </span><span style=\"color: #000080; text-decoration-color: #000080\">INFO    </span> AlteryxToolkitTask 0483b1768b4c40329db97f9a87579a54                                   \n",
       "<span style=\"color: #7fbfbf; text-decoration-color: #7fbfbf\">                    </span>         Output: I don't know.                                                                 \n",
       "</pre>\n"
      ],
      "text/plain": [
       "\u001b[2;36m                   \u001b[0m\u001b[2;36m \u001b[0m\u001b[34mINFO    \u001b[0m AlteryxToolkitTask 0483b1768b4c40329db97f9a87579a54                                   \n",
       "\u001b[2;36m                    \u001b[0m         Output: I don't know.                                                                 \n"
      ]
     },
     "metadata": {},
     "output_type": "display_data"
    },
    {
     "data": {
      "text/html": [
       "<pre style=\"white-space:pre;overflow-x:auto;line-height:normal;font-family:Menlo,'DejaVu Sans Mono',consolas,'Courier New',monospace\"><span style=\"color: #7fbfbf; text-decoration-color: #7fbfbf\">                    </span><span style=\"color: #000080; text-decoration-color: #000080\">INFO    </span> AlteryxToolkitTask 0483b1768b4c40329db97f9a87579a54                                   \n",
       "<span style=\"color: #7fbfbf; text-decoration-color: #7fbfbf\">                    </span>         Input: <span style=\"color: #008080; text-decoration-color: #008080; font-weight: bold\">3</span>. What are the pros and cons of vegetarianism?                                \n",
       "</pre>\n"
      ],
      "text/plain": [
       "\u001b[2;36m                   \u001b[0m\u001b[2;36m \u001b[0m\u001b[34mINFO    \u001b[0m AlteryxToolkitTask 0483b1768b4c40329db97f9a87579a54                                   \n",
       "\u001b[2;36m                    \u001b[0m         Input: \u001b[1;36m3\u001b[0m. What are the pros and cons of vegetarianism?                                \n"
      ]
     },
     "metadata": {},
     "output_type": "display_data"
    },
    {
     "data": {
      "text/html": [
       "<pre style=\"white-space:pre;overflow-x:auto;line-height:normal;font-family:Menlo,'DejaVu Sans Mono',consolas,'Courier New',monospace\"><span style=\"color: #7fbfbf; text-decoration-color: #7fbfbf\">[10/17/23 19:06:28] </span><span style=\"color: #000080; text-decoration-color: #000080\">INFO    </span> AlteryxToolkitTask 0483b1768b4c40329db97f9a87579a54                                   \n",
       "<span style=\"color: #7fbfbf; text-decoration-color: #7fbfbf\">                    </span>         Output: I don't know.                                                                 \n",
       "</pre>\n"
      ],
      "text/plain": [
       "\u001b[2;36m[10/17/23 19:06:28]\u001b[0m\u001b[2;36m \u001b[0m\u001b[34mINFO    \u001b[0m AlteryxToolkitTask 0483b1768b4c40329db97f9a87579a54                                   \n",
       "\u001b[2;36m                    \u001b[0m         Output: I don't know.                                                                 \n"
      ]
     },
     "metadata": {},
     "output_type": "display_data"
    },
    {
     "data": {
      "text/html": [
       "<pre style=\"white-space:pre;overflow-x:auto;line-height:normal;font-family:Menlo,'DejaVu Sans Mono',consolas,'Courier New',monospace\"><span style=\"color: #7fbfbf; text-decoration-color: #7fbfbf\">                    </span><span style=\"color: #000080; text-decoration-color: #000080\">INFO    </span> AlteryxToolkitTask 0483b1768b4c40329db97f9a87579a54                                   \n",
       "<span style=\"color: #7fbfbf; text-decoration-color: #7fbfbf\">                    </span>         Input: <span style=\"color: #008080; text-decoration-color: #008080; font-weight: bold\">4</span>. How does climate change impact wildlife populations?                        \n",
       "</pre>\n"
      ],
      "text/plain": [
       "\u001b[2;36m                   \u001b[0m\u001b[2;36m \u001b[0m\u001b[34mINFO    \u001b[0m AlteryxToolkitTask 0483b1768b4c40329db97f9a87579a54                                   \n",
       "\u001b[2;36m                    \u001b[0m         Input: \u001b[1;36m4\u001b[0m. How does climate change impact wildlife populations?                        \n"
      ]
     },
     "metadata": {},
     "output_type": "display_data"
    },
    {
     "data": {
      "text/html": [
       "<pre style=\"white-space:pre;overflow-x:auto;line-height:normal;font-family:Menlo,'DejaVu Sans Mono',consolas,'Courier New',monospace\"><span style=\"color: #7fbfbf; text-decoration-color: #7fbfbf\">[10/17/23 19:06:29] </span><span style=\"color: #000080; text-decoration-color: #000080\">INFO    </span> AlteryxToolkitTask 0483b1768b4c40329db97f9a87579a54                                   \n",
       "<span style=\"color: #7fbfbf; text-decoration-color: #7fbfbf\">                    </span>         Output: I don't know.                                                                 \n",
       "</pre>\n"
      ],
      "text/plain": [
       "\u001b[2;36m[10/17/23 19:06:29]\u001b[0m\u001b[2;36m \u001b[0m\u001b[34mINFO    \u001b[0m AlteryxToolkitTask 0483b1768b4c40329db97f9a87579a54                                   \n",
       "\u001b[2;36m                    \u001b[0m         Output: I don't know.                                                                 \n"
      ]
     },
     "metadata": {},
     "output_type": "display_data"
    },
    {
     "data": {
      "text/plain": [
       "[\"I don't know.\", \"I don't know.\", \"I don't know.\", \"I don't know.\"]"
      ]
     },
     "execution_count": 16,
     "metadata": {},
     "output_type": "execute_result"
    }
   ],
   "source": [
    "answers = [agent.run(x).output.value for x in off_topic_questions.choices[0].message[\"content\"].split(\"\\n\")[:4]]\n",
    "answers"
   ]
  }
 ],
 "metadata": {
  "kernelspec": {
   "display_name": "Python 3 (ipykernel)",
   "language": "python",
   "name": "python3"
  },
  "language_info": {
   "codemirror_mode": {
    "name": "ipython",
    "version": 3
   },
   "file_extension": ".py",
   "mimetype": "text/x-python",
   "name": "python",
   "nbconvert_exporter": "python",
   "pygments_lexer": "ipython3",
   "version": "3.11.6"
  }
 },
 "nbformat": 4,
 "nbformat_minor": 5
}
