{
 "cells": [
  {
   "cell_type": "markdown",
   "id": "37879202-8ddd-469a-adea-b855bf187b07",
   "metadata": {},
   "source": [
    "### Note before importing\n",
    "This first cell of imports will take a few minutes to execute. I make use of a vector store, and to keep the scope of this project limited to the purpose of the exercise, I'm building a local vector index of a PDF file downloaded from the web instead of setting up an online vector index and figuring out how to grant access, etc."
   ]
  },
  {
   "cell_type": "code",
   "execution_count": 1,
   "id": "ba44ac36-d096-48a5-a3a4-dcea3d984d87",
   "metadata": {},
   "outputs": [
    {
     "name": "stderr",
     "output_type": "stream",
     "text": [
      "[nltk_data] Downloading package punkt to /tmp/llama_index...\n",
      "[nltk_data]   Unzipping tokenizers/punkt.zip.\n"
     ]
    }
   ],
   "source": [
    "import logging\n",
    "\n",
    "from dotenv import load_dotenv\n",
    "from griptape.drivers import OpenAiChatPromptDriver\n",
    "\n",
    "load_dotenv()\n",
    "\n",
    "from alteryx_poc.agent import AlteryxAgent"
   ]
  },
  {
   "cell_type": "markdown",
   "id": "451c9c80-82cd-4458-af99-7f74904ed3e6",
   "metadata": {},
   "source": [
    "# Problem solving approach\n",
    "Pretrained LLMs that support function calling are already equipped with the ability to respond \"I don't know.\" when they cannot find answers to a question by ReAct prompting and require no additional training data or fine-tuning to do so (although fine-tuning may yield improvements in other areas).\n",
    "\n",
    "### Summary of Prompt\n",
    "- Instructs the AI to act truthfully and not make up facts.\n",
    "- Defines a set of topics the AI is able to discuss.\n",
    "- Equips the AI with a set of tools or actions in may take in discussing those topics.\n",
    "- A prohibition of responding with anything other than \"I don't know\" when the user asks a question that no associated tool can answer.\n",
    "\n",
    "### Why it works\n",
    "The set of tools effectively defines the universe of what the chatbot knows, and it can be expanded simply by equipping the model with more tools. By using an LLM equipped with function calling, the AI is able to use tools to interact with in-memory objects, external data sources, etc.\n",
    "\n",
    "See the full react prompt tepmlate at `altyrex_poc/templates/react.j2`. (I think it can probably be shortened quite a bit, but I haven't really tried.)"
   ]
  },
  {
   "cell_type": "markdown",
   "id": "a01f6f68-fd9a-4eff-a15c-09d9e70be581",
   "metadata": {},
   "source": [
    "# AlteryxAgent\n",
    "This class acts as the main point of interaction with the chat model. Here, we use \"gpt-3.5-turbo-0613\" since it's cheap, seems to work well for this, and has a large context window to handle passing tool schema.\n",
    "\n",
    "`AlteryxAgent` knows only how to perform arithmetic and answer questions about Dungeons & Dragons. Anything else falls outside AI's domain of knowledge and elecitis \"I don't know.\" (or sometimes some variant meaning it doesn't know.\n",
    "\n",
    "### Unreliability after repeated requests\n",
    "Occasionally, the model will hallucinate and answer questions it's not supposed to, or attempt to utilize a tool inappropriately, but these instances seem rare. Hallucinations seem to become more common as more questions are repeatedly asked to the same agent. I think this is because conversation memory that gets passed as part of the full prompt accumulates over time, so that the initial constraints we define in the basic system prompt get \"lost\" in the noise. If that is the cause, it could be mitigated by buffering the conversation memory.\n",
    "\n",
    "Setting the model to GPT-4 does seem to mitigate the problem quite a bit. But due to GPT-4's strict rate limiting, using tools will sometimes cause rate limit warnings and repeated retries."
   ]
  },
  {
   "cell_type": "code",
   "execution_count": 2,
   "id": "80226f9e-6b84-49a7-a9ef-37dfb651606f",
   "metadata": {},
   "outputs": [],
   "source": [
    "agent = AlteryxAgent(\n",
    "    logger_level=logging.INFO, \n",
    "    prompt_driver=OpenAiChatPromptDriver(\n",
    "        # model=\"gpt-4\",\n",
    "        model=\"gpt-3.5-turbo-0613\",\n",
    "        max_tokens=500,\n",
    "        temperature=0,\n",
    "    ),\n",
    ")"
   ]
  },
  {
   "cell_type": "markdown",
   "id": "ec97059e-3b0c-491e-8dd4-192887b26bd3",
   "metadata": {},
   "source": [
    "### Demo 1\n",
    "Start with a couple of questions we know the answer to, but the bot shouldn't."
   ]
  },
  {
   "cell_type": "code",
   "execution_count": 3,
   "id": "81e07115-7072-401d-b671-6b7dfb0783ff",
   "metadata": {},
   "outputs": [
    {
     "data": {
      "text/html": [
       "<pre style=\"white-space:pre;overflow-x:auto;line-height:normal;font-family:Menlo,'DejaVu Sans Mono',consolas,'Courier New',monospace\"><span style=\"color: #7fbfbf; text-decoration-color: #7fbfbf\">[10/17/23 19:22:27] </span><span style=\"color: #000080; text-decoration-color: #000080\">INFO    </span> AlteryxToolkitTask 5cca02dab127406f8bb3ac6f595e6d8e                                   \n",
       "<span style=\"color: #7fbfbf; text-decoration-color: #7fbfbf\">                    </span>         Input: What is the capital of Illinois?                                               \n",
       "</pre>\n"
      ],
      "text/plain": [
       "\u001b[2;36m[10/17/23 19:22:27]\u001b[0m\u001b[2;36m \u001b[0m\u001b[34mINFO    \u001b[0m AlteryxToolkitTask 5cca02dab127406f8bb3ac6f595e6d8e                                   \n",
       "\u001b[2;36m                    \u001b[0m         Input: What is the capital of Illinois?                                               \n"
      ]
     },
     "metadata": {},
     "output_type": "display_data"
    },
    {
     "data": {
      "text/html": [
       "<pre style=\"white-space:pre;overflow-x:auto;line-height:normal;font-family:Menlo,'DejaVu Sans Mono',consolas,'Courier New',monospace\"><span style=\"color: #7fbfbf; text-decoration-color: #7fbfbf\">[10/17/23 19:22:28] </span><span style=\"color: #000080; text-decoration-color: #000080\">INFO    </span> AlteryxToolkitTask 5cca02dab127406f8bb3ac6f595e6d8e                                   \n",
       "<span style=\"color: #7fbfbf; text-decoration-color: #7fbfbf\">                    </span>         Output: I don't know.                                                                 \n",
       "</pre>\n"
      ],
      "text/plain": [
       "\u001b[2;36m[10/17/23 19:22:28]\u001b[0m\u001b[2;36m \u001b[0m\u001b[34mINFO    \u001b[0m AlteryxToolkitTask 5cca02dab127406f8bb3ac6f595e6d8e                                   \n",
       "\u001b[2;36m                    \u001b[0m         Output: I don't know.                                                                 \n"
      ]
     },
     "metadata": {},
     "output_type": "display_data"
    }
   ],
   "source": [
    "response = agent.run(\"What is the capital of Illinois?\")"
   ]
  },
  {
   "cell_type": "code",
   "execution_count": 4,
   "id": "e2e623b2-3b8b-4f4b-86a3-91cf38d7fc30",
   "metadata": {},
   "outputs": [
    {
     "data": {
      "text/html": [
       "<pre style=\"white-space:pre;overflow-x:auto;line-height:normal;font-family:Menlo,'DejaVu Sans Mono',consolas,'Courier New',monospace\"><span style=\"color: #7fbfbf; text-decoration-color: #7fbfbf\">[10/17/23 19:22:29] </span><span style=\"color: #000080; text-decoration-color: #000080\">INFO    </span> AlteryxToolkitTask 5cca02dab127406f8bb3ac6f595e6d8e                                   \n",
       "<span style=\"color: #7fbfbf; text-decoration-color: #7fbfbf\">                    </span>         Input: Who wrote The Fall of the House of Usher?                                      \n",
       "</pre>\n"
      ],
      "text/plain": [
       "\u001b[2;36m[10/17/23 19:22:29]\u001b[0m\u001b[2;36m \u001b[0m\u001b[34mINFO    \u001b[0m AlteryxToolkitTask 5cca02dab127406f8bb3ac6f595e6d8e                                   \n",
       "\u001b[2;36m                    \u001b[0m         Input: Who wrote The Fall of the House of Usher?                                      \n"
      ]
     },
     "metadata": {},
     "output_type": "display_data"
    },
    {
     "data": {
      "text/html": [
       "<pre style=\"white-space:pre;overflow-x:auto;line-height:normal;font-family:Menlo,'DejaVu Sans Mono',consolas,'Courier New',monospace\"><span style=\"color: #7fbfbf; text-decoration-color: #7fbfbf\">[10/17/23 19:22:30] </span><span style=\"color: #000080; text-decoration-color: #000080\">INFO    </span> AlteryxToolkitTask 5cca02dab127406f8bb3ac6f595e6d8e                                   \n",
       "<span style=\"color: #7fbfbf; text-decoration-color: #7fbfbf\">                    </span>         Output: I don't know.                                                                 \n",
       "</pre>\n"
      ],
      "text/plain": [
       "\u001b[2;36m[10/17/23 19:22:30]\u001b[0m\u001b[2;36m \u001b[0m\u001b[34mINFO    \u001b[0m AlteryxToolkitTask 5cca02dab127406f8bb3ac6f595e6d8e                                   \n",
       "\u001b[2;36m                    \u001b[0m         Output: I don't know.                                                                 \n"
      ]
     },
     "metadata": {},
     "output_type": "display_data"
    }
   ],
   "source": [
    "response = agent.run(\"Who wrote The Fall of the House of Usher?\")"
   ]
  },
  {
   "cell_type": "markdown",
   "id": "af0824a2-e675-4798-80b2-a1c7c90db3a7",
   "metadata": {},
   "source": [
    "### Demo 2\n",
    "Now a question that would be hard for us to answer, but is right within the bot's domain."
   ]
  },
  {
   "cell_type": "code",
   "execution_count": 5,
   "id": "4693227d-b355-424c-b434-35164c6ed702",
   "metadata": {},
   "outputs": [
    {
     "data": {
      "text/html": [
       "<pre style=\"white-space:pre;overflow-x:auto;line-height:normal;font-family:Menlo,'DejaVu Sans Mono',consolas,'Courier New',monospace\"><span style=\"color: #7fbfbf; text-decoration-color: #7fbfbf\">[10/17/23 19:22:34] </span><span style=\"color: #000080; text-decoration-color: #000080\">INFO    </span> AlteryxToolkitTask 5cca02dab127406f8bb3ac6f595e6d8e                                   \n",
       "<span style=\"color: #7fbfbf; text-decoration-color: #7fbfbf\">                    </span>         Input: What is <span style=\"color: #008080; text-decoration-color: #008080; font-weight: bold\">156.5345</span> times <span style=\"color: #008080; text-decoration-color: #008080; font-weight: bold\">2345</span> divided by <span style=\"color: #008080; text-decoration-color: #008080; font-weight: bold\">12345</span>?                                  \n",
       "</pre>\n"
      ],
      "text/plain": [
       "\u001b[2;36m[10/17/23 19:22:34]\u001b[0m\u001b[2;36m \u001b[0m\u001b[34mINFO    \u001b[0m AlteryxToolkitTask 5cca02dab127406f8bb3ac6f595e6d8e                                   \n",
       "\u001b[2;36m                    \u001b[0m         Input: What is \u001b[1;36m156.5345\u001b[0m times \u001b[1;36m2345\u001b[0m divided by \u001b[1;36m12345\u001b[0m?                                  \n"
      ]
     },
     "metadata": {},
     "output_type": "display_data"
    },
    {
     "data": {
      "text/html": [
       "<pre style=\"white-space:pre;overflow-x:auto;line-height:normal;font-family:Menlo,'DejaVu Sans Mono',consolas,'Courier New',monospace\"><span style=\"color: #7fbfbf; text-decoration-color: #7fbfbf\">[10/17/23 19:22:37] </span><span style=\"color: #000080; text-decoration-color: #000080\">INFO    </span> Subtask d413209488be48d0b680dbac1cd1c26b                                              \n",
       "<span style=\"color: #7fbfbf; text-decoration-color: #7fbfbf\">                    </span>         Thought: I can use the Calculator tool to calculate the expression.                   \n",
       "<span style=\"color: #7fbfbf; text-decoration-color: #7fbfbf\">                    </span>                                                                                               \n",
       "<span style=\"color: #7fbfbf; text-decoration-color: #7fbfbf\">                    </span>         Action: <span style=\"font-weight: bold\">{</span><span style=\"color: #008000; text-decoration-color: #008000\">\"type\"</span>: <span style=\"color: #008000; text-decoration-color: #008000\">\"tool\"</span>, <span style=\"color: #008000; text-decoration-color: #008000\">\"name\"</span>: <span style=\"color: #008000; text-decoration-color: #008000\">\"Calculator\"</span>, <span style=\"color: #008000; text-decoration-color: #008000\">\"activity\"</span>: <span style=\"color: #008000; text-decoration-color: #008000\">\"calculate\"</span>, <span style=\"color: #008000; text-decoration-color: #008000\">\"input\"</span>:      \n",
       "<span style=\"color: #7fbfbf; text-decoration-color: #7fbfbf\">                    </span>         <span style=\"font-weight: bold\">{</span><span style=\"color: #008000; text-decoration-color: #008000\">\"values\"</span>: <span style=\"font-weight: bold\">{</span><span style=\"color: #008000; text-decoration-color: #008000\">\"expression\"</span>: <span style=\"color: #008000; text-decoration-color: #008000\">\"156.5345 * 2345 / 12345\"</span><span style=\"font-weight: bold\">}}}</span>                                \n",
       "</pre>\n"
      ],
      "text/plain": [
       "\u001b[2;36m[10/17/23 19:22:37]\u001b[0m\u001b[2;36m \u001b[0m\u001b[34mINFO    \u001b[0m Subtask d413209488be48d0b680dbac1cd1c26b                                              \n",
       "\u001b[2;36m                    \u001b[0m         Thought: I can use the Calculator tool to calculate the expression.                   \n",
       "\u001b[2;36m                    \u001b[0m                                                                                               \n",
       "\u001b[2;36m                    \u001b[0m         Action: \u001b[1m{\u001b[0m\u001b[32m\"type\"\u001b[0m: \u001b[32m\"tool\"\u001b[0m, \u001b[32m\"name\"\u001b[0m: \u001b[32m\"Calculator\"\u001b[0m, \u001b[32m\"activity\"\u001b[0m: \u001b[32m\"calculate\"\u001b[0m, \u001b[32m\"input\"\u001b[0m:      \n",
       "\u001b[2;36m                    \u001b[0m         \u001b[1m{\u001b[0m\u001b[32m\"values\"\u001b[0m: \u001b[1m{\u001b[0m\u001b[32m\"expression\"\u001b[0m: \u001b[32m\"156.5345 * 2345 / 12345\"\u001b[0m\u001b[1m}\u001b[0m\u001b[1m}\u001b[0m\u001b[1m}\u001b[0m                                \n"
      ]
     },
     "metadata": {},
     "output_type": "display_data"
    },
    {
     "data": {
      "text/html": [
       "<pre style=\"white-space:pre;overflow-x:auto;line-height:normal;font-family:Menlo,'DejaVu Sans Mono',consolas,'Courier New',monospace\"><span style=\"color: #7fbfbf; text-decoration-color: #7fbfbf\">                    </span><span style=\"color: #000080; text-decoration-color: #000080\">INFO    </span> Subtask d413209488be48d0b680dbac1cd1c26b                                              \n",
       "<span style=\"color: #7fbfbf; text-decoration-color: #7fbfbf\">                    </span>         Observation: <span style=\"color: #008080; text-decoration-color: #008080; font-weight: bold\">29.734581004455247</span>                                                       \n",
       "</pre>\n"
      ],
      "text/plain": [
       "\u001b[2;36m                   \u001b[0m\u001b[2;36m \u001b[0m\u001b[34mINFO    \u001b[0m Subtask d413209488be48d0b680dbac1cd1c26b                                              \n",
       "\u001b[2;36m                    \u001b[0m         Observation: \u001b[1;36m29.734581004455247\u001b[0m                                                       \n"
      ]
     },
     "metadata": {},
     "output_type": "display_data"
    },
    {
     "data": {
      "text/html": [
       "<pre style=\"white-space:pre;overflow-x:auto;line-height:normal;font-family:Menlo,'DejaVu Sans Mono',consolas,'Courier New',monospace\"><span style=\"color: #7fbfbf; text-decoration-color: #7fbfbf\">[10/17/23 19:22:38] </span><span style=\"color: #000080; text-decoration-color: #000080\">INFO    </span> AlteryxToolkitTask 5cca02dab127406f8bb3ac6f595e6d8e                                   \n",
       "<span style=\"color: #7fbfbf; text-decoration-color: #7fbfbf\">                    </span>         Output: The result of <span style=\"color: #008080; text-decoration-color: #008080; font-weight: bold\">156.5345</span> times <span style=\"color: #008080; text-decoration-color: #008080; font-weight: bold\">2345</span> divided by <span style=\"color: #008080; text-decoration-color: #008080; font-weight: bold\">12345</span> is approximately <span style=\"color: #008080; text-decoration-color: #008080; font-weight: bold\">29.7346</span>.  \n",
       "</pre>\n"
      ],
      "text/plain": [
       "\u001b[2;36m[10/17/23 19:22:38]\u001b[0m\u001b[2;36m \u001b[0m\u001b[34mINFO    \u001b[0m AlteryxToolkitTask 5cca02dab127406f8bb3ac6f595e6d8e                                   \n",
       "\u001b[2;36m                    \u001b[0m         Output: The result of \u001b[1;36m156.5345\u001b[0m times \u001b[1;36m2345\u001b[0m divided by \u001b[1;36m12345\u001b[0m is approximately \u001b[1;36m29.7346\u001b[0m.  \n"
      ]
     },
     "metadata": {},
     "output_type": "display_data"
    }
   ],
   "source": [
    "response = agent.run(\"What is 156.5345 times 2345 divided by 12345?\")"
   ]
  },
  {
   "cell_type": "markdown",
   "id": "5c6f88ef-8717-454f-b483-a4a6ac2328ca",
   "metadata": {},
   "source": [
    "### Demo 3\n",
    "Now a question that draws on a specific domain of knowledge that has been provided to it in a vector store of the D&D rules."
   ]
  },
  {
   "cell_type": "code",
   "execution_count": 6,
   "id": "d4a1e983-d0c1-4e2e-b7bb-d992033bb4cb",
   "metadata": {},
   "outputs": [
    {
     "data": {
      "text/html": [
       "<pre style=\"white-space:pre;overflow-x:auto;line-height:normal;font-family:Menlo,'DejaVu Sans Mono',consolas,'Courier New',monospace\"><span style=\"color: #7fbfbf; text-decoration-color: #7fbfbf\">[10/17/23 19:22:41] </span><span style=\"color: #000080; text-decoration-color: #000080\">INFO    </span> AlteryxToolkitTask 5cca02dab127406f8bb3ac6f595e6d8e                                   \n",
       "<span style=\"color: #7fbfbf; text-decoration-color: #7fbfbf\">                    </span>         Input: What does magic missile do in D&amp;D 5e?                                          \n",
       "</pre>\n"
      ],
      "text/plain": [
       "\u001b[2;36m[10/17/23 19:22:41]\u001b[0m\u001b[2;36m \u001b[0m\u001b[34mINFO    \u001b[0m AlteryxToolkitTask 5cca02dab127406f8bb3ac6f595e6d8e                                   \n",
       "\u001b[2;36m                    \u001b[0m         Input: What does magic missile do in D&D 5e?                                          \n"
      ]
     },
     "metadata": {},
     "output_type": "display_data"
    },
    {
     "data": {
      "text/html": [
       "<pre style=\"white-space:pre;overflow-x:auto;line-height:normal;font-family:Menlo,'DejaVu Sans Mono',consolas,'Courier New',monospace\"><span style=\"color: #7fbfbf; text-decoration-color: #7fbfbf\">[10/17/23 19:22:44] </span><span style=\"color: #000080; text-decoration-color: #000080\">INFO    </span> Subtask 0a08bc6318cb43a2ba9c92fda8bc3def                                              \n",
       "<span style=\"color: #7fbfbf; text-decoration-color: #7fbfbf\">                    </span>         Thought: I can use the SRDVectors tool to find the information about the spell <span style=\"color: #008000; text-decoration-color: #008000\">\"magic </span>\n",
       "<span style=\"color: #7fbfbf; text-decoration-color: #7fbfbf\">                    </span>         <span style=\"color: #008000; text-decoration-color: #008000\">missile\"</span> in D&amp;D 5e.                                                                   \n",
       "<span style=\"color: #7fbfbf; text-decoration-color: #7fbfbf\">                    </span>                                                                                               \n",
       "<span style=\"color: #7fbfbf; text-decoration-color: #7fbfbf\">                    </span>         Action: <span style=\"font-weight: bold\">{</span><span style=\"color: #008000; text-decoration-color: #008000\">\"type\"</span>: <span style=\"color: #008000; text-decoration-color: #008000\">\"tool\"</span>, <span style=\"color: #008000; text-decoration-color: #008000\">\"name\"</span>: <span style=\"color: #008000; text-decoration-color: #008000\">\"SRDVectors\"</span>, <span style=\"color: #008000; text-decoration-color: #008000\">\"activity\"</span>: <span style=\"color: #008000; text-decoration-color: #008000\">\"query_srd_vectors\"</span>,       \n",
       "<span style=\"color: #7fbfbf; text-decoration-color: #7fbfbf\">                    </span>         <span style=\"color: #008000; text-decoration-color: #008000\">\"input\"</span>: <span style=\"font-weight: bold\">{</span><span style=\"color: #008000; text-decoration-color: #008000\">\"values\"</span>: <span style=\"font-weight: bold\">{</span><span style=\"color: #008000; text-decoration-color: #008000\">\"query\"</span>: <span style=\"color: #008000; text-decoration-color: #008000\">\"What does magic missile do in D&amp;D 5e?\"</span><span style=\"font-weight: bold\">}}}</span>              \n",
       "</pre>\n"
      ],
      "text/plain": [
       "\u001b[2;36m[10/17/23 19:22:44]\u001b[0m\u001b[2;36m \u001b[0m\u001b[34mINFO    \u001b[0m Subtask 0a08bc6318cb43a2ba9c92fda8bc3def                                              \n",
       "\u001b[2;36m                    \u001b[0m         Thought: I can use the SRDVectors tool to find the information about the spell \u001b[32m\"magic \u001b[0m\n",
       "\u001b[2;36m                    \u001b[0m         \u001b[32mmissile\"\u001b[0m in D&D 5e.                                                                   \n",
       "\u001b[2;36m                    \u001b[0m                                                                                               \n",
       "\u001b[2;36m                    \u001b[0m         Action: \u001b[1m{\u001b[0m\u001b[32m\"type\"\u001b[0m: \u001b[32m\"tool\"\u001b[0m, \u001b[32m\"name\"\u001b[0m: \u001b[32m\"SRDVectors\"\u001b[0m, \u001b[32m\"activity\"\u001b[0m: \u001b[32m\"query_srd_vectors\"\u001b[0m,       \n",
       "\u001b[2;36m                    \u001b[0m         \u001b[32m\"input\"\u001b[0m: \u001b[1m{\u001b[0m\u001b[32m\"values\"\u001b[0m: \u001b[1m{\u001b[0m\u001b[32m\"query\"\u001b[0m: \u001b[32m\"What does magic missile do in D&D 5e?\"\u001b[0m\u001b[1m}\u001b[0m\u001b[1m}\u001b[0m\u001b[1m}\u001b[0m              \n"
      ]
     },
     "metadata": {},
     "output_type": "display_data"
    },
    {
     "data": {
      "text/html": [
       "<pre style=\"white-space:pre;overflow-x:auto;line-height:normal;font-family:Menlo,'DejaVu Sans Mono',consolas,'Courier New',monospace\"><span style=\"color: #7fbfbf; text-decoration-color: #7fbfbf\">[10/17/23 19:22:47] </span><span style=\"color: #000080; text-decoration-color: #000080\">INFO    </span> Subtask 0a08bc6318cb43a2ba9c92fda8bc3def                                              \n",
       "<span style=\"color: #7fbfbf; text-decoration-color: #7fbfbf\">                    </span>         Observation: Output of <span style=\"color: #008000; text-decoration-color: #008000\">\"SRDVectors.query_srd_vectors\"</span> was stored in memory with       \n",
       "<span style=\"color: #7fbfbf; text-decoration-color: #7fbfbf\">                    </span>         memory_name <span style=\"color: #008000; text-decoration-color: #008000\">\"TextToolMemory\"</span> and artifact_namespace <span style=\"color: #008000; text-decoration-color: #008000\">\"55e1e145b1c14bdabfb757fbfd923eb6\"</span>\n",
       "</pre>\n"
      ],
      "text/plain": [
       "\u001b[2;36m[10/17/23 19:22:47]\u001b[0m\u001b[2;36m \u001b[0m\u001b[34mINFO    \u001b[0m Subtask 0a08bc6318cb43a2ba9c92fda8bc3def                                              \n",
       "\u001b[2;36m                    \u001b[0m         Observation: Output of \u001b[32m\"SRDVectors.query_srd_vectors\"\u001b[0m was stored in memory with       \n",
       "\u001b[2;36m                    \u001b[0m         memory_name \u001b[32m\"TextToolMemory\"\u001b[0m and artifact_namespace \u001b[32m\"55e1e145b1c14bdabfb757fbfd923eb6\"\u001b[0m\n"
      ]
     },
     "metadata": {},
     "output_type": "display_data"
    },
    {
     "data": {
      "text/html": [
       "<pre style=\"white-space:pre;overflow-x:auto;line-height:normal;font-family:Menlo,'DejaVu Sans Mono',consolas,'Courier New',monospace\"><span style=\"color: #7fbfbf; text-decoration-color: #7fbfbf\">[10/17/23 19:22:50] </span><span style=\"color: #000080; text-decoration-color: #000080\">INFO    </span> Subtask b77d0eb2e36d4cfca2134b8747617eee                                              \n",
       "<span style=\"color: #7fbfbf; text-decoration-color: #7fbfbf\">                    </span>         Thought: I can use the TextToolMemory tool to search for the information about the    \n",
       "<span style=\"color: #7fbfbf; text-decoration-color: #7fbfbf\">                    </span>         spell <span style=\"color: #008000; text-decoration-color: #008000\">\"magic missile\"</span> in the stored output.                                           \n",
       "<span style=\"color: #7fbfbf; text-decoration-color: #7fbfbf\">                    </span>         Action: <span style=\"font-weight: bold\">{</span><span style=\"color: #008000; text-decoration-color: #008000\">\"type\"</span>: <span style=\"color: #008000; text-decoration-color: #008000\">\"memory\"</span>, <span style=\"color: #008000; text-decoration-color: #008000\">\"name\"</span>: <span style=\"color: #008000; text-decoration-color: #008000\">\"TextToolMemory\"</span>, <span style=\"color: #008000; text-decoration-color: #008000\">\"activity\"</span>: <span style=\"color: #008000; text-decoration-color: #008000\">\"search\"</span>, <span style=\"color: #008000; text-decoration-color: #008000\">\"input\"</span>:   \n",
       "<span style=\"color: #7fbfbf; text-decoration-color: #7fbfbf\">                    </span>         <span style=\"font-weight: bold\">{</span><span style=\"color: #008000; text-decoration-color: #008000\">\"values\"</span>: <span style=\"font-weight: bold\">{</span><span style=\"color: #008000; text-decoration-color: #008000\">\"memory_name\"</span>: <span style=\"color: #008000; text-decoration-color: #008000\">\"TextToolMemory\"</span>, <span style=\"color: #008000; text-decoration-color: #008000\">\"artifact_namespace\"</span>:                    \n",
       "<span style=\"color: #7fbfbf; text-decoration-color: #7fbfbf\">                    </span>         <span style=\"color: #008000; text-decoration-color: #008000\">\"55e1e145b1c14bdabfb757fbfd923eb6\"</span>, <span style=\"color: #008000; text-decoration-color: #008000\">\"query\"</span>: <span style=\"color: #008000; text-decoration-color: #008000\">\"What does magic missile do in D&amp;D </span>      \n",
       "<span style=\"color: #7fbfbf; text-decoration-color: #7fbfbf\">                    </span>         <span style=\"color: #008000; text-decoration-color: #008000\">5e?\"</span><span style=\"font-weight: bold\">}}}</span>                                                                               \n",
       "</pre>\n"
      ],
      "text/plain": [
       "\u001b[2;36m[10/17/23 19:22:50]\u001b[0m\u001b[2;36m \u001b[0m\u001b[34mINFO    \u001b[0m Subtask b77d0eb2e36d4cfca2134b8747617eee                                              \n",
       "\u001b[2;36m                    \u001b[0m         Thought: I can use the TextToolMemory tool to search for the information about the    \n",
       "\u001b[2;36m                    \u001b[0m         spell \u001b[32m\"magic missile\"\u001b[0m in the stored output.                                           \n",
       "\u001b[2;36m                    \u001b[0m         Action: \u001b[1m{\u001b[0m\u001b[32m\"type\"\u001b[0m: \u001b[32m\"memory\"\u001b[0m, \u001b[32m\"name\"\u001b[0m: \u001b[32m\"TextToolMemory\"\u001b[0m, \u001b[32m\"activity\"\u001b[0m: \u001b[32m\"search\"\u001b[0m, \u001b[32m\"input\"\u001b[0m:   \n",
       "\u001b[2;36m                    \u001b[0m         \u001b[1m{\u001b[0m\u001b[32m\"values\"\u001b[0m: \u001b[1m{\u001b[0m\u001b[32m\"memory_name\"\u001b[0m: \u001b[32m\"TextToolMemory\"\u001b[0m, \u001b[32m\"artifact_namespace\"\u001b[0m:                    \n",
       "\u001b[2;36m                    \u001b[0m         \u001b[32m\"55e1e145b1c14bdabfb757fbfd923eb6\"\u001b[0m, \u001b[32m\"query\"\u001b[0m: \u001b[32m\"What does magic missile do in D&D \u001b[0m      \n",
       "\u001b[2;36m                    \u001b[0m         \u001b[32m5e?\"\u001b[0m\u001b[1m}\u001b[0m\u001b[1m}\u001b[0m\u001b[1m}\u001b[0m                                                                               \n"
      ]
     },
     "metadata": {},
     "output_type": "display_data"
    },
    {
     "data": {
      "text/html": [
       "<pre style=\"white-space:pre;overflow-x:auto;line-height:normal;font-family:Menlo,'DejaVu Sans Mono',consolas,'Courier New',monospace\"><span style=\"color: #7fbfbf; text-decoration-color: #7fbfbf\">[10/17/23 19:22:53] </span><span style=\"color: #000080; text-decoration-color: #000080\">INFO    </span> Subtask b77d0eb2e36d4cfca2134b8747617eee                                              \n",
       "<span style=\"color: #7fbfbf; text-decoration-color: #7fbfbf\">                    </span>         Observation: Magic Missile is a 1st level wizard spell in D&amp;D 5e that allows the      \n",
       "<span style=\"color: #7fbfbf; text-decoration-color: #7fbfbf\">                    </span>         caster to create three glowing darts of magical force. These darts automatically hit  \n",
       "<span style=\"color: #7fbfbf; text-decoration-color: #7fbfbf\">                    </span>         their targets and each dart deals 1d4 + <span style=\"color: #008080; text-decoration-color: #008080; font-weight: bold\">1</span> force damage. The caster can choose to      \n",
       "<span style=\"color: #7fbfbf; text-decoration-color: #7fbfbf\">                    </span>         target one creature or multiple creatures with the darts.                             \n",
       "</pre>\n"
      ],
      "text/plain": [
       "\u001b[2;36m[10/17/23 19:22:53]\u001b[0m\u001b[2;36m \u001b[0m\u001b[34mINFO    \u001b[0m Subtask b77d0eb2e36d4cfca2134b8747617eee                                              \n",
       "\u001b[2;36m                    \u001b[0m         Observation: Magic Missile is a 1st level wizard spell in D&D 5e that allows the      \n",
       "\u001b[2;36m                    \u001b[0m         caster to create three glowing darts of magical force. These darts automatically hit  \n",
       "\u001b[2;36m                    \u001b[0m         their targets and each dart deals 1d4 + \u001b[1;36m1\u001b[0m force damage. The caster can choose to      \n",
       "\u001b[2;36m                    \u001b[0m         target one creature or multiple creatures with the darts.                             \n"
      ]
     },
     "metadata": {},
     "output_type": "display_data"
    },
    {
     "data": {
      "text/html": [
       "<pre style=\"white-space:pre;overflow-x:auto;line-height:normal;font-family:Menlo,'DejaVu Sans Mono',consolas,'Courier New',monospace\"><span style=\"color: #7fbfbf; text-decoration-color: #7fbfbf\">[10/17/23 19:22:56] </span><span style=\"color: #000080; text-decoration-color: #000080\">INFO    </span> AlteryxToolkitTask 5cca02dab127406f8bb3ac6f595e6d8e                                   \n",
       "<span style=\"color: #7fbfbf; text-decoration-color: #7fbfbf\">                    </span>         Output: In D&amp;D 5e, magic missile is a 1st level wizard spell that allows the caster to\n",
       "<span style=\"color: #7fbfbf; text-decoration-color: #7fbfbf\">                    </span>         create three glowing darts of magical force. These darts automatically hit their      \n",
       "<span style=\"color: #7fbfbf; text-decoration-color: #7fbfbf\">                    </span>         targets and each dart deals 1d4 + <span style=\"color: #008080; text-decoration-color: #008080; font-weight: bold\">1</span> force damage. The caster can choose to target one \n",
       "<span style=\"color: #7fbfbf; text-decoration-color: #7fbfbf\">                    </span>         creature or multiple creatures with the darts.                                        \n",
       "</pre>\n"
      ],
      "text/plain": [
       "\u001b[2;36m[10/17/23 19:22:56]\u001b[0m\u001b[2;36m \u001b[0m\u001b[34mINFO    \u001b[0m AlteryxToolkitTask 5cca02dab127406f8bb3ac6f595e6d8e                                   \n",
       "\u001b[2;36m                    \u001b[0m         Output: In D&D 5e, magic missile is a 1st level wizard spell that allows the caster to\n",
       "\u001b[2;36m                    \u001b[0m         create three glowing darts of magical force. These darts automatically hit their      \n",
       "\u001b[2;36m                    \u001b[0m         targets and each dart deals 1d4 + \u001b[1;36m1\u001b[0m force damage. The caster can choose to target one \n",
       "\u001b[2;36m                    \u001b[0m         creature or multiple creatures with the darts.                                        \n"
      ]
     },
     "metadata": {},
     "output_type": "display_data"
    }
   ],
   "source": [
    "response = agent.run(\"What does magic missile do in D&D 5e?\")"
   ]
  },
  {
   "cell_type": "markdown",
   "id": "5a69bdfa-485a-4188-936b-560622011929",
   "metadata": {},
   "source": [
    "### Demo 4\n",
    "Now a question where it's ambiguous whether we're asking within its domain or outside of it.\n",
    "\n",
    "Most of the time, the model just immediately defaults to interpreting the question about D&D, but occasionally, it will do a really interesting chain of thought in which it attempts to resolve the ambiguity on its own. Fingers crossed it does the cool thing."
   ]
  },
  {
   "cell_type": "code",
   "execution_count": 7,
   "id": "7d04ccf8-18ee-4e69-a795-e63f4aa9be18",
   "metadata": {},
   "outputs": [
    {
     "data": {
      "text/html": [
       "<pre style=\"white-space:pre;overflow-x:auto;line-height:normal;font-family:Menlo,'DejaVu Sans Mono',consolas,'Courier New',monospace\"><span style=\"color: #7fbfbf; text-decoration-color: #7fbfbf\">[10/17/23 19:23:02] </span><span style=\"color: #000080; text-decoration-color: #000080\">INFO    </span> AlteryxToolkitTask 5cca02dab127406f8bb3ac6f595e6d8e                                   \n",
       "<span style=\"color: #7fbfbf; text-decoration-color: #7fbfbf\">                    </span>         Input: What is a cleric?                                                              \n",
       "</pre>\n"
      ],
      "text/plain": [
       "\u001b[2;36m[10/17/23 19:23:02]\u001b[0m\u001b[2;36m \u001b[0m\u001b[34mINFO    \u001b[0m AlteryxToolkitTask 5cca02dab127406f8bb3ac6f595e6d8e                                   \n",
       "\u001b[2;36m                    \u001b[0m         Input: What is a cleric?                                                              \n"
      ]
     },
     "metadata": {},
     "output_type": "display_data"
    },
    {
     "data": {
      "text/html": [
       "<pre style=\"white-space:pre;overflow-x:auto;line-height:normal;font-family:Menlo,'DejaVu Sans Mono',consolas,'Courier New',monospace\"><span style=\"color: #7fbfbf; text-decoration-color: #7fbfbf\">[10/17/23 19:23:06] </span><span style=\"color: #000080; text-decoration-color: #000080\">INFO    </span> AlteryxToolkitTask 5cca02dab127406f8bb3ac6f595e6d8e                                   \n",
       "<span style=\"color: #7fbfbf; text-decoration-color: #7fbfbf\">                    </span>         Output: A cleric is a class in Dungeons &amp; Dragons 5th edition. Clerics are divine     \n",
       "<span style=\"color: #7fbfbf; text-decoration-color: #7fbfbf\">                    </span>         spellcasters who draw their power from a deity or a divine source. They are versatile \n",
       "<span style=\"color: #7fbfbf; text-decoration-color: #7fbfbf\">                    </span>         support characters who can heal wounds, protect allies, and wield divine magic to     \n",
       "<span style=\"color: #7fbfbf; text-decoration-color: #7fbfbf\">                    </span>         smite enemies. Clerics have access to a wide range of spells and abilities that allow \n",
       "<span style=\"color: #7fbfbf; text-decoration-color: #7fbfbf\">                    </span>         them to fulfill various roles within a party, such as healing, buffing, dealing       \n",
       "<span style=\"color: #7fbfbf; text-decoration-color: #7fbfbf\">                    </span>         damage, or controlling the battlefield. They also have the ability to wear armor and  \n",
       "<span style=\"color: #7fbfbf; text-decoration-color: #7fbfbf\">                    </span>         wield weapons, making them capable frontline combatants if needed.                    \n",
       "</pre>\n"
      ],
      "text/plain": [
       "\u001b[2;36m[10/17/23 19:23:06]\u001b[0m\u001b[2;36m \u001b[0m\u001b[34mINFO    \u001b[0m AlteryxToolkitTask 5cca02dab127406f8bb3ac6f595e6d8e                                   \n",
       "\u001b[2;36m                    \u001b[0m         Output: A cleric is a class in Dungeons & Dragons 5th edition. Clerics are divine     \n",
       "\u001b[2;36m                    \u001b[0m         spellcasters who draw their power from a deity or a divine source. They are versatile \n",
       "\u001b[2;36m                    \u001b[0m         support characters who can heal wounds, protect allies, and wield divine magic to     \n",
       "\u001b[2;36m                    \u001b[0m         smite enemies. Clerics have access to a wide range of spells and abilities that allow \n",
       "\u001b[2;36m                    \u001b[0m         them to fulfill various roles within a party, such as healing, buffing, dealing       \n",
       "\u001b[2;36m                    \u001b[0m         damage, or controlling the battlefield. They also have the ability to wear armor and  \n",
       "\u001b[2;36m                    \u001b[0m         wield weapons, making them capable frontline combatants if needed.                    \n"
      ]
     },
     "metadata": {},
     "output_type": "display_data"
    }
   ],
   "source": [
    "response = agent.run(\"What is a cleric?\")"
   ]
  },
  {
   "cell_type": "markdown",
   "id": "ca29dd4f-e071-4e2b-868b-3dbff96eeeb2",
   "metadata": {},
   "source": [
    "### Demo 5\n",
    "Now let's just ask a bunch of questions it shouldn't know answers to and see if the model is starting to get unreliable. It usually does after this point. I'd love to talk about strategies for solving this issue."
   ]
  },
  {
   "cell_type": "code",
   "execution_count": 8,
   "id": "6c71803f-f2de-4def-a279-f47339b49033",
   "metadata": {},
   "outputs": [
    {
     "data": {
      "text/html": [
       "<pre style=\"white-space:pre;overflow-x:auto;line-height:normal;font-family:Menlo,'DejaVu Sans Mono',consolas,'Courier New',monospace\"><span style=\"color: #7fbfbf; text-decoration-color: #7fbfbf\">[10/17/23 19:23:13] </span><span style=\"color: #000080; text-decoration-color: #000080\">INFO    </span> AlteryxToolkitTask 5cca02dab127406f8bb3ac6f595e6d8e                                   \n",
       "<span style=\"color: #7fbfbf; text-decoration-color: #7fbfbf\">                    </span>         Input: What is the most populous city on Earth?                                       \n",
       "</pre>\n"
      ],
      "text/plain": [
       "\u001b[2;36m[10/17/23 19:23:13]\u001b[0m\u001b[2;36m \u001b[0m\u001b[34mINFO    \u001b[0m AlteryxToolkitTask 5cca02dab127406f8bb3ac6f595e6d8e                                   \n",
       "\u001b[2;36m                    \u001b[0m         Input: What is the most populous city on Earth?                                       \n"
      ]
     },
     "metadata": {},
     "output_type": "display_data"
    },
    {
     "data": {
      "text/html": [
       "<pre style=\"white-space:pre;overflow-x:auto;line-height:normal;font-family:Menlo,'DejaVu Sans Mono',consolas,'Courier New',monospace\"><span style=\"color: #7fbfbf; text-decoration-color: #7fbfbf\">[10/17/23 19:23:16] </span><span style=\"color: #000080; text-decoration-color: #000080\">INFO    </span> Subtask 914d34c864d84970a0001077fa77ad9f                                              \n",
       "<span style=\"color: #7fbfbf; text-decoration-color: #7fbfbf\">                    </span>         Thought: I don't have this information in my memory. I can use the SRDVectors tool to \n",
       "<span style=\"color: #7fbfbf; text-decoration-color: #7fbfbf\">                    </span>         find the answer.                                                                      \n",
       "<span style=\"color: #7fbfbf; text-decoration-color: #7fbfbf\">                    </span>                                                                                               \n",
       "<span style=\"color: #7fbfbf; text-decoration-color: #7fbfbf\">                    </span>         Action: <span style=\"font-weight: bold\">{</span><span style=\"color: #008000; text-decoration-color: #008000\">\"type\"</span>: <span style=\"color: #008000; text-decoration-color: #008000\">\"tool\"</span>, <span style=\"color: #008000; text-decoration-color: #008000\">\"name\"</span>: <span style=\"color: #008000; text-decoration-color: #008000\">\"SRDVectors\"</span>, <span style=\"color: #008000; text-decoration-color: #008000\">\"activity\"</span>: <span style=\"color: #008000; text-decoration-color: #008000\">\"query_srd_vectors\"</span>,       \n",
       "<span style=\"color: #7fbfbf; text-decoration-color: #7fbfbf\">                    </span>         <span style=\"color: #008000; text-decoration-color: #008000\">\"input\"</span>: <span style=\"font-weight: bold\">{</span><span style=\"color: #008000; text-decoration-color: #008000\">\"values\"</span>: <span style=\"font-weight: bold\">{</span><span style=\"color: #008000; text-decoration-color: #008000\">\"query\"</span>: <span style=\"color: #008000; text-decoration-color: #008000\">\"most populous city on Earth\"</span><span style=\"font-weight: bold\">}}}</span>                        \n",
       "</pre>\n"
      ],
      "text/plain": [
       "\u001b[2;36m[10/17/23 19:23:16]\u001b[0m\u001b[2;36m \u001b[0m\u001b[34mINFO    \u001b[0m Subtask 914d34c864d84970a0001077fa77ad9f                                              \n",
       "\u001b[2;36m                    \u001b[0m         Thought: I don't have this information in my memory. I can use the SRDVectors tool to \n",
       "\u001b[2;36m                    \u001b[0m         find the answer.                                                                      \n",
       "\u001b[2;36m                    \u001b[0m                                                                                               \n",
       "\u001b[2;36m                    \u001b[0m         Action: \u001b[1m{\u001b[0m\u001b[32m\"type\"\u001b[0m: \u001b[32m\"tool\"\u001b[0m, \u001b[32m\"name\"\u001b[0m: \u001b[32m\"SRDVectors\"\u001b[0m, \u001b[32m\"activity\"\u001b[0m: \u001b[32m\"query_srd_vectors\"\u001b[0m,       \n",
       "\u001b[2;36m                    \u001b[0m         \u001b[32m\"input\"\u001b[0m: \u001b[1m{\u001b[0m\u001b[32m\"values\"\u001b[0m: \u001b[1m{\u001b[0m\u001b[32m\"query\"\u001b[0m: \u001b[32m\"most populous city on Earth\"\u001b[0m\u001b[1m}\u001b[0m\u001b[1m}\u001b[0m\u001b[1m}\u001b[0m                        \n"
      ]
     },
     "metadata": {},
     "output_type": "display_data"
    },
    {
     "data": {
      "text/html": [
       "<pre style=\"white-space:pre;overflow-x:auto;line-height:normal;font-family:Menlo,'DejaVu Sans Mono',consolas,'Courier New',monospace\"><span style=\"color: #7fbfbf; text-decoration-color: #7fbfbf\">[10/17/23 19:23:18] </span><span style=\"color: #000080; text-decoration-color: #000080\">INFO    </span> Subtask 914d34c864d84970a0001077fa77ad9f                                              \n",
       "<span style=\"color: #7fbfbf; text-decoration-color: #7fbfbf\">                    </span>         Observation: Output of <span style=\"color: #008000; text-decoration-color: #008000\">\"SRDVectors.query_srd_vectors\"</span> was stored in memory with       \n",
       "<span style=\"color: #7fbfbf; text-decoration-color: #7fbfbf\">                    </span>         memory_name <span style=\"color: #008000; text-decoration-color: #008000\">\"TextToolMemory\"</span> and artifact_namespace <span style=\"color: #008000; text-decoration-color: #008000\">\"2760e72d57a74586b3f8ba3feada1dac\"</span>\n",
       "</pre>\n"
      ],
      "text/plain": [
       "\u001b[2;36m[10/17/23 19:23:18]\u001b[0m\u001b[2;36m \u001b[0m\u001b[34mINFO    \u001b[0m Subtask 914d34c864d84970a0001077fa77ad9f                                              \n",
       "\u001b[2;36m                    \u001b[0m         Observation: Output of \u001b[32m\"SRDVectors.query_srd_vectors\"\u001b[0m was stored in memory with       \n",
       "\u001b[2;36m                    \u001b[0m         memory_name \u001b[32m\"TextToolMemory\"\u001b[0m and artifact_namespace \u001b[32m\"2760e72d57a74586b3f8ba3feada1dac\"\u001b[0m\n"
      ]
     },
     "metadata": {},
     "output_type": "display_data"
    },
    {
     "data": {
      "text/html": [
       "<pre style=\"white-space:pre;overflow-x:auto;line-height:normal;font-family:Menlo,'DejaVu Sans Mono',consolas,'Courier New',monospace\"><span style=\"color: #7fbfbf; text-decoration-color: #7fbfbf\">[10/17/23 19:23:22] </span><span style=\"color: #000080; text-decoration-color: #000080\">INFO    </span> Subtask b4df5aaf13024a7a933b297672d35502                                              \n",
       "<span style=\"color: #7fbfbf; text-decoration-color: #7fbfbf\">                    </span>         Thought: I can use the TextToolMemory tool to retrieve the output from the SRDVectors \n",
       "<span style=\"color: #7fbfbf; text-decoration-color: #7fbfbf\">                    </span>         tool.                                                                                 \n",
       "<span style=\"color: #7fbfbf; text-decoration-color: #7fbfbf\">                    </span>         Action: <span style=\"font-weight: bold\">{</span><span style=\"color: #008000; text-decoration-color: #008000\">\"type\"</span>: <span style=\"color: #008000; text-decoration-color: #008000\">\"memory\"</span>, <span style=\"color: #008000; text-decoration-color: #008000\">\"name\"</span>: <span style=\"color: #008000; text-decoration-color: #008000\">\"TextToolMemory\"</span>, <span style=\"color: #008000; text-decoration-color: #008000\">\"activity\"</span>: <span style=\"color: #008000; text-decoration-color: #008000\">\"search\"</span>, <span style=\"color: #008000; text-decoration-color: #008000\">\"input\"</span>:   \n",
       "<span style=\"color: #7fbfbf; text-decoration-color: #7fbfbf\">                    </span>         <span style=\"font-weight: bold\">{</span><span style=\"color: #008000; text-decoration-color: #008000\">\"values\"</span>: <span style=\"font-weight: bold\">{</span><span style=\"color: #008000; text-decoration-color: #008000\">\"memory_name\"</span>: <span style=\"color: #008000; text-decoration-color: #008000\">\"TextToolMemory\"</span>, <span style=\"color: #008000; text-decoration-color: #008000\">\"artifact_namespace\"</span>:                    \n",
       "<span style=\"color: #7fbfbf; text-decoration-color: #7fbfbf\">                    </span>         <span style=\"color: #008000; text-decoration-color: #008000\">\"2760e72d57a74586b3f8ba3feada1dac\"</span>, <span style=\"color: #008000; text-decoration-color: #008000\">\"query\"</span>: <span style=\"color: #008000; text-decoration-color: #008000\">\"most populous city on Earth\"</span><span style=\"font-weight: bold\">}}}</span>         \n",
       "</pre>\n"
      ],
      "text/plain": [
       "\u001b[2;36m[10/17/23 19:23:22]\u001b[0m\u001b[2;36m \u001b[0m\u001b[34mINFO    \u001b[0m Subtask b4df5aaf13024a7a933b297672d35502                                              \n",
       "\u001b[2;36m                    \u001b[0m         Thought: I can use the TextToolMemory tool to retrieve the output from the SRDVectors \n",
       "\u001b[2;36m                    \u001b[0m         tool.                                                                                 \n",
       "\u001b[2;36m                    \u001b[0m         Action: \u001b[1m{\u001b[0m\u001b[32m\"type\"\u001b[0m: \u001b[32m\"memory\"\u001b[0m, \u001b[32m\"name\"\u001b[0m: \u001b[32m\"TextToolMemory\"\u001b[0m, \u001b[32m\"activity\"\u001b[0m: \u001b[32m\"search\"\u001b[0m, \u001b[32m\"input\"\u001b[0m:   \n",
       "\u001b[2;36m                    \u001b[0m         \u001b[1m{\u001b[0m\u001b[32m\"values\"\u001b[0m: \u001b[1m{\u001b[0m\u001b[32m\"memory_name\"\u001b[0m: \u001b[32m\"TextToolMemory\"\u001b[0m, \u001b[32m\"artifact_namespace\"\u001b[0m:                    \n",
       "\u001b[2;36m                    \u001b[0m         \u001b[32m\"2760e72d57a74586b3f8ba3feada1dac\"\u001b[0m, \u001b[32m\"query\"\u001b[0m: \u001b[32m\"most populous city on Earth\"\u001b[0m\u001b[1m}\u001b[0m\u001b[1m}\u001b[0m\u001b[1m}\u001b[0m         \n"
      ]
     },
     "metadata": {},
     "output_type": "display_data"
    },
    {
     "data": {
      "text/html": [
       "<pre style=\"white-space:pre;overflow-x:auto;line-height:normal;font-family:Menlo,'DejaVu Sans Mono',consolas,'Courier New',monospace\"><span style=\"color: #7fbfbf; text-decoration-color: #7fbfbf\">[10/17/23 19:23:24] </span><span style=\"color: #000080; text-decoration-color: #000080\">INFO    </span> Subtask b4df5aaf13024a7a933b297672d35502                                              \n",
       "<span style=\"color: #7fbfbf; text-decoration-color: #7fbfbf\">                    </span>         Observation: I'm sorry, but I don't have access to real-time information. The most    \n",
       "<span style=\"color: #7fbfbf; text-decoration-color: #7fbfbf\">                    </span>         populous city on Earth can vary depending on the time and source of the data. It is   \n",
       "<span style=\"color: #7fbfbf; text-decoration-color: #7fbfbf\">                    </span>         best to consult current population statistics or reliable sources for the most        \n",
       "<span style=\"color: #7fbfbf; text-decoration-color: #7fbfbf\">                    </span>         up-to-date information.                                                               \n",
       "</pre>\n"
      ],
      "text/plain": [
       "\u001b[2;36m[10/17/23 19:23:24]\u001b[0m\u001b[2;36m \u001b[0m\u001b[34mINFO    \u001b[0m Subtask b4df5aaf13024a7a933b297672d35502                                              \n",
       "\u001b[2;36m                    \u001b[0m         Observation: I'm sorry, but I don't have access to real-time information. The most    \n",
       "\u001b[2;36m                    \u001b[0m         populous city on Earth can vary depending on the time and source of the data. It is   \n",
       "\u001b[2;36m                    \u001b[0m         best to consult current population statistics or reliable sources for the most        \n",
       "\u001b[2;36m                    \u001b[0m         up-to-date information.                                                               \n"
      ]
     },
     "metadata": {},
     "output_type": "display_data"
    },
    {
     "data": {
      "text/html": [
       "<pre style=\"white-space:pre;overflow-x:auto;line-height:normal;font-family:Menlo,'DejaVu Sans Mono',consolas,'Courier New',monospace\"><span style=\"color: #7fbfbf; text-decoration-color: #7fbfbf\">[10/17/23 19:23:27] </span><span style=\"color: #000080; text-decoration-color: #000080\">INFO    </span> AlteryxToolkitTask 5cca02dab127406f8bb3ac6f595e6d8e                                   \n",
       "<span style=\"color: #7fbfbf; text-decoration-color: #7fbfbf\">                    </span>         Output: I don't have access to real-time information, so I cannot provide the most    \n",
       "<span style=\"color: #7fbfbf; text-decoration-color: #7fbfbf\">                    </span>         current answer. The most populous city on Earth can vary depending on the time and    \n",
       "<span style=\"color: #7fbfbf; text-decoration-color: #7fbfbf\">                    </span>         source of the data. It is best to consult current population statistics or reliable   \n",
       "<span style=\"color: #7fbfbf; text-decoration-color: #7fbfbf\">                    </span>         sources for the most up-to-date information.                                          \n",
       "</pre>\n"
      ],
      "text/plain": [
       "\u001b[2;36m[10/17/23 19:23:27]\u001b[0m\u001b[2;36m \u001b[0m\u001b[34mINFO    \u001b[0m AlteryxToolkitTask 5cca02dab127406f8bb3ac6f595e6d8e                                   \n",
       "\u001b[2;36m                    \u001b[0m         Output: I don't have access to real-time information, so I cannot provide the most    \n",
       "\u001b[2;36m                    \u001b[0m         current answer. The most populous city on Earth can vary depending on the time and    \n",
       "\u001b[2;36m                    \u001b[0m         source of the data. It is best to consult current population statistics or reliable   \n",
       "\u001b[2;36m                    \u001b[0m         sources for the most up-to-date information.                                          \n"
      ]
     },
     "metadata": {},
     "output_type": "display_data"
    }
   ],
   "source": [
    "response = agent.run(\"What is the most populous city on Earth?\")"
   ]
  },
  {
   "cell_type": "code",
   "execution_count": 9,
   "id": "0bccefee-e922-4f8d-aaed-bdbdc3a1e262",
   "metadata": {},
   "outputs": [
    {
     "data": {
      "text/html": [
       "<pre style=\"white-space:pre;overflow-x:auto;line-height:normal;font-family:Menlo,'DejaVu Sans Mono',consolas,'Courier New',monospace\"><span style=\"color: #7fbfbf; text-decoration-color: #7fbfbf\">[10/17/23 19:23:32] </span><span style=\"color: #000080; text-decoration-color: #000080\">INFO    </span> AlteryxToolkitTask 5cca02dab127406f8bb3ac6f595e6d8e                                   \n",
       "<span style=\"color: #7fbfbf; text-decoration-color: #7fbfbf\">                    </span>         Input: What was the highest grossing movie in <span style=\"color: #008080; text-decoration-color: #008080; font-weight: bold\">2017</span>?                                   \n",
       "</pre>\n"
      ],
      "text/plain": [
       "\u001b[2;36m[10/17/23 19:23:32]\u001b[0m\u001b[2;36m \u001b[0m\u001b[34mINFO    \u001b[0m AlteryxToolkitTask 5cca02dab127406f8bb3ac6f595e6d8e                                   \n",
       "\u001b[2;36m                    \u001b[0m         Input: What was the highest grossing movie in \u001b[1;36m2017\u001b[0m?                                   \n"
      ]
     },
     "metadata": {},
     "output_type": "display_data"
    },
    {
     "data": {
      "text/html": [
       "<pre style=\"white-space:pre;overflow-x:auto;line-height:normal;font-family:Menlo,'DejaVu Sans Mono',consolas,'Courier New',monospace\"><span style=\"color: #7fbfbf; text-decoration-color: #7fbfbf\">[10/17/23 19:23:36] </span><span style=\"color: #000080; text-decoration-color: #000080\">INFO    </span> Subtask 0641b137ac0d444f9656bf915b251ff7                                              \n",
       "<span style=\"color: #7fbfbf; text-decoration-color: #7fbfbf\">                    </span>         Thought: I don't have access to real-time information, so I'll use the SRDVectors tool\n",
       "<span style=\"color: #7fbfbf; text-decoration-color: #7fbfbf\">                    </span>         to find the answer.                                                                   \n",
       "<span style=\"color: #7fbfbf; text-decoration-color: #7fbfbf\">                    </span>                                                                                               \n",
       "<span style=\"color: #7fbfbf; text-decoration-color: #7fbfbf\">                    </span>         Action: <span style=\"font-weight: bold\">{</span><span style=\"color: #008000; text-decoration-color: #008000\">\"type\"</span>: <span style=\"color: #008000; text-decoration-color: #008000\">\"tool\"</span>, <span style=\"color: #008000; text-decoration-color: #008000\">\"name\"</span>: <span style=\"color: #008000; text-decoration-color: #008000\">\"SRDVectors\"</span>, <span style=\"color: #008000; text-decoration-color: #008000\">\"activity\"</span>: <span style=\"color: #008000; text-decoration-color: #008000\">\"query_srd_vectors\"</span>,       \n",
       "<span style=\"color: #7fbfbf; text-decoration-color: #7fbfbf\">                    </span>         <span style=\"color: #008000; text-decoration-color: #008000\">\"input\"</span>: <span style=\"font-weight: bold\">{</span><span style=\"color: #008000; text-decoration-color: #008000\">\"values\"</span>: <span style=\"font-weight: bold\">{</span><span style=\"color: #008000; text-decoration-color: #008000\">\"query\"</span>: <span style=\"color: #008000; text-decoration-color: #008000\">\"highest grossing movie in 2017\"</span><span style=\"font-weight: bold\">}}}</span>                     \n",
       "</pre>\n"
      ],
      "text/plain": [
       "\u001b[2;36m[10/17/23 19:23:36]\u001b[0m\u001b[2;36m \u001b[0m\u001b[34mINFO    \u001b[0m Subtask 0641b137ac0d444f9656bf915b251ff7                                              \n",
       "\u001b[2;36m                    \u001b[0m         Thought: I don't have access to real-time information, so I'll use the SRDVectors tool\n",
       "\u001b[2;36m                    \u001b[0m         to find the answer.                                                                   \n",
       "\u001b[2;36m                    \u001b[0m                                                                                               \n",
       "\u001b[2;36m                    \u001b[0m         Action: \u001b[1m{\u001b[0m\u001b[32m\"type\"\u001b[0m: \u001b[32m\"tool\"\u001b[0m, \u001b[32m\"name\"\u001b[0m: \u001b[32m\"SRDVectors\"\u001b[0m, \u001b[32m\"activity\"\u001b[0m: \u001b[32m\"query_srd_vectors\"\u001b[0m,       \n",
       "\u001b[2;36m                    \u001b[0m         \u001b[32m\"input\"\u001b[0m: \u001b[1m{\u001b[0m\u001b[32m\"values\"\u001b[0m: \u001b[1m{\u001b[0m\u001b[32m\"query\"\u001b[0m: \u001b[32m\"highest grossing movie in 2017\"\u001b[0m\u001b[1m}\u001b[0m\u001b[1m}\u001b[0m\u001b[1m}\u001b[0m                     \n"
      ]
     },
     "metadata": {},
     "output_type": "display_data"
    },
    {
     "data": {
      "text/html": [
       "<pre style=\"white-space:pre;overflow-x:auto;line-height:normal;font-family:Menlo,'DejaVu Sans Mono',consolas,'Courier New',monospace\"><span style=\"color: #7fbfbf; text-decoration-color: #7fbfbf\">[10/17/23 19:23:37] </span><span style=\"color: #000080; text-decoration-color: #000080\">INFO    </span> Subtask 0641b137ac0d444f9656bf915b251ff7                                              \n",
       "<span style=\"color: #7fbfbf; text-decoration-color: #7fbfbf\">                    </span>         Observation: Output of <span style=\"color: #008000; text-decoration-color: #008000\">\"SRDVectors.query_srd_vectors\"</span> was stored in memory with       \n",
       "<span style=\"color: #7fbfbf; text-decoration-color: #7fbfbf\">                    </span>         memory_name <span style=\"color: #008000; text-decoration-color: #008000\">\"TextToolMemory\"</span> and artifact_namespace <span style=\"color: #008000; text-decoration-color: #008000\">\"21f24cf978944b7590485cd844f2ec43\"</span>\n",
       "</pre>\n"
      ],
      "text/plain": [
       "\u001b[2;36m[10/17/23 19:23:37]\u001b[0m\u001b[2;36m \u001b[0m\u001b[34mINFO    \u001b[0m Subtask 0641b137ac0d444f9656bf915b251ff7                                              \n",
       "\u001b[2;36m                    \u001b[0m         Observation: Output of \u001b[32m\"SRDVectors.query_srd_vectors\"\u001b[0m was stored in memory with       \n",
       "\u001b[2;36m                    \u001b[0m         memory_name \u001b[32m\"TextToolMemory\"\u001b[0m and artifact_namespace \u001b[32m\"21f24cf978944b7590485cd844f2ec43\"\u001b[0m\n"
      ]
     },
     "metadata": {},
     "output_type": "display_data"
    },
    {
     "data": {
      "text/html": [
       "<pre style=\"white-space:pre;overflow-x:auto;line-height:normal;font-family:Menlo,'DejaVu Sans Mono',consolas,'Courier New',monospace\"><span style=\"color: #7fbfbf; text-decoration-color: #7fbfbf\">[10/17/23 19:23:40] </span><span style=\"color: #000080; text-decoration-color: #000080\">INFO    </span> Subtask eabb9336696e4855a93dfbd4d44098a0                                              \n",
       "<span style=\"color: #7fbfbf; text-decoration-color: #7fbfbf\">                    </span>         Thought: I can use the TextToolMemory tool to search for the highest grossing movie in\n",
       "<span style=\"color: #7fbfbf; text-decoration-color: #7fbfbf\">                    </span>         <span style=\"color: #008080; text-decoration-color: #008080; font-weight: bold\">2017</span>.                                                                                 \n",
       "<span style=\"color: #7fbfbf; text-decoration-color: #7fbfbf\">                    </span>         Action: <span style=\"font-weight: bold\">{</span><span style=\"color: #008000; text-decoration-color: #008000\">\"type\"</span>: <span style=\"color: #008000; text-decoration-color: #008000\">\"memory\"</span>, <span style=\"color: #008000; text-decoration-color: #008000\">\"name\"</span>: <span style=\"color: #008000; text-decoration-color: #008000\">\"TextToolMemory\"</span>, <span style=\"color: #008000; text-decoration-color: #008000\">\"activity\"</span>: <span style=\"color: #008000; text-decoration-color: #008000\">\"search\"</span>, <span style=\"color: #008000; text-decoration-color: #008000\">\"input\"</span>:   \n",
       "<span style=\"color: #7fbfbf; text-decoration-color: #7fbfbf\">                    </span>         <span style=\"font-weight: bold\">{</span><span style=\"color: #008000; text-decoration-color: #008000\">\"values\"</span>: <span style=\"font-weight: bold\">{</span><span style=\"color: #008000; text-decoration-color: #008000\">\"memory_name\"</span>: <span style=\"color: #008000; text-decoration-color: #008000\">\"TextToolMemory\"</span>, <span style=\"color: #008000; text-decoration-color: #008000\">\"artifact_namespace\"</span>:                    \n",
       "<span style=\"color: #7fbfbf; text-decoration-color: #7fbfbf\">                    </span>         <span style=\"color: #008000; text-decoration-color: #008000\">\"21f24cf978944b7590485cd844f2ec43\"</span>, <span style=\"color: #008000; text-decoration-color: #008000\">\"query\"</span>: <span style=\"color: #008000; text-decoration-color: #008000\">\"highest grossing movie in 2017\"</span><span style=\"font-weight: bold\">}}}</span>      \n",
       "</pre>\n"
      ],
      "text/plain": [
       "\u001b[2;36m[10/17/23 19:23:40]\u001b[0m\u001b[2;36m \u001b[0m\u001b[34mINFO    \u001b[0m Subtask eabb9336696e4855a93dfbd4d44098a0                                              \n",
       "\u001b[2;36m                    \u001b[0m         Thought: I can use the TextToolMemory tool to search for the highest grossing movie in\n",
       "\u001b[2;36m                    \u001b[0m         \u001b[1;36m2017\u001b[0m.                                                                                 \n",
       "\u001b[2;36m                    \u001b[0m         Action: \u001b[1m{\u001b[0m\u001b[32m\"type\"\u001b[0m: \u001b[32m\"memory\"\u001b[0m, \u001b[32m\"name\"\u001b[0m: \u001b[32m\"TextToolMemory\"\u001b[0m, \u001b[32m\"activity\"\u001b[0m: \u001b[32m\"search\"\u001b[0m, \u001b[32m\"input\"\u001b[0m:   \n",
       "\u001b[2;36m                    \u001b[0m         \u001b[1m{\u001b[0m\u001b[32m\"values\"\u001b[0m: \u001b[1m{\u001b[0m\u001b[32m\"memory_name\"\u001b[0m: \u001b[32m\"TextToolMemory\"\u001b[0m, \u001b[32m\"artifact_namespace\"\u001b[0m:                    \n",
       "\u001b[2;36m                    \u001b[0m         \u001b[32m\"21f24cf978944b7590485cd844f2ec43\"\u001b[0m, \u001b[32m\"query\"\u001b[0m: \u001b[32m\"highest grossing movie in 2017\"\u001b[0m\u001b[1m}\u001b[0m\u001b[1m}\u001b[0m\u001b[1m}\u001b[0m      \n"
      ]
     },
     "metadata": {},
     "output_type": "display_data"
    },
    {
     "data": {
      "text/html": [
       "<pre style=\"white-space:pre;overflow-x:auto;line-height:normal;font-family:Menlo,'DejaVu Sans Mono',consolas,'Courier New',monospace\"><span style=\"color: #7fbfbf; text-decoration-color: #7fbfbf\">[10/17/23 19:23:42] </span><span style=\"color: #000080; text-decoration-color: #000080\">INFO    </span> Subtask eabb9336696e4855a93dfbd4d44098a0                                              \n",
       "<span style=\"color: #7fbfbf; text-decoration-color: #7fbfbf\">                    </span>         Observation: I'm sorry, but I cannot answer that query based on the given context     \n",
       "<span style=\"color: #7fbfbf; text-decoration-color: #7fbfbf\">                    </span>         information.                                                                          \n",
       "</pre>\n"
      ],
      "text/plain": [
       "\u001b[2;36m[10/17/23 19:23:42]\u001b[0m\u001b[2;36m \u001b[0m\u001b[34mINFO    \u001b[0m Subtask eabb9336696e4855a93dfbd4d44098a0                                              \n",
       "\u001b[2;36m                    \u001b[0m         Observation: I'm sorry, but I cannot answer that query based on the given context     \n",
       "\u001b[2;36m                    \u001b[0m         information.                                                                          \n"
      ]
     },
     "metadata": {},
     "output_type": "display_data"
    },
    {
     "data": {
      "text/html": [
       "<pre style=\"white-space:pre;overflow-x:auto;line-height:normal;font-family:Menlo,'DejaVu Sans Mono',consolas,'Courier New',monospace\"><span style=\"color: #7fbfbf; text-decoration-color: #7fbfbf\">[10/17/23 19:23:43] </span><span style=\"color: #000080; text-decoration-color: #000080\">INFO    </span> AlteryxToolkitTask 5cca02dab127406f8bb3ac6f595e6d8e                                   \n",
       "<span style=\"color: #7fbfbf; text-decoration-color: #7fbfbf\">                    </span>         Output: I apologize for the inconvenience. Without access to real-time information, I \n",
       "<span style=\"color: #7fbfbf; text-decoration-color: #7fbfbf\">                    </span>         am unable to provide the highest grossing movie in <span style=\"color: #008080; text-decoration-color: #008080; font-weight: bold\">2017</span>. It is recommended to refer to\n",
       "<span style=\"color: #7fbfbf; text-decoration-color: #7fbfbf\">                    </span>         reliable sources or consult current data for the most accurate answer.                \n",
       "</pre>\n"
      ],
      "text/plain": [
       "\u001b[2;36m[10/17/23 19:23:43]\u001b[0m\u001b[2;36m \u001b[0m\u001b[34mINFO    \u001b[0m AlteryxToolkitTask 5cca02dab127406f8bb3ac6f595e6d8e                                   \n",
       "\u001b[2;36m                    \u001b[0m         Output: I apologize for the inconvenience. Without access to real-time information, I \n",
       "\u001b[2;36m                    \u001b[0m         am unable to provide the highest grossing movie in \u001b[1;36m2017\u001b[0m. It is recommended to refer to\n",
       "\u001b[2;36m                    \u001b[0m         reliable sources or consult current data for the most accurate answer.                \n"
      ]
     },
     "metadata": {},
     "output_type": "display_data"
    }
   ],
   "source": [
    "response = agent.run(\"What was the highest grossing movie in 2017?\")"
   ]
  },
  {
   "cell_type": "code",
   "execution_count": 10,
   "id": "1e5e0f20-7e44-4b03-9cb8-718d77c59836",
   "metadata": {},
   "outputs": [
    {
     "data": {
      "text/html": [
       "<pre style=\"white-space:pre;overflow-x:auto;line-height:normal;font-family:Menlo,'DejaVu Sans Mono',consolas,'Courier New',monospace\"><span style=\"color: #7fbfbf; text-decoration-color: #7fbfbf\">[10/17/23 19:23:47] </span><span style=\"color: #000080; text-decoration-color: #000080\">INFO    </span> AlteryxToolkitTask 5cca02dab127406f8bb3ac6f595e6d8e                                   \n",
       "<span style=\"color: #7fbfbf; text-decoration-color: #7fbfbf\">                    </span>         Input: How many wheels does a horse have?                                             \n",
       "</pre>\n"
      ],
      "text/plain": [
       "\u001b[2;36m[10/17/23 19:23:47]\u001b[0m\u001b[2;36m \u001b[0m\u001b[34mINFO    \u001b[0m AlteryxToolkitTask 5cca02dab127406f8bb3ac6f595e6d8e                                   \n",
       "\u001b[2;36m                    \u001b[0m         Input: How many wheels does a horse have?                                             \n"
      ]
     },
     "metadata": {},
     "output_type": "display_data"
    },
    {
     "data": {
      "text/html": [
       "<pre style=\"white-space:pre;overflow-x:auto;line-height:normal;font-family:Menlo,'DejaVu Sans Mono',consolas,'Courier New',monospace\"><span style=\"color: #7fbfbf; text-decoration-color: #7fbfbf\">[10/17/23 19:23:49] </span><span style=\"color: #000080; text-decoration-color: #000080\">INFO    </span> AlteryxToolkitTask 5cca02dab127406f8bb3ac6f595e6d8e                                   \n",
       "<span style=\"color: #7fbfbf; text-decoration-color: #7fbfbf\">                    </span>         Output: A horse typically has four legs and therefore does not have any wheels.       \n",
       "</pre>\n"
      ],
      "text/plain": [
       "\u001b[2;36m[10/17/23 19:23:49]\u001b[0m\u001b[2;36m \u001b[0m\u001b[34mINFO    \u001b[0m AlteryxToolkitTask 5cca02dab127406f8bb3ac6f595e6d8e                                   \n",
       "\u001b[2;36m                    \u001b[0m         Output: A horse typically has four legs and therefore does not have any wheels.       \n"
      ]
     },
     "metadata": {},
     "output_type": "display_data"
    }
   ],
   "source": [
    "response = agent.run(\"How many wheels does a horse have?\")"
   ]
  },
  {
   "cell_type": "markdown",
   "id": "7155e85d-fdda-4031-92ca-f474ccac478c",
   "metadata": {},
   "source": [
    "# How to evaluate\n",
    "\n",
    "Although we did not require any data for fine-tuning, evaluation does require some data. This data, however, can be automatically generated by bare GPT-4, but I think it would also be wise to include some human-created examples addressing interesting edge cases such as questions with ambiguous context like \"What is a cleric?\"\n",
    "\n",
    "AI-generated questions should always be reviewed by a human before being used to evaluate a production model."
   ]
  },
  {
   "cell_type": "code",
   "execution_count": 11,
   "id": "0a8513eb-9cb4-4a82-8ff9-27f925eecdd4",
   "metadata": {},
   "outputs": [
    {
     "name": "stdout",
     "output_type": "stream",
     "text": [
      "1. What are the changes in character creation rules compared to previous editions?\n",
      "2. How do spellcasting classes function in fifth edition?\n",
      "3. Can you explain the rules for opportunity attacks and how they work in combat?\n",
      "4. What are the different types of damage and resistances in the game?\n",
      "5. How do critical hits and critical failures work in fifth edition combat?\n",
      "6. Can you explain the rules for multi-classing and how it impacts character progression?\n",
      "7. How are skills and abilities determined, and how do they affect the outcomes of actions in the game?\n",
      "8. What are the rules for resting and regaining hit points and spell slots?\n",
      "9. How does the advantage and disadvantage mechanic work, and how is it applied in gameplay?\n",
      "10. Can you explain the mechanics of grappling and shoving during combat?\n"
     ]
    }
   ],
   "source": [
    "import os\n",
    "import openai\n",
    "openai.api_key = os.getenv(\"OPENAI_API_KEY\")\n",
    "\n",
    "dnd_questions = openai.ChatCompletion.create(\n",
    "  model=\"gpt-3.5-turbo\",\n",
    "  messages=[\n",
    "    {\"role\": \"system\", \"content\": \"You are a helpful assistant who generates evaluation examples for a question answering AI.\"},\n",
    "    {\"role\": \"user\", \"content\": \"Generate 10 questions a D&D player might ask about fifth edition rules. Put each queston on a separate line.\"}\n",
    "  ]\n",
    ")\n",
    "\n",
    "print(dnd_questions.choices[0].message[\"content\"])"
   ]
  },
  {
   "cell_type": "code",
   "execution_count": 12,
   "id": "bcbf357d-25b8-44ea-8241-b85cef31a69c",
   "metadata": {},
   "outputs": [
    {
     "name": "stdout",
     "output_type": "stream",
     "text": [
      "1. What are the main features of the new iPhone 12?\n",
      "2. How does the human respiratory system work?\n",
      "3. What are the major causes of climate change?\n",
      "4. What are the key differences between capitalism and socialism?\n",
      "5. How does artificial intelligence impact the job market?\n",
      "6. What are the potential benefits and risks of gene editing technology?\n",
      "7. How does the internet of things (IoT) impact our daily lives?\n",
      "8. What are the main theories explaining the origins of the universe?\n",
      "9. What are the most effective ways to reduce plastic pollution?\n",
      "10. What is the impact of social media on mental health?\n"
     ]
    }
   ],
   "source": [
    "off_topic_questions = openai.ChatCompletion.create(\n",
    "  model=\"gpt-3.5-turbo\",\n",
    "  messages=[\n",
    "    {\"role\": \"system\", \"content\": \"You are a helpful assistant who generates evaluation examples for a question answering AI.\"},\n",
    "    {\"role\": \"user\", \"content\": \"Generate 10 questions about any topic EXCEPT arithmetic and D&D fifth edition.\"}\n",
    "  ]\n",
    ")\n",
    "\n",
    "print(off_topic_questions.choices[0].message[\"content\"])"
   ]
  },
  {
   "cell_type": "markdown",
   "id": "00e072de-42d9-4b37-b76f-f8e11769b971",
   "metadata": {},
   "source": [
    "### Evaluation\n",
    "\n",
    "Just strip out the questions and put them through our `AlteryxAgent`"
   ]
  },
  {
   "cell_type": "code",
   "execution_count": 13,
   "id": "812ef783-372d-469a-a972-0ee227591d1b",
   "metadata": {},
   "outputs": [],
   "source": [
    "agent = AlteryxAgent(\n",
    "    logger_level=logging.INFO,\n",
    "    prompt_driver=OpenAiChatPromptDriver(\n",
    "        model=\"gpt-4\",\n",
    "        #model=\"gpt-3.5-turbo-0613\",\n",
    "        max_tokens=500,\n",
    "        temperature=0,\n",
    "    ),\n",
    ")"
   ]
  },
  {
   "cell_type": "code",
   "execution_count": 14,
   "id": "d56abf8a-f33e-4ead-b521-97244ad96d58",
   "metadata": {},
   "outputs": [
    {
     "data": {
      "text/html": [
       "<pre style=\"white-space:pre;overflow-x:auto;line-height:normal;font-family:Menlo,'DejaVu Sans Mono',consolas,'Courier New',monospace\"><span style=\"color: #7fbfbf; text-decoration-color: #7fbfbf\">[10/17/23 19:24:21] </span><span style=\"color: #000080; text-decoration-color: #000080\">INFO    </span> AlteryxToolkitTask b3afb50048fa4dcdbed1a2293adab89b                                   \n",
       "<span style=\"color: #7fbfbf; text-decoration-color: #7fbfbf\">                    </span>         Input: <span style=\"color: #008080; text-decoration-color: #008080; font-weight: bold\">1</span>. What are the main features of the new iPhone <span style=\"color: #008080; text-decoration-color: #008080; font-weight: bold\">12</span>?                            \n",
       "</pre>\n"
      ],
      "text/plain": [
       "\u001b[2;36m[10/17/23 19:24:21]\u001b[0m\u001b[2;36m \u001b[0m\u001b[34mINFO    \u001b[0m AlteryxToolkitTask b3afb50048fa4dcdbed1a2293adab89b                                   \n",
       "\u001b[2;36m                    \u001b[0m         Input: \u001b[1;36m1\u001b[0m. What are the main features of the new iPhone \u001b[1;36m12\u001b[0m?                            \n"
      ]
     },
     "metadata": {},
     "output_type": "display_data"
    },
    {
     "data": {
      "text/html": [
       "<pre style=\"white-space:pre;overflow-x:auto;line-height:normal;font-family:Menlo,'DejaVu Sans Mono',consolas,'Courier New',monospace\"><span style=\"color: #7fbfbf; text-decoration-color: #7fbfbf\">[10/17/23 19:24:23] </span><span style=\"color: #000080; text-decoration-color: #000080\">INFO    </span> AlteryxToolkitTask b3afb50048fa4dcdbed1a2293adab89b                                   \n",
       "<span style=\"color: #7fbfbf; text-decoration-color: #7fbfbf\">                    </span>         Output: I don't know.                                                                 \n",
       "</pre>\n"
      ],
      "text/plain": [
       "\u001b[2;36m[10/17/23 19:24:23]\u001b[0m\u001b[2;36m \u001b[0m\u001b[34mINFO    \u001b[0m AlteryxToolkitTask b3afb50048fa4dcdbed1a2293adab89b                                   \n",
       "\u001b[2;36m                    \u001b[0m         Output: I don't know.                                                                 \n"
      ]
     },
     "metadata": {},
     "output_type": "display_data"
    },
    {
     "data": {
      "text/html": [
       "<pre style=\"white-space:pre;overflow-x:auto;line-height:normal;font-family:Menlo,'DejaVu Sans Mono',consolas,'Courier New',monospace\"><span style=\"color: #7fbfbf; text-decoration-color: #7fbfbf\">                    </span><span style=\"color: #000080; text-decoration-color: #000080\">INFO    </span> AlteryxToolkitTask b3afb50048fa4dcdbed1a2293adab89b                                   \n",
       "<span style=\"color: #7fbfbf; text-decoration-color: #7fbfbf\">                    </span>         Input: <span style=\"color: #008080; text-decoration-color: #008080; font-weight: bold\">2</span>. How does the human respiratory system work?                                 \n",
       "</pre>\n"
      ],
      "text/plain": [
       "\u001b[2;36m                   \u001b[0m\u001b[2;36m \u001b[0m\u001b[34mINFO    \u001b[0m AlteryxToolkitTask b3afb50048fa4dcdbed1a2293adab89b                                   \n",
       "\u001b[2;36m                    \u001b[0m         Input: \u001b[1;36m2\u001b[0m. How does the human respiratory system work?                                 \n"
      ]
     },
     "metadata": {},
     "output_type": "display_data"
    },
    {
     "data": {
      "text/html": [
       "<pre style=\"white-space:pre;overflow-x:auto;line-height:normal;font-family:Menlo,'DejaVu Sans Mono',consolas,'Courier New',monospace\"><span style=\"color: #7fbfbf; text-decoration-color: #7fbfbf\">[10/17/23 19:24:24] </span><span style=\"color: #000080; text-decoration-color: #000080\">INFO    </span> AlteryxToolkitTask b3afb50048fa4dcdbed1a2293adab89b                                   \n",
       "<span style=\"color: #7fbfbf; text-decoration-color: #7fbfbf\">                    </span>         Output: I don't know.                                                                 \n",
       "</pre>\n"
      ],
      "text/plain": [
       "\u001b[2;36m[10/17/23 19:24:24]\u001b[0m\u001b[2;36m \u001b[0m\u001b[34mINFO    \u001b[0m AlteryxToolkitTask b3afb50048fa4dcdbed1a2293adab89b                                   \n",
       "\u001b[2;36m                    \u001b[0m         Output: I don't know.                                                                 \n"
      ]
     },
     "metadata": {},
     "output_type": "display_data"
    },
    {
     "data": {
      "text/html": [
       "<pre style=\"white-space:pre;overflow-x:auto;line-height:normal;font-family:Menlo,'DejaVu Sans Mono',consolas,'Courier New',monospace\"><span style=\"color: #7fbfbf; text-decoration-color: #7fbfbf\">                    </span><span style=\"color: #000080; text-decoration-color: #000080\">INFO    </span> AlteryxToolkitTask b3afb50048fa4dcdbed1a2293adab89b                                   \n",
       "<span style=\"color: #7fbfbf; text-decoration-color: #7fbfbf\">                    </span>         Input: <span style=\"color: #008080; text-decoration-color: #008080; font-weight: bold\">3</span>. What are the major causes of climate change?                                \n",
       "</pre>\n"
      ],
      "text/plain": [
       "\u001b[2;36m                   \u001b[0m\u001b[2;36m \u001b[0m\u001b[34mINFO    \u001b[0m AlteryxToolkitTask b3afb50048fa4dcdbed1a2293adab89b                                   \n",
       "\u001b[2;36m                    \u001b[0m         Input: \u001b[1;36m3\u001b[0m. What are the major causes of climate change?                                \n"
      ]
     },
     "metadata": {},
     "output_type": "display_data"
    },
    {
     "data": {
      "text/html": [
       "<pre style=\"white-space:pre;overflow-x:auto;line-height:normal;font-family:Menlo,'DejaVu Sans Mono',consolas,'Courier New',monospace\"><span style=\"color: #7fbfbf; text-decoration-color: #7fbfbf\">[10/17/23 19:24:25] </span><span style=\"color: #000080; text-decoration-color: #000080\">INFO    </span> AlteryxToolkitTask b3afb50048fa4dcdbed1a2293adab89b                                   \n",
       "<span style=\"color: #7fbfbf; text-decoration-color: #7fbfbf\">                    </span>         Output: I don't know.                                                                 \n",
       "</pre>\n"
      ],
      "text/plain": [
       "\u001b[2;36m[10/17/23 19:24:25]\u001b[0m\u001b[2;36m \u001b[0m\u001b[34mINFO    \u001b[0m AlteryxToolkitTask b3afb50048fa4dcdbed1a2293adab89b                                   \n",
       "\u001b[2;36m                    \u001b[0m         Output: I don't know.                                                                 \n"
      ]
     },
     "metadata": {},
     "output_type": "display_data"
    },
    {
     "data": {
      "text/html": [
       "<pre style=\"white-space:pre;overflow-x:auto;line-height:normal;font-family:Menlo,'DejaVu Sans Mono',consolas,'Courier New',monospace\"><span style=\"color: #7fbfbf; text-decoration-color: #7fbfbf\">                    </span><span style=\"color: #000080; text-decoration-color: #000080\">INFO    </span> AlteryxToolkitTask b3afb50048fa4dcdbed1a2293adab89b                                   \n",
       "<span style=\"color: #7fbfbf; text-decoration-color: #7fbfbf\">                    </span>         Input: <span style=\"color: #008080; text-decoration-color: #008080; font-weight: bold\">4</span>. What are the key differences between capitalism and socialism?              \n",
       "</pre>\n"
      ],
      "text/plain": [
       "\u001b[2;36m                   \u001b[0m\u001b[2;36m \u001b[0m\u001b[34mINFO    \u001b[0m AlteryxToolkitTask b3afb50048fa4dcdbed1a2293adab89b                                   \n",
       "\u001b[2;36m                    \u001b[0m         Input: \u001b[1;36m4\u001b[0m. What are the key differences between capitalism and socialism?              \n"
      ]
     },
     "metadata": {},
     "output_type": "display_data"
    },
    {
     "data": {
      "text/html": [
       "<pre style=\"white-space:pre;overflow-x:auto;line-height:normal;font-family:Menlo,'DejaVu Sans Mono',consolas,'Courier New',monospace\"><span style=\"color: #7fbfbf; text-decoration-color: #7fbfbf\">[10/17/23 19:24:26] </span><span style=\"color: #000080; text-decoration-color: #000080\">INFO    </span> AlteryxToolkitTask b3afb50048fa4dcdbed1a2293adab89b                                   \n",
       "<span style=\"color: #7fbfbf; text-decoration-color: #7fbfbf\">                    </span>         Output: I don't know.                                                                 \n",
       "</pre>\n"
      ],
      "text/plain": [
       "\u001b[2;36m[10/17/23 19:24:26]\u001b[0m\u001b[2;36m \u001b[0m\u001b[34mINFO    \u001b[0m AlteryxToolkitTask b3afb50048fa4dcdbed1a2293adab89b                                   \n",
       "\u001b[2;36m                    \u001b[0m         Output: I don't know.                                                                 \n"
      ]
     },
     "metadata": {},
     "output_type": "display_data"
    },
    {
     "data": {
      "text/plain": [
       "[\"I don't know.\", \"I don't know.\", \"I don't know.\", \"I don't know.\"]"
      ]
     },
     "execution_count": 14,
     "metadata": {},
     "output_type": "execute_result"
    }
   ],
   "source": [
    "answers = [agent.run(x).output.value for x in off_topic_questions.choices[0].message[\"content\"].split(\"\\n\")[:4]]\n",
    "answers"
   ]
  }
 ],
 "metadata": {
  "kernelspec": {
   "display_name": "Python 3 (ipykernel)",
   "language": "python",
   "name": "python3"
  },
  "language_info": {
   "codemirror_mode": {
    "name": "ipython",
    "version": 3
   },
   "file_extension": ".py",
   "mimetype": "text/x-python",
   "name": "python",
   "nbconvert_exporter": "python",
   "pygments_lexer": "ipython3",
   "version": "3.11.6"
  }
 },
 "nbformat": 4,
 "nbformat_minor": 5
}
