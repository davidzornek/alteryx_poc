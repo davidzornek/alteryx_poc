{
 "cells": [
  {
   "cell_type": "markdown",
   "id": "37879202-8ddd-469a-adea-b855bf187b07",
   "metadata": {},
   "source": [
    "### Note before importing\n",
    "This first cell of imports will take a few minutes to execute. I make use of a vector store, and to keep the scope of this project limited to the purpose of the exercise, I'm building a local vector index, of a PDF file downlooaded from the web instead of setting one up online and figuring out how to grant access, etc."
   ]
  },
  {
   "cell_type": "code",
   "execution_count": 12,
   "id": "ba44ac36-d096-48a5-a3a4-dcea3d984d87",
   "metadata": {},
   "outputs": [],
   "source": [
    "import logging\n",
    "\n",
    "from dotenv import load_dotenv\n",
    "load_dotenv()\n",
    "\n",
    "from alteryx_poc.agent import AlteryxAgent"
   ]
  },
  {
   "cell_type": "markdown",
   "id": "451c9c80-82cd-4458-af99-7f74904ed3e6",
   "metadata": {},
   "source": [
    "# Problem solving approach\n",
    "Pretrained LLMs that support function calling are already equipped with the ability to respond \"I don't know.\" when they cannot find answers to a question by ReAct prompting and require no additional training data or fine-tuning to do so (although fine-tuning may yield improvements in other areas).\n",
    "\n",
    "### Summary of Prompt\n",
    "- Instructs the AI to act truthfully and not make up facts.\n",
    "- Defines a set of topics the AI is able to discuss.\n",
    "- Equips the AI with a set of tools or actions in may take in discussing those topics.\n",
    "- A prohibition of responding with anything other than \"I don't know\" when the user asks a question that no associated tool can answer.\n",
    "\n",
    "### Why it works\n",
    "The set of tools effectively defines the universe of what the chatbot knows, and it can be expanded simply by equipping the model with more tools. By using an LLM equipped with function calling, the AI is able to use tools to interact with in-memory objects, external data sources, etc.\n",
    "\n",
    "See the full react prompt tepmlate at `altyrex_poc/templates/react.j2`. (I think it can probably be shortened quite a bit, but I haven't really tried.)"
   ]
  },
  {
   "cell_type": "markdown",
   "id": "a01f6f68-fd9a-4eff-a15c-09d9e70be581",
   "metadata": {},
   "source": [
    "# AlteryxAgent\n",
    "This class acts as the main point of interaction with the chat model. Here, we use \"gpt-3.5-turbo-0613\" since it's cheap, seems to work well for this, and has a large context window to handle passing tool schema.\n",
    "\n",
    "`AlteryxAgent` knows only how to perform arithmetic and answer questions about Dungeons & Dragons. Anything else falls outside AI's domain of knowledge and elecitis \"I don't know.\" (or sometimes some variant meaning it doesn't know.\n",
    "\n",
    "Occasionally, the model will hallucinate and answer questions it's not supposed to, or attempt to utilize a tool inappropriately, but these instances seem rare. Hallucinations seem to become more common as more questions are repeatedly asked to the same agent. I think this is because conversation memory that gets passed as part of the full prompt accumulates over time, so that the initial constraints we define in the basic system prompt get \"lost\" in the noise. If that is the cause, it could be mitigated by buffering the conversation memory."
   ]
  },
  {
   "cell_type": "code",
   "execution_count": 41,
   "id": "80226f9e-6b84-49a7-a9ef-37dfb651606f",
   "metadata": {},
   "outputs": [],
   "source": [
    "agent = AlteryxAgent(\n",
    "    logger_level=logging.INFO, \n",
    "    prompt_driver=OpenAiChatPromptDriver(\n",
    "        model=\"gpt-3.5-turbo-0613\",\n",
    "        max_tokens=500,\n",
    "        temperature=0,\n",
    "    ),\n",
    ")"
   ]
  },
  {
   "cell_type": "markdown",
   "id": "ec97059e-3b0c-491e-8dd4-192887b26bd3",
   "metadata": {},
   "source": [
    "Start with a couple of questions we know the answer to, but the bot shouldn't."
   ]
  },
  {
   "cell_type": "code",
   "execution_count": 42,
   "id": "81e07115-7072-401d-b671-6b7dfb0783ff",
   "metadata": {},
   "outputs": [
    {
     "data": {
      "text/html": [
       "<pre style=\"white-space:pre;overflow-x:auto;line-height:normal;font-family:Menlo,'DejaVu Sans Mono',consolas,'Courier New',monospace\"><span style=\"color: #7fbfbf; text-decoration-color: #7fbfbf\">[10/17/23 04:32:03] </span><span style=\"color: #000080; text-decoration-color: #000080\">INFO    </span> AlteryxToolkitTask fb40d616c4ed40e5a9600565e0bbf313                                   \n",
       "<span style=\"color: #7fbfbf; text-decoration-color: #7fbfbf\">                    </span>         Input: What is the capital of Illinois?                                               \n",
       "</pre>\n"
      ],
      "text/plain": [
       "\u001b[2;36m[10/17/23 04:32:03]\u001b[0m\u001b[2;36m \u001b[0m\u001b[34mINFO    \u001b[0m AlteryxToolkitTask fb40d616c4ed40e5a9600565e0bbf313                                   \n",
       "\u001b[2;36m                    \u001b[0m         Input: What is the capital of Illinois?                                               \n"
      ]
     },
     "metadata": {},
     "output_type": "display_data"
    },
    {
     "data": {
      "text/html": [
       "<pre style=\"white-space:pre;overflow-x:auto;line-height:normal;font-family:Menlo,'DejaVu Sans Mono',consolas,'Courier New',monospace\"><span style=\"color: #7fbfbf; text-decoration-color: #7fbfbf\">[10/17/23 04:32:04] </span><span style=\"color: #000080; text-decoration-color: #000080\">INFO    </span> AlteryxToolkitTask fb40d616c4ed40e5a9600565e0bbf313                                   \n",
       "<span style=\"color: #7fbfbf; text-decoration-color: #7fbfbf\">                    </span>         Output: I don't know.                                                                 \n",
       "</pre>\n"
      ],
      "text/plain": [
       "\u001b[2;36m[10/17/23 04:32:04]\u001b[0m\u001b[2;36m \u001b[0m\u001b[34mINFO    \u001b[0m AlteryxToolkitTask fb40d616c4ed40e5a9600565e0bbf313                                   \n",
       "\u001b[2;36m                    \u001b[0m         Output: I don't know.                                                                 \n"
      ]
     },
     "metadata": {},
     "output_type": "display_data"
    }
   ],
   "source": [
    "response = agent.run(\"What is the capital of Illinois?\")"
   ]
  },
  {
   "cell_type": "code",
   "execution_count": 43,
   "id": "e2e623b2-3b8b-4f4b-86a3-91cf38d7fc30",
   "metadata": {},
   "outputs": [
    {
     "data": {
      "text/html": [
       "<pre style=\"white-space:pre;overflow-x:auto;line-height:normal;font-family:Menlo,'DejaVu Sans Mono',consolas,'Courier New',monospace\"><span style=\"color: #7fbfbf; text-decoration-color: #7fbfbf\">[10/17/23 04:32:06] </span><span style=\"color: #000080; text-decoration-color: #000080\">INFO    </span> AlteryxToolkitTask fb40d616c4ed40e5a9600565e0bbf313                                   \n",
       "<span style=\"color: #7fbfbf; text-decoration-color: #7fbfbf\">                    </span>         Input: Who wrote The Fall of the House of Usher?                                      \n",
       "</pre>\n"
      ],
      "text/plain": [
       "\u001b[2;36m[10/17/23 04:32:06]\u001b[0m\u001b[2;36m \u001b[0m\u001b[34mINFO    \u001b[0m AlteryxToolkitTask fb40d616c4ed40e5a9600565e0bbf313                                   \n",
       "\u001b[2;36m                    \u001b[0m         Input: Who wrote The Fall of the House of Usher?                                      \n"
      ]
     },
     "metadata": {},
     "output_type": "display_data"
    },
    {
     "data": {
      "text/html": [
       "<pre style=\"white-space:pre;overflow-x:auto;line-height:normal;font-family:Menlo,'DejaVu Sans Mono',consolas,'Courier New',monospace\"><span style=\"color: #7fbfbf; text-decoration-color: #7fbfbf\">[10/17/23 04:32:08] </span><span style=\"color: #000080; text-decoration-color: #000080\">INFO    </span> AlteryxToolkitTask fb40d616c4ed40e5a9600565e0bbf313                                   \n",
       "<span style=\"color: #7fbfbf; text-decoration-color: #7fbfbf\">                    </span>         Output: I don't know.                                                                 \n",
       "</pre>\n"
      ],
      "text/plain": [
       "\u001b[2;36m[10/17/23 04:32:08]\u001b[0m\u001b[2;36m \u001b[0m\u001b[34mINFO    \u001b[0m AlteryxToolkitTask fb40d616c4ed40e5a9600565e0bbf313                                   \n",
       "\u001b[2;36m                    \u001b[0m         Output: I don't know.                                                                 \n"
      ]
     },
     "metadata": {},
     "output_type": "display_data"
    }
   ],
   "source": [
    "response = agent.run(\"Who wrote The Fall of the House of Usher?\")"
   ]
  },
  {
   "cell_type": "markdown",
   "id": "af0824a2-e675-4798-80b2-a1c7c90db3a7",
   "metadata": {},
   "source": [
    "Now a question that would be hard for us to answer, but is right within the bot's domain."
   ]
  },
  {
   "cell_type": "code",
   "execution_count": 44,
   "id": "4693227d-b355-424c-b434-35164c6ed702",
   "metadata": {},
   "outputs": [
    {
     "data": {
      "text/html": [
       "<pre style=\"white-space:pre;overflow-x:auto;line-height:normal;font-family:Menlo,'DejaVu Sans Mono',consolas,'Courier New',monospace\"><span style=\"color: #7fbfbf; text-decoration-color: #7fbfbf\">[10/17/23 04:32:12] </span><span style=\"color: #000080; text-decoration-color: #000080\">INFO    </span> AlteryxToolkitTask fb40d616c4ed40e5a9600565e0bbf313                                   \n",
       "<span style=\"color: #7fbfbf; text-decoration-color: #7fbfbf\">                    </span>         Input: What is <span style=\"color: #008080; text-decoration-color: #008080; font-weight: bold\">156.5345</span> times <span style=\"color: #008080; text-decoration-color: #008080; font-weight: bold\">2345</span> divided by <span style=\"color: #008080; text-decoration-color: #008080; font-weight: bold\">12345</span>?                                  \n",
       "</pre>\n"
      ],
      "text/plain": [
       "\u001b[2;36m[10/17/23 04:32:12]\u001b[0m\u001b[2;36m \u001b[0m\u001b[34mINFO    \u001b[0m AlteryxToolkitTask fb40d616c4ed40e5a9600565e0bbf313                                   \n",
       "\u001b[2;36m                    \u001b[0m         Input: What is \u001b[1;36m156.5345\u001b[0m times \u001b[1;36m2345\u001b[0m divided by \u001b[1;36m12345\u001b[0m?                                  \n"
      ]
     },
     "metadata": {},
     "output_type": "display_data"
    },
    {
     "data": {
      "text/html": [
       "<pre style=\"white-space:pre;overflow-x:auto;line-height:normal;font-family:Menlo,'DejaVu Sans Mono',consolas,'Courier New',monospace\"><span style=\"color: #7fbfbf; text-decoration-color: #7fbfbf\">[10/17/23 04:32:14] </span><span style=\"color: #000080; text-decoration-color: #000080\">INFO    </span> Subtask 65c475a3ec4b43109979c24b6b196a6f                                              \n",
       "<span style=\"color: #7fbfbf; text-decoration-color: #7fbfbf\">                    </span>         Thought: I can use the Calculator tool to perform the arithmetic calculation.         \n",
       "<span style=\"color: #7fbfbf; text-decoration-color: #7fbfbf\">                    </span>                                                                                               \n",
       "<span style=\"color: #7fbfbf; text-decoration-color: #7fbfbf\">                    </span>         Action: <span style=\"font-weight: bold\">{</span><span style=\"color: #008000; text-decoration-color: #008000\">\"type\"</span>: <span style=\"color: #008000; text-decoration-color: #008000\">\"tool\"</span>, <span style=\"color: #008000; text-decoration-color: #008000\">\"name\"</span>: <span style=\"color: #008000; text-decoration-color: #008000\">\"Calculator\"</span>, <span style=\"color: #008000; text-decoration-color: #008000\">\"activity\"</span>: <span style=\"color: #008000; text-decoration-color: #008000\">\"calculate\"</span>, <span style=\"color: #008000; text-decoration-color: #008000\">\"input\"</span>:      \n",
       "<span style=\"color: #7fbfbf; text-decoration-color: #7fbfbf\">                    </span>         <span style=\"font-weight: bold\">{</span><span style=\"color: #008000; text-decoration-color: #008000\">\"values\"</span>: <span style=\"font-weight: bold\">{</span><span style=\"color: #008000; text-decoration-color: #008000\">\"expression\"</span>: <span style=\"color: #008000; text-decoration-color: #008000\">\"156.5345 * 2345 / 12345\"</span><span style=\"font-weight: bold\">}}}</span>                                \n",
       "</pre>\n"
      ],
      "text/plain": [
       "\u001b[2;36m[10/17/23 04:32:14]\u001b[0m\u001b[2;36m \u001b[0m\u001b[34mINFO    \u001b[0m Subtask 65c475a3ec4b43109979c24b6b196a6f                                              \n",
       "\u001b[2;36m                    \u001b[0m         Thought: I can use the Calculator tool to perform the arithmetic calculation.         \n",
       "\u001b[2;36m                    \u001b[0m                                                                                               \n",
       "\u001b[2;36m                    \u001b[0m         Action: \u001b[1m{\u001b[0m\u001b[32m\"type\"\u001b[0m: \u001b[32m\"tool\"\u001b[0m, \u001b[32m\"name\"\u001b[0m: \u001b[32m\"Calculator\"\u001b[0m, \u001b[32m\"activity\"\u001b[0m: \u001b[32m\"calculate\"\u001b[0m, \u001b[32m\"input\"\u001b[0m:      \n",
       "\u001b[2;36m                    \u001b[0m         \u001b[1m{\u001b[0m\u001b[32m\"values\"\u001b[0m: \u001b[1m{\u001b[0m\u001b[32m\"expression\"\u001b[0m: \u001b[32m\"156.5345 * 2345 / 12345\"\u001b[0m\u001b[1m}\u001b[0m\u001b[1m}\u001b[0m\u001b[1m}\u001b[0m                                \n"
      ]
     },
     "metadata": {},
     "output_type": "display_data"
    },
    {
     "data": {
      "text/html": [
       "<pre style=\"white-space:pre;overflow-x:auto;line-height:normal;font-family:Menlo,'DejaVu Sans Mono',consolas,'Courier New',monospace\"><span style=\"color: #7fbfbf; text-decoration-color: #7fbfbf\">                    </span><span style=\"color: #000080; text-decoration-color: #000080\">INFO    </span> Subtask 65c475a3ec4b43109979c24b6b196a6f                                              \n",
       "<span style=\"color: #7fbfbf; text-decoration-color: #7fbfbf\">                    </span>         Observation: <span style=\"color: #008080; text-decoration-color: #008080; font-weight: bold\">29.734581004455247</span>                                                       \n",
       "</pre>\n"
      ],
      "text/plain": [
       "\u001b[2;36m                   \u001b[0m\u001b[2;36m \u001b[0m\u001b[34mINFO    \u001b[0m Subtask 65c475a3ec4b43109979c24b6b196a6f                                              \n",
       "\u001b[2;36m                    \u001b[0m         Observation: \u001b[1;36m29.734581004455247\u001b[0m                                                       \n"
      ]
     },
     "metadata": {},
     "output_type": "display_data"
    },
    {
     "data": {
      "text/html": [
       "<pre style=\"white-space:pre;overflow-x:auto;line-height:normal;font-family:Menlo,'DejaVu Sans Mono',consolas,'Courier New',monospace\"><span style=\"color: #7fbfbf; text-decoration-color: #7fbfbf\">[10/17/23 04:32:15] </span><span style=\"color: #000080; text-decoration-color: #000080\">INFO    </span> AlteryxToolkitTask fb40d616c4ed40e5a9600565e0bbf313                                   \n",
       "<span style=\"color: #7fbfbf; text-decoration-color: #7fbfbf\">                    </span>         Output: The result of <span style=\"color: #008080; text-decoration-color: #008080; font-weight: bold\">156.5345</span> times <span style=\"color: #008080; text-decoration-color: #008080; font-weight: bold\">2345</span> divided by <span style=\"color: #008080; text-decoration-color: #008080; font-weight: bold\">12345</span> is approximately <span style=\"color: #008080; text-decoration-color: #008080; font-weight: bold\">29.7346</span>.  \n",
       "</pre>\n"
      ],
      "text/plain": [
       "\u001b[2;36m[10/17/23 04:32:15]\u001b[0m\u001b[2;36m \u001b[0m\u001b[34mINFO    \u001b[0m AlteryxToolkitTask fb40d616c4ed40e5a9600565e0bbf313                                   \n",
       "\u001b[2;36m                    \u001b[0m         Output: The result of \u001b[1;36m156.5345\u001b[0m times \u001b[1;36m2345\u001b[0m divided by \u001b[1;36m12345\u001b[0m is approximately \u001b[1;36m29.7346\u001b[0m.  \n"
      ]
     },
     "metadata": {},
     "output_type": "display_data"
    }
   ],
   "source": [
    "response = agent.run(\"What is 156.5345 times 2345 divided by 12345?\")"
   ]
  },
  {
   "cell_type": "markdown",
   "id": "5c6f88ef-8717-454f-b483-a4a6ac2328ca",
   "metadata": {},
   "source": [
    "Now a question that draws on a specific domain of knowledge that has been provided to it in a vector store of the D&D rules."
   ]
  },
  {
   "cell_type": "code",
   "execution_count": 45,
   "id": "d4a1e983-d0c1-4e2e-b7bb-d992033bb4cb",
   "metadata": {},
   "outputs": [
    {
     "data": {
      "text/html": [
       "<pre style=\"white-space:pre;overflow-x:auto;line-height:normal;font-family:Menlo,'DejaVu Sans Mono',consolas,'Courier New',monospace\"><span style=\"color: #7fbfbf; text-decoration-color: #7fbfbf\">[10/17/23 04:32:19] </span><span style=\"color: #000080; text-decoration-color: #000080\">INFO    </span> AlteryxToolkitTask fb40d616c4ed40e5a9600565e0bbf313                                   \n",
       "<span style=\"color: #7fbfbf; text-decoration-color: #7fbfbf\">                    </span>         Input: What does Cure Wounds do in D&amp;D 5e?                                            \n",
       "</pre>\n"
      ],
      "text/plain": [
       "\u001b[2;36m[10/17/23 04:32:19]\u001b[0m\u001b[2;36m \u001b[0m\u001b[34mINFO    \u001b[0m AlteryxToolkitTask fb40d616c4ed40e5a9600565e0bbf313                                   \n",
       "\u001b[2;36m                    \u001b[0m         Input: What does Cure Wounds do in D&D 5e?                                            \n"
      ]
     },
     "metadata": {},
     "output_type": "display_data"
    },
    {
     "data": {
      "text/html": [
       "<pre style=\"white-space:pre;overflow-x:auto;line-height:normal;font-family:Menlo,'DejaVu Sans Mono',consolas,'Courier New',monospace\"><span style=\"color: #7fbfbf; text-decoration-color: #7fbfbf\">[10/17/23 04:32:22] </span><span style=\"color: #000080; text-decoration-color: #000080\">INFO    </span> Subtask 2443ccb6e9f34301a77c6b60dc7f2a70                                              \n",
       "<span style=\"color: #7fbfbf; text-decoration-color: #7fbfbf\">                    </span>         Thought: I can use the SRDVectors tool to find the information about the Cure Wounds  \n",
       "<span style=\"color: #7fbfbf; text-decoration-color: #7fbfbf\">                    </span>         spell in D&amp;D 5e.                                                                      \n",
       "<span style=\"color: #7fbfbf; text-decoration-color: #7fbfbf\">                    </span>                                                                                               \n",
       "<span style=\"color: #7fbfbf; text-decoration-color: #7fbfbf\">                    </span>         Action: <span style=\"font-weight: bold\">{</span><span style=\"color: #008000; text-decoration-color: #008000\">\"type\"</span>: <span style=\"color: #008000; text-decoration-color: #008000\">\"tool\"</span>, <span style=\"color: #008000; text-decoration-color: #008000\">\"name\"</span>: <span style=\"color: #008000; text-decoration-color: #008000\">\"SRDVectors\"</span>, <span style=\"color: #008000; text-decoration-color: #008000\">\"activity\"</span>: <span style=\"color: #008000; text-decoration-color: #008000\">\"query_srd_vectors\"</span>,       \n",
       "<span style=\"color: #7fbfbf; text-decoration-color: #7fbfbf\">                    </span>         <span style=\"color: #008000; text-decoration-color: #008000\">\"input\"</span>: <span style=\"font-weight: bold\">{</span><span style=\"color: #008000; text-decoration-color: #008000\">\"values\"</span>: <span style=\"font-weight: bold\">{</span><span style=\"color: #008000; text-decoration-color: #008000\">\"query\"</span>: <span style=\"color: #008000; text-decoration-color: #008000\">\"What does Cure Wounds do in D&amp;D 5e?\"</span><span style=\"font-weight: bold\">}}}</span>                \n",
       "</pre>\n"
      ],
      "text/plain": [
       "\u001b[2;36m[10/17/23 04:32:22]\u001b[0m\u001b[2;36m \u001b[0m\u001b[34mINFO    \u001b[0m Subtask 2443ccb6e9f34301a77c6b60dc7f2a70                                              \n",
       "\u001b[2;36m                    \u001b[0m         Thought: I can use the SRDVectors tool to find the information about the Cure Wounds  \n",
       "\u001b[2;36m                    \u001b[0m         spell in D&D 5e.                                                                      \n",
       "\u001b[2;36m                    \u001b[0m                                                                                               \n",
       "\u001b[2;36m                    \u001b[0m         Action: \u001b[1m{\u001b[0m\u001b[32m\"type\"\u001b[0m: \u001b[32m\"tool\"\u001b[0m, \u001b[32m\"name\"\u001b[0m: \u001b[32m\"SRDVectors\"\u001b[0m, \u001b[32m\"activity\"\u001b[0m: \u001b[32m\"query_srd_vectors\"\u001b[0m,       \n",
       "\u001b[2;36m                    \u001b[0m         \u001b[32m\"input\"\u001b[0m: \u001b[1m{\u001b[0m\u001b[32m\"values\"\u001b[0m: \u001b[1m{\u001b[0m\u001b[32m\"query\"\u001b[0m: \u001b[32m\"What does Cure Wounds do in D&D 5e?\"\u001b[0m\u001b[1m}\u001b[0m\u001b[1m}\u001b[0m\u001b[1m}\u001b[0m                \n"
      ]
     },
     "metadata": {},
     "output_type": "display_data"
    },
    {
     "name": "stderr",
     "output_type": "stream",
     "text": [
      "WARNING:root:Activity result is not an artifact; converting result to InfoArtifact\n"
     ]
    },
    {
     "data": {
      "text/html": [
       "<pre style=\"white-space:pre;overflow-x:auto;line-height:normal;font-family:Menlo,'DejaVu Sans Mono',consolas,'Courier New',monospace\"><span style=\"color: #7fbfbf; text-decoration-color: #7fbfbf\">[10/17/23 04:32:26] </span><span style=\"color: #000080; text-decoration-color: #000080\">INFO    </span> Subtask 2443ccb6e9f34301a77c6b60dc7f2a70                                              \n",
       "<span style=\"color: #7fbfbf; text-decoration-color: #7fbfbf\">                    </span>         Observation: Cure Wounds is a spell in D&amp;D 5e that allows the caster to heal the      \n",
       "<span style=\"color: #7fbfbf; text-decoration-color: #7fbfbf\">                    </span>         wounds of a target. When casting Cure Wounds, the caster chooses a point within range \n",
       "<span style=\"color: #7fbfbf; text-decoration-color: #7fbfbf\">                    </span>         and a wave of healing energy washes out from that point. The spell can target up to   \n",
       "<span style=\"color: #7fbfbf; text-decoration-color: #7fbfbf\">                    </span>         six creatures within a <span style=\"color: #008080; text-decoration-color: #008080; font-weight: bold\">30</span>-foot radius sphere centered on the chosen point. Each target\n",
       "<span style=\"color: #7fbfbf; text-decoration-color: #7fbfbf\">                    </span>         regains hit points equal to 3d8 plus the caster's spellcasting ability modifier. It's \n",
       "<span style=\"color: #7fbfbf; text-decoration-color: #7fbfbf\">                    </span>         important to note that Cure Wounds has no effect on undead or constructs. The spell   \n",
       "<span style=\"color: #7fbfbf; text-decoration-color: #7fbfbf\">                    </span>         can be cast at higher levels, in which case the amount of healing increases by 1d8 for\n",
       "<span style=\"color: #7fbfbf; text-decoration-color: #7fbfbf\">                    </span>         each slot level above 5th.                                                            \n",
       "</pre>\n"
      ],
      "text/plain": [
       "\u001b[2;36m[10/17/23 04:32:26]\u001b[0m\u001b[2;36m \u001b[0m\u001b[34mINFO    \u001b[0m Subtask 2443ccb6e9f34301a77c6b60dc7f2a70                                              \n",
       "\u001b[2;36m                    \u001b[0m         Observation: Cure Wounds is a spell in D&D 5e that allows the caster to heal the      \n",
       "\u001b[2;36m                    \u001b[0m         wounds of a target. When casting Cure Wounds, the caster chooses a point within range \n",
       "\u001b[2;36m                    \u001b[0m         and a wave of healing energy washes out from that point. The spell can target up to   \n",
       "\u001b[2;36m                    \u001b[0m         six creatures within a \u001b[1;36m30\u001b[0m-foot radius sphere centered on the chosen point. Each target\n",
       "\u001b[2;36m                    \u001b[0m         regains hit points equal to 3d8 plus the caster's spellcasting ability modifier. It's \n",
       "\u001b[2;36m                    \u001b[0m         important to note that Cure Wounds has no effect on undead or constructs. The spell   \n",
       "\u001b[2;36m                    \u001b[0m         can be cast at higher levels, in which case the amount of healing increases by 1d8 for\n",
       "\u001b[2;36m                    \u001b[0m         each slot level above 5th.                                                            \n"
      ]
     },
     "metadata": {},
     "output_type": "display_data"
    },
    {
     "data": {
      "text/html": [
       "<pre style=\"white-space:pre;overflow-x:auto;line-height:normal;font-family:Menlo,'DejaVu Sans Mono',consolas,'Courier New',monospace\"><span style=\"color: #7fbfbf; text-decoration-color: #7fbfbf\">[10/17/23 04:32:30] </span><span style=\"color: #000080; text-decoration-color: #000080\">INFO    </span> AlteryxToolkitTask fb40d616c4ed40e5a9600565e0bbf313                                   \n",
       "<span style=\"color: #7fbfbf; text-decoration-color: #7fbfbf\">                    </span>         Output: Cure Wounds is a spell in D&amp;D 5e that allows the caster to heal the wounds of \n",
       "<span style=\"color: #7fbfbf; text-decoration-color: #7fbfbf\">                    </span>         a target. When casting Cure Wounds, the caster chooses a point within range and a wave\n",
       "<span style=\"color: #7fbfbf; text-decoration-color: #7fbfbf\">                    </span>         of healing energy washes out from that point. The spell can target up to six creatures\n",
       "<span style=\"color: #7fbfbf; text-decoration-color: #7fbfbf\">                    </span>         within a <span style=\"color: #008080; text-decoration-color: #008080; font-weight: bold\">30</span>-foot radius sphere centered on the chosen point. Each target regains hit  \n",
       "<span style=\"color: #7fbfbf; text-decoration-color: #7fbfbf\">                    </span>         points equal to 3d8 plus the caster's spellcasting ability modifier. It's important to\n",
       "<span style=\"color: #7fbfbf; text-decoration-color: #7fbfbf\">                    </span>         note that Cure Wounds has no effect on undead or constructs. The spell can be cast at \n",
       "<span style=\"color: #7fbfbf; text-decoration-color: #7fbfbf\">                    </span>         higher levels, in which case the amount of healing increases by 1d8 for each slot     \n",
       "<span style=\"color: #7fbfbf; text-decoration-color: #7fbfbf\">                    </span>         level above 5th.                                                                      \n",
       "</pre>\n"
      ],
      "text/plain": [
       "\u001b[2;36m[10/17/23 04:32:30]\u001b[0m\u001b[2;36m \u001b[0m\u001b[34mINFO    \u001b[0m AlteryxToolkitTask fb40d616c4ed40e5a9600565e0bbf313                                   \n",
       "\u001b[2;36m                    \u001b[0m         Output: Cure Wounds is a spell in D&D 5e that allows the caster to heal the wounds of \n",
       "\u001b[2;36m                    \u001b[0m         a target. When casting Cure Wounds, the caster chooses a point within range and a wave\n",
       "\u001b[2;36m                    \u001b[0m         of healing energy washes out from that point. The spell can target up to six creatures\n",
       "\u001b[2;36m                    \u001b[0m         within a \u001b[1;36m30\u001b[0m-foot radius sphere centered on the chosen point. Each target regains hit  \n",
       "\u001b[2;36m                    \u001b[0m         points equal to 3d8 plus the caster's spellcasting ability modifier. It's important to\n",
       "\u001b[2;36m                    \u001b[0m         note that Cure Wounds has no effect on undead or constructs. The spell can be cast at \n",
       "\u001b[2;36m                    \u001b[0m         higher levels, in which case the amount of healing increases by 1d8 for each slot     \n",
       "\u001b[2;36m                    \u001b[0m         level above 5th.                                                                      \n"
      ]
     },
     "metadata": {},
     "output_type": "display_data"
    }
   ],
   "source": [
    "response = agent.run(\"What does Cure Wounds do in D&D 5e?\")"
   ]
  },
  {
   "cell_type": "markdown",
   "id": "5a69bdfa-485a-4188-936b-560622011929",
   "metadata": {},
   "source": [
    "Now a question where it's ambiguous whether we're asking within its domain or outside of it.\n",
    "\n",
    "Most of the time, the model just immediately defaults to interpreting the question about D&D, but occasionally, it will do a really interesting chain of thought in which it attempts to resolve the ambiguity on its own. Fingers crossed it does the cool thing."
   ]
  },
  {
   "cell_type": "code",
   "execution_count": 46,
   "id": "7d04ccf8-18ee-4e69-a795-e63f4aa9be18",
   "metadata": {},
   "outputs": [
    {
     "data": {
      "text/html": [
       "<pre style=\"white-space:pre;overflow-x:auto;line-height:normal;font-family:Menlo,'DejaVu Sans Mono',consolas,'Courier New',monospace\"><span style=\"color: #7fbfbf; text-decoration-color: #7fbfbf\">[10/17/23 04:32:32] </span><span style=\"color: #000080; text-decoration-color: #000080\">INFO    </span> AlteryxToolkitTask fb40d616c4ed40e5a9600565e0bbf313                                   \n",
       "<span style=\"color: #7fbfbf; text-decoration-color: #7fbfbf\">                    </span>         Input: What is a monk?                                                                \n",
       "</pre>\n"
      ],
      "text/plain": [
       "\u001b[2;36m[10/17/23 04:32:32]\u001b[0m\u001b[2;36m \u001b[0m\u001b[34mINFO    \u001b[0m AlteryxToolkitTask fb40d616c4ed40e5a9600565e0bbf313                                   \n",
       "\u001b[2;36m                    \u001b[0m         Input: What is a monk?                                                                \n"
      ]
     },
     "metadata": {},
     "output_type": "display_data"
    },
    {
     "data": {
      "text/html": [
       "<pre style=\"white-space:pre;overflow-x:auto;line-height:normal;font-family:Menlo,'DejaVu Sans Mono',consolas,'Courier New',monospace\"><span style=\"color: #7fbfbf; text-decoration-color: #7fbfbf\">[10/17/23 04:32:39] </span><span style=\"color: #000080; text-decoration-color: #000080\">INFO    </span> AlteryxToolkitTask fb40d616c4ed40e5a9600565e0bbf313                                   \n",
       "<span style=\"color: #7fbfbf; text-decoration-color: #7fbfbf\">                    </span>         Output: A monk is a class in Dungeons &amp; Dragons 5th edition. Monks are martial artists\n",
       "<span style=\"color: #7fbfbf; text-decoration-color: #7fbfbf\">                    </span>         who harness their inner ki to perform extraordinary feats of agility, speed, and      \n",
       "<span style=\"color: #7fbfbf; text-decoration-color: #7fbfbf\">                    </span>         combat prowess. They are highly disciplined individuals who have honed their bodies   \n",
       "<span style=\"color: #7fbfbf; text-decoration-color: #7fbfbf\">                    </span>         and minds to achieve a state of harmony and perfection.                               \n",
       "<span style=\"color: #7fbfbf; text-decoration-color: #7fbfbf\">                    </span>                                                                                               \n",
       "<span style=\"color: #7fbfbf; text-decoration-color: #7fbfbf\">                    </span>         Monks possess a unique set of abilities that allow them to excel in unarmed combat,   \n",
       "<span style=\"color: #7fbfbf; text-decoration-color: #7fbfbf\">                    </span>         using their fists and feet as deadly weapons. They are also proficient in a variety of\n",
       "<span style=\"color: #7fbfbf; text-decoration-color: #7fbfbf\">                    </span>         monk weapons, such as shortswords and quarterstaffs. Monks have the ability to make   \n",
       "<span style=\"color: #7fbfbf; text-decoration-color: #7fbfbf\">                    </span>         multiple attacks in a single turn, and they can use their ki points to perform special\n",
       "<span style=\"color: #7fbfbf; text-decoration-color: #7fbfbf\">                    </span>         actions, such as stunning opponents or deflecting projectiles.                        \n",
       "<span style=\"color: #7fbfbf; text-decoration-color: #7fbfbf\">                    </span>                                                                                               \n",
       "<span style=\"color: #7fbfbf; text-decoration-color: #7fbfbf\">                    </span>         In addition to their combat abilities, monks possess a range of other skills and      \n",
       "<span style=\"color: #7fbfbf; text-decoration-color: #7fbfbf\">                    </span>         features. They have exceptional speed and agility, allowing them to move quickly      \n",
       "<span style=\"color: #7fbfbf; text-decoration-color: #7fbfbf\">                    </span>         across the battlefield and avoid attacks. Monks also have a heightened sense of       \n",
       "<span style=\"color: #7fbfbf; text-decoration-color: #7fbfbf\">                    </span>         awareness, granting them proficiency in certain saving throws and the ability to dodge\n",
       "<span style=\"color: #7fbfbf; text-decoration-color: #7fbfbf\">                    </span>         incoming attacks.                                                                     \n",
       "<span style=\"color: #7fbfbf; text-decoration-color: #7fbfbf\">                    </span>                                                                                               \n",
       "<span style=\"color: #7fbfbf; text-decoration-color: #7fbfbf\">                    </span>         Monks follow different monastic traditions, such as the Way of the Open Hand, the Way \n",
       "<span style=\"color: #7fbfbf; text-decoration-color: #7fbfbf\">                    </span>         of Shadow, or the Way of the Four Elements. Each tradition grants the monk additional \n",
       "<span style=\"color: #7fbfbf; text-decoration-color: #7fbfbf\">                    </span>         abilities and features that further enhance their combat prowess or provide unique    \n",
       "<span style=\"color: #7fbfbf; text-decoration-color: #7fbfbf\">                    </span>         utility.                                                                              \n",
       "<span style=\"color: #7fbfbf; text-decoration-color: #7fbfbf\">                    </span>                                                                                               \n",
       "<span style=\"color: #7fbfbf; text-decoration-color: #7fbfbf\">                    </span>         Overall, monks are versatile and agile warriors who rely on their martial arts skills,\n",
       "<span style=\"color: #7fbfbf; text-decoration-color: #7fbfbf\">                    </span>         ki manipulation, and heightened senses to overcome challenges and enemies.            \n",
       "</pre>\n"
      ],
      "text/plain": [
       "\u001b[2;36m[10/17/23 04:32:39]\u001b[0m\u001b[2;36m \u001b[0m\u001b[34mINFO    \u001b[0m AlteryxToolkitTask fb40d616c4ed40e5a9600565e0bbf313                                   \n",
       "\u001b[2;36m                    \u001b[0m         Output: A monk is a class in Dungeons & Dragons 5th edition. Monks are martial artists\n",
       "\u001b[2;36m                    \u001b[0m         who harness their inner ki to perform extraordinary feats of agility, speed, and      \n",
       "\u001b[2;36m                    \u001b[0m         combat prowess. They are highly disciplined individuals who have honed their bodies   \n",
       "\u001b[2;36m                    \u001b[0m         and minds to achieve a state of harmony and perfection.                               \n",
       "\u001b[2;36m                    \u001b[0m                                                                                               \n",
       "\u001b[2;36m                    \u001b[0m         Monks possess a unique set of abilities that allow them to excel in unarmed combat,   \n",
       "\u001b[2;36m                    \u001b[0m         using their fists and feet as deadly weapons. They are also proficient in a variety of\n",
       "\u001b[2;36m                    \u001b[0m         monk weapons, such as shortswords and quarterstaffs. Monks have the ability to make   \n",
       "\u001b[2;36m                    \u001b[0m         multiple attacks in a single turn, and they can use their ki points to perform special\n",
       "\u001b[2;36m                    \u001b[0m         actions, such as stunning opponents or deflecting projectiles.                        \n",
       "\u001b[2;36m                    \u001b[0m                                                                                               \n",
       "\u001b[2;36m                    \u001b[0m         In addition to their combat abilities, monks possess a range of other skills and      \n",
       "\u001b[2;36m                    \u001b[0m         features. They have exceptional speed and agility, allowing them to move quickly      \n",
       "\u001b[2;36m                    \u001b[0m         across the battlefield and avoid attacks. Monks also have a heightened sense of       \n",
       "\u001b[2;36m                    \u001b[0m         awareness, granting them proficiency in certain saving throws and the ability to dodge\n",
       "\u001b[2;36m                    \u001b[0m         incoming attacks.                                                                     \n",
       "\u001b[2;36m                    \u001b[0m                                                                                               \n",
       "\u001b[2;36m                    \u001b[0m         Monks follow different monastic traditions, such as the Way of the Open Hand, the Way \n",
       "\u001b[2;36m                    \u001b[0m         of Shadow, or the Way of the Four Elements. Each tradition grants the monk additional \n",
       "\u001b[2;36m                    \u001b[0m         abilities and features that further enhance their combat prowess or provide unique    \n",
       "\u001b[2;36m                    \u001b[0m         utility.                                                                              \n",
       "\u001b[2;36m                    \u001b[0m                                                                                               \n",
       "\u001b[2;36m                    \u001b[0m         Overall, monks are versatile and agile warriors who rely on their martial arts skills,\n",
       "\u001b[2;36m                    \u001b[0m         ki manipulation, and heightened senses to overcome challenges and enemies.            \n"
      ]
     },
     "metadata": {},
     "output_type": "display_data"
    }
   ],
   "source": [
    "response = agent.run(\"What is a monk?\")"
   ]
  },
  {
   "cell_type": "markdown",
   "id": "ca29dd4f-e071-4e2b-868b-3dbff96eeeb2",
   "metadata": {},
   "source": [
    "Now let's just ask a bunch of questions it shouldn't know answers to and see if the model is starting to get unreliable."
   ]
  },
  {
   "cell_type": "code",
   "execution_count": 47,
   "id": "6c71803f-f2de-4def-a279-f47339b49033",
   "metadata": {},
   "outputs": [
    {
     "data": {
      "text/html": [
       "<pre style=\"white-space:pre;overflow-x:auto;line-height:normal;font-family:Menlo,'DejaVu Sans Mono',consolas,'Courier New',monospace\"><span style=\"color: #7fbfbf; text-decoration-color: #7fbfbf\">[10/17/23 04:32:48] </span><span style=\"color: #000080; text-decoration-color: #000080\">INFO    </span> AlteryxToolkitTask fb40d616c4ed40e5a9600565e0bbf313                                   \n",
       "<span style=\"color: #7fbfbf; text-decoration-color: #7fbfbf\">                    </span>         Input: What is the most populous city on Earth?                                       \n",
       "</pre>\n"
      ],
      "text/plain": [
       "\u001b[2;36m[10/17/23 04:32:48]\u001b[0m\u001b[2;36m \u001b[0m\u001b[34mINFO    \u001b[0m AlteryxToolkitTask fb40d616c4ed40e5a9600565e0bbf313                                   \n",
       "\u001b[2;36m                    \u001b[0m         Input: What is the most populous city on Earth?                                       \n"
      ]
     },
     "metadata": {},
     "output_type": "display_data"
    },
    {
     "data": {
      "text/html": [
       "<pre style=\"white-space:pre;overflow-x:auto;line-height:normal;font-family:Menlo,'DejaVu Sans Mono',consolas,'Courier New',monospace\"><span style=\"color: #7fbfbf; text-decoration-color: #7fbfbf\">[10/17/23 04:32:51] </span><span style=\"color: #000080; text-decoration-color: #000080\">INFO    </span> Subtask b13c1b67bb934caf82fff25ad2f1903b                                              \n",
       "<span style=\"color: #7fbfbf; text-decoration-color: #7fbfbf\">                    </span>         Thought: I don't have this information in my memory. I can use the SRDVectors tool to \n",
       "<span style=\"color: #7fbfbf; text-decoration-color: #7fbfbf\">                    </span>         find the answer.                                                                      \n",
       "<span style=\"color: #7fbfbf; text-decoration-color: #7fbfbf\">                    </span>                                                                                               \n",
       "<span style=\"color: #7fbfbf; text-decoration-color: #7fbfbf\">                    </span>         Action: <span style=\"font-weight: bold\">{</span><span style=\"color: #008000; text-decoration-color: #008000\">\"type\"</span>: <span style=\"color: #008000; text-decoration-color: #008000\">\"tool\"</span>, <span style=\"color: #008000; text-decoration-color: #008000\">\"name\"</span>: <span style=\"color: #008000; text-decoration-color: #008000\">\"SRDVectors\"</span>, <span style=\"color: #008000; text-decoration-color: #008000\">\"activity\"</span>: <span style=\"color: #008000; text-decoration-color: #008000\">\"query_srd_vectors\"</span>,       \n",
       "<span style=\"color: #7fbfbf; text-decoration-color: #7fbfbf\">                    </span>         <span style=\"color: #008000; text-decoration-color: #008000\">\"input\"</span>: <span style=\"font-weight: bold\">{</span><span style=\"color: #008000; text-decoration-color: #008000\">\"values\"</span>: <span style=\"font-weight: bold\">{</span><span style=\"color: #008000; text-decoration-color: #008000\">\"query\"</span>: <span style=\"color: #008000; text-decoration-color: #008000\">\"What is the most populous city on Earth?\"</span><span style=\"font-weight: bold\">}}}</span>           \n",
       "</pre>\n"
      ],
      "text/plain": [
       "\u001b[2;36m[10/17/23 04:32:51]\u001b[0m\u001b[2;36m \u001b[0m\u001b[34mINFO    \u001b[0m Subtask b13c1b67bb934caf82fff25ad2f1903b                                              \n",
       "\u001b[2;36m                    \u001b[0m         Thought: I don't have this information in my memory. I can use the SRDVectors tool to \n",
       "\u001b[2;36m                    \u001b[0m         find the answer.                                                                      \n",
       "\u001b[2;36m                    \u001b[0m                                                                                               \n",
       "\u001b[2;36m                    \u001b[0m         Action: \u001b[1m{\u001b[0m\u001b[32m\"type\"\u001b[0m: \u001b[32m\"tool\"\u001b[0m, \u001b[32m\"name\"\u001b[0m: \u001b[32m\"SRDVectors\"\u001b[0m, \u001b[32m\"activity\"\u001b[0m: \u001b[32m\"query_srd_vectors\"\u001b[0m,       \n",
       "\u001b[2;36m                    \u001b[0m         \u001b[32m\"input\"\u001b[0m: \u001b[1m{\u001b[0m\u001b[32m\"values\"\u001b[0m: \u001b[1m{\u001b[0m\u001b[32m\"query\"\u001b[0m: \u001b[32m\"What is the most populous city on Earth?\"\u001b[0m\u001b[1m}\u001b[0m\u001b[1m}\u001b[0m\u001b[1m}\u001b[0m           \n"
      ]
     },
     "metadata": {},
     "output_type": "display_data"
    },
    {
     "name": "stderr",
     "output_type": "stream",
     "text": [
      "WARNING:root:Activity result is not an artifact; converting result to InfoArtifact\n"
     ]
    },
    {
     "data": {
      "text/html": [
       "<pre style=\"white-space:pre;overflow-x:auto;line-height:normal;font-family:Menlo,'DejaVu Sans Mono',consolas,'Courier New',monospace\"><span style=\"color: #7fbfbf; text-decoration-color: #7fbfbf\">[10/17/23 04:32:52] </span><span style=\"color: #000080; text-decoration-color: #000080\">INFO    </span> Subtask b13c1b67bb934caf82fff25ad2f1903b                                              \n",
       "<span style=\"color: #7fbfbf; text-decoration-color: #7fbfbf\">                    </span>         Observation: The most populous city on Earth is currently Tokyo, Japan.               \n",
       "</pre>\n"
      ],
      "text/plain": [
       "\u001b[2;36m[10/17/23 04:32:52]\u001b[0m\u001b[2;36m \u001b[0m\u001b[34mINFO    \u001b[0m Subtask b13c1b67bb934caf82fff25ad2f1903b                                              \n",
       "\u001b[2;36m                    \u001b[0m         Observation: The most populous city on Earth is currently Tokyo, Japan.               \n"
      ]
     },
     "metadata": {},
     "output_type": "display_data"
    },
    {
     "data": {
      "text/html": [
       "<pre style=\"white-space:pre;overflow-x:auto;line-height:normal;font-family:Menlo,'DejaVu Sans Mono',consolas,'Courier New',monospace\"><span style=\"color: #7fbfbf; text-decoration-color: #7fbfbf\">[10/17/23 04:32:53] </span><span style=\"color: #000080; text-decoration-color: #000080\">INFO    </span> AlteryxToolkitTask fb40d616c4ed40e5a9600565e0bbf313                                   \n",
       "<span style=\"color: #7fbfbf; text-decoration-color: #7fbfbf\">                    </span>         Output: The most populous city on Earth is Tokyo, Japan.                              \n",
       "</pre>\n"
      ],
      "text/plain": [
       "\u001b[2;36m[10/17/23 04:32:53]\u001b[0m\u001b[2;36m \u001b[0m\u001b[34mINFO    \u001b[0m AlteryxToolkitTask fb40d616c4ed40e5a9600565e0bbf313                                   \n",
       "\u001b[2;36m                    \u001b[0m         Output: The most populous city on Earth is Tokyo, Japan.                              \n"
      ]
     },
     "metadata": {},
     "output_type": "display_data"
    }
   ],
   "source": [
    "response = agent.run(\"What is the most populous city on Earth?\")"
   ]
  },
  {
   "cell_type": "code",
   "execution_count": 48,
   "id": "0bccefee-e922-4f8d-aaed-bdbdc3a1e262",
   "metadata": {},
   "outputs": [
    {
     "data": {
      "text/html": [
       "<pre style=\"white-space:pre;overflow-x:auto;line-height:normal;font-family:Menlo,'DejaVu Sans Mono',consolas,'Courier New',monospace\"><span style=\"color: #7fbfbf; text-decoration-color: #7fbfbf\">[10/17/23 04:33:19] </span><span style=\"color: #000080; text-decoration-color: #000080\">INFO    </span> AlteryxToolkitTask fb40d616c4ed40e5a9600565e0bbf313                                   \n",
       "<span style=\"color: #7fbfbf; text-decoration-color: #7fbfbf\">                    </span>         Input: What was the highest grossing movie in <span style=\"color: #008080; text-decoration-color: #008080; font-weight: bold\">2017</span>?                                   \n",
       "</pre>\n"
      ],
      "text/plain": [
       "\u001b[2;36m[10/17/23 04:33:19]\u001b[0m\u001b[2;36m \u001b[0m\u001b[34mINFO    \u001b[0m AlteryxToolkitTask fb40d616c4ed40e5a9600565e0bbf313                                   \n",
       "\u001b[2;36m                    \u001b[0m         Input: What was the highest grossing movie in \u001b[1;36m2017\u001b[0m?                                   \n"
      ]
     },
     "metadata": {},
     "output_type": "display_data"
    },
    {
     "data": {
      "text/html": [
       "<pre style=\"white-space:pre;overflow-x:auto;line-height:normal;font-family:Menlo,'DejaVu Sans Mono',consolas,'Courier New',monospace\"><span style=\"color: #7fbfbf; text-decoration-color: #7fbfbf\">[10/17/23 04:33:21] </span><span style=\"color: #000080; text-decoration-color: #000080\">INFO    </span> Subtask e78b0707faa9444898f9ad44962eba9c                                              \n",
       "<span style=\"color: #7fbfbf; text-decoration-color: #7fbfbf\">                    </span>         Thought: I don't have this information in my memory. I can use the SRDVectors tool to \n",
       "<span style=\"color: #7fbfbf; text-decoration-color: #7fbfbf\">                    </span>         find the answer.                                                                      \n",
       "<span style=\"color: #7fbfbf; text-decoration-color: #7fbfbf\">                    </span>                                                                                               \n",
       "<span style=\"color: #7fbfbf; text-decoration-color: #7fbfbf\">                    </span>         Action: <span style=\"font-weight: bold\">{</span><span style=\"color: #008000; text-decoration-color: #008000\">\"type\"</span>: <span style=\"color: #008000; text-decoration-color: #008000\">\"tool\"</span>, <span style=\"color: #008000; text-decoration-color: #008000\">\"name\"</span>: <span style=\"color: #008000; text-decoration-color: #008000\">\"SRDVectors\"</span>, <span style=\"color: #008000; text-decoration-color: #008000\">\"activity\"</span>: <span style=\"color: #008000; text-decoration-color: #008000\">\"query_srd_vectors\"</span>,       \n",
       "<span style=\"color: #7fbfbf; text-decoration-color: #7fbfbf\">                    </span>         <span style=\"color: #008000; text-decoration-color: #008000\">\"input\"</span>: <span style=\"font-weight: bold\">{</span><span style=\"color: #008000; text-decoration-color: #008000\">\"values\"</span>: <span style=\"font-weight: bold\">{</span><span style=\"color: #008000; text-decoration-color: #008000\">\"query\"</span>: <span style=\"color: #008000; text-decoration-color: #008000\">\"highest grossing movie 2017\"</span><span style=\"font-weight: bold\">}}}</span>                        \n",
       "</pre>\n"
      ],
      "text/plain": [
       "\u001b[2;36m[10/17/23 04:33:21]\u001b[0m\u001b[2;36m \u001b[0m\u001b[34mINFO    \u001b[0m Subtask e78b0707faa9444898f9ad44962eba9c                                              \n",
       "\u001b[2;36m                    \u001b[0m         Thought: I don't have this information in my memory. I can use the SRDVectors tool to \n",
       "\u001b[2;36m                    \u001b[0m         find the answer.                                                                      \n",
       "\u001b[2;36m                    \u001b[0m                                                                                               \n",
       "\u001b[2;36m                    \u001b[0m         Action: \u001b[1m{\u001b[0m\u001b[32m\"type\"\u001b[0m: \u001b[32m\"tool\"\u001b[0m, \u001b[32m\"name\"\u001b[0m: \u001b[32m\"SRDVectors\"\u001b[0m, \u001b[32m\"activity\"\u001b[0m: \u001b[32m\"query_srd_vectors\"\u001b[0m,       \n",
       "\u001b[2;36m                    \u001b[0m         \u001b[32m\"input\"\u001b[0m: \u001b[1m{\u001b[0m\u001b[32m\"values\"\u001b[0m: \u001b[1m{\u001b[0m\u001b[32m\"query\"\u001b[0m: \u001b[32m\"highest grossing movie 2017\"\u001b[0m\u001b[1m}\u001b[0m\u001b[1m}\u001b[0m\u001b[1m}\u001b[0m                        \n"
      ]
     },
     "metadata": {},
     "output_type": "display_data"
    },
    {
     "name": "stderr",
     "output_type": "stream",
     "text": [
      "WARNING:root:Activity result is not an artifact; converting result to InfoArtifact\n"
     ]
    },
    {
     "data": {
      "text/html": [
       "<pre style=\"white-space:pre;overflow-x:auto;line-height:normal;font-family:Menlo,'DejaVu Sans Mono',consolas,'Courier New',monospace\"><span style=\"color: #7fbfbf; text-decoration-color: #7fbfbf\">[10/17/23 04:33:23] </span><span style=\"color: #000080; text-decoration-color: #000080\">INFO    </span> Subtask e78b0707faa9444898f9ad44962eba9c                                              \n",
       "<span style=\"color: #7fbfbf; text-decoration-color: #7fbfbf\">                    </span>         Observation: I'm sorry, but I cannot provide the answer to that query based on the    \n",
       "<span style=\"color: #7fbfbf; text-decoration-color: #7fbfbf\">                    </span>         given context information.                                                            \n",
       "</pre>\n"
      ],
      "text/plain": [
       "\u001b[2;36m[10/17/23 04:33:23]\u001b[0m\u001b[2;36m \u001b[0m\u001b[34mINFO    \u001b[0m Subtask e78b0707faa9444898f9ad44962eba9c                                              \n",
       "\u001b[2;36m                    \u001b[0m         Observation: I'm sorry, but I cannot provide the answer to that query based on the    \n",
       "\u001b[2;36m                    \u001b[0m         given context information.                                                            \n"
      ]
     },
     "metadata": {},
     "output_type": "display_data"
    },
    {
     "data": {
      "text/html": [
       "<pre style=\"white-space:pre;overflow-x:auto;line-height:normal;font-family:Menlo,'DejaVu Sans Mono',consolas,'Courier New',monospace\"><span style=\"color: #7fbfbf; text-decoration-color: #7fbfbf\">[10/17/23 04:33:24] </span><span style=\"color: #000080; text-decoration-color: #000080\">INFO    </span> AlteryxToolkitTask fb40d616c4ed40e5a9600565e0bbf313                                   \n",
       "<span style=\"color: #7fbfbf; text-decoration-color: #7fbfbf\">                    </span>         Output: I apologize, but I don't have the information about the highest grossing movie\n",
       "<span style=\"color: #7fbfbf; text-decoration-color: #7fbfbf\">                    </span>         in <span style=\"color: #008080; text-decoration-color: #008080; font-weight: bold\">2017</span>.                                                                              \n",
       "</pre>\n"
      ],
      "text/plain": [
       "\u001b[2;36m[10/17/23 04:33:24]\u001b[0m\u001b[2;36m \u001b[0m\u001b[34mINFO    \u001b[0m AlteryxToolkitTask fb40d616c4ed40e5a9600565e0bbf313                                   \n",
       "\u001b[2;36m                    \u001b[0m         Output: I apologize, but I don't have the information about the highest grossing movie\n",
       "\u001b[2;36m                    \u001b[0m         in \u001b[1;36m2017\u001b[0m.                                                                              \n"
      ]
     },
     "metadata": {},
     "output_type": "display_data"
    }
   ],
   "source": [
    "response = agent.run(\"What was the highest grossing movie in 2017?\")"
   ]
  },
  {
   "cell_type": "code",
   "execution_count": 49,
   "id": "1e5e0f20-7e44-4b03-9cb8-718d77c59836",
   "metadata": {},
   "outputs": [
    {
     "data": {
      "text/html": [
       "<pre style=\"white-space:pre;overflow-x:auto;line-height:normal;font-family:Menlo,'DejaVu Sans Mono',consolas,'Courier New',monospace\"><span style=\"color: #7fbfbf; text-decoration-color: #7fbfbf\">[10/17/23 04:33:30] </span><span style=\"color: #000080; text-decoration-color: #000080\">INFO    </span> AlteryxToolkitTask fb40d616c4ed40e5a9600565e0bbf313                                   \n",
       "<span style=\"color: #7fbfbf; text-decoration-color: #7fbfbf\">                    </span>         Input: How many wheels does a horse have?                                             \n",
       "</pre>\n"
      ],
      "text/plain": [
       "\u001b[2;36m[10/17/23 04:33:30]\u001b[0m\u001b[2;36m \u001b[0m\u001b[34mINFO    \u001b[0m AlteryxToolkitTask fb40d616c4ed40e5a9600565e0bbf313                                   \n",
       "\u001b[2;36m                    \u001b[0m         Input: How many wheels does a horse have?                                             \n"
      ]
     },
     "metadata": {},
     "output_type": "display_data"
    },
    {
     "data": {
      "text/html": [
       "<pre style=\"white-space:pre;overflow-x:auto;line-height:normal;font-family:Menlo,'DejaVu Sans Mono',consolas,'Courier New',monospace\"><span style=\"color: #7fbfbf; text-decoration-color: #7fbfbf\">[10/17/23 04:33:31] </span><span style=\"color: #000080; text-decoration-color: #000080\">INFO    </span> AlteryxToolkitTask fb40d616c4ed40e5a9600565e0bbf313                                   \n",
       "<span style=\"color: #7fbfbf; text-decoration-color: #7fbfbf\">                    </span>         Output: A horse typically has four legs, but it does not have any wheels.             \n",
       "</pre>\n"
      ],
      "text/plain": [
       "\u001b[2;36m[10/17/23 04:33:31]\u001b[0m\u001b[2;36m \u001b[0m\u001b[34mINFO    \u001b[0m AlteryxToolkitTask fb40d616c4ed40e5a9600565e0bbf313                                   \n",
       "\u001b[2;36m                    \u001b[0m         Output: A horse typically has four legs, but it does not have any wheels.             \n"
      ]
     },
     "metadata": {},
     "output_type": "display_data"
    }
   ],
   "source": [
    "response = agent.run(\"How many wheels does a horse have?\")"
   ]
  }
 ],
 "metadata": {
  "kernelspec": {
   "display_name": "Python 3 (ipykernel)",
   "language": "python",
   "name": "python3"
  },
  "language_info": {
   "codemirror_mode": {
    "name": "ipython",
    "version": 3
   },
   "file_extension": ".py",
   "mimetype": "text/x-python",
   "name": "python",
   "nbconvert_exporter": "python",
   "pygments_lexer": "ipython3",
   "version": "3.11.6"
  }
 },
 "nbformat": 4,
 "nbformat_minor": 5
}
